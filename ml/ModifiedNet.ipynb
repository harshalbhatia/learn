{
  "nbformat": 4,
  "nbformat_minor": 0,
  "metadata": {
    "colab": {
      "name": "ModifiedNet.ipynb",
      "version": "0.3.2",
      "provenance": [],
      "collapsed_sections": []
    },
    "kernelspec": {
      "name": "python3",
      "display_name": "Python 3"
    },
    "accelerator": "GPU"
  },
  "cells": [
    {
      "metadata": {
        "id": "YbZUI4mvNkuD",
        "colab_type": "code",
        "colab": {}
      },
      "cell_type": "code",
      "source": [
        "!pip install -q six numpy scipy keras\n",
        "!pip install -q git+https://www.github.com/keras-team/keras-contrib.git"
      ],
      "execution_count": 0,
      "outputs": []
    },
    {
      "metadata": {
        "id": "TUcYMT-nNozQ",
        "colab_type": "code",
        "colab": {}
      },
      "cell_type": "code",
      "source": [
        "import keras\n",
        "from keras_contrib.applications import DenseNet"
      ],
      "execution_count": 0,
      "outputs": []
    },
    {
      "metadata": {
        "id": "hfaUgVl1No1s",
        "colab_type": "code",
        "colab": {}
      },
      "cell_type": "code",
      "source": [
        "import numpy as np\n",
        "from keras.models import Model, Sequential\n",
        "from keras.layers import Dense\n",
        "from keras.optimizers import SGD\n",
        "from keras.models import load_model\n",
        "from keras_contrib.callbacks import CyclicLR\n",
        "from keras.callbacks import ModelCheckpoint\n",
        "import os,sys"
      ],
      "execution_count": 0,
      "outputs": []
    },
    {
      "metadata": {
        "id": "8XidREcjOOsq",
        "colab_type": "code",
        "colab": {}
      },
      "cell_type": "code",
      "source": [
        "# this part will prevent tensorflow to allocate all the avaliable GPU Memory\n",
        "# backend\n",
        "import tensorflow as tf\n",
        "from keras import backend as k\n",
        "\n",
        "# Don't pre-allocate memory; allocate as-needed\n",
        "config = tf.ConfigProto()\n",
        "config.gpu_options.allow_growth = True\n",
        "\n",
        "# Create a session with the above options specified.\n",
        "k.tensorflow_backend.set_session(tf.Session(config=config))"
      ],
      "execution_count": 0,
      "outputs": []
    },
    {
      "metadata": {
        "id": "NjyhoczMNZWr",
        "colab_type": "code",
        "colab": {}
      },
      "cell_type": "code",
      "source": [
        "def modified_model(src_model,copy_weights=True,n_layers_to_pop=1):\n",
        "  src_model_name = src_model.name if hasattr(src_model,'name') else 'src_model'\n",
        "  print('Cloning the model '+src_model_name)\n",
        "  input_model = keras.models.clone_model(src_model)\n",
        "  print('Popping the last layer')\n",
        "  for i in range(n_layers_to_pop):\n",
        "    input_model.layers.pop()\n",
        "  input_model_output = input_model.layers[-1].output\n",
        "  fc1 = Dense(1024,activation='linear')(input_model_output)\n",
        "  fc2=Dense(10,activation='softmax')(fc1)\n",
        "  print('Creating new model by adding a penultimate Dense layer')\n",
        "  modified_model = Model(input_model.inputs,fc2,name='Modified '+src_model_name)\n",
        "  print('Copying weights from ',src_model_name,'to',modified_model.name)\n",
        "  if copy_weights:\n",
        "    #if 1<0:\n",
        "    #  modified_model.set_weights(src_model.get_weights())\n",
        "    #else:\n",
        "    for i in range(len(input_model.layers)):\n",
        "        print('\\rCopying weights of layer:',i+1,end='')\n",
        "        try:\n",
        "          modified_model.layers[i].set_weights(input_model.layers[i].get_weights())\n",
        "        except Exception as e:\n",
        "          print('\\nError copying weights at layer ',i+1)\n",
        "    #modified_model.layers[-1].set_weights(src_model.layers[-1].get_weights())\n",
        "  return modified_model"
      ],
      "execution_count": 0,
      "outputs": []
    },
    {
      "metadata": {
        "id": "CP_TQAl2QlEP",
        "colab_type": "code",
        "colab": {}
      },
      "cell_type": "code",
      "source": [
        "def add_penultimaye_layer(src_model,layer_dict,n_layers_to_pop=1,copy_weights=True): #layer_dict {type,kernels,activation}\n",
        "  src_model_name = src_model.name if hasattr(src_model,'name') else 'src_model'\n",
        "  print('Cloning the model '+src_model_name)\n",
        "  input_model = keras.models.clone_model(src_model)\n",
        "  print('Popping the last layer')\n",
        "  for i in range(n_layers_to_pop):\n",
        "    input_model.layers.pop()\n",
        "  input_model_output = input_model.layers[-1].output\n",
        "  added_layer = layer_dict['type'](layer_dict['kernels'],activation=layer_dict['activation'])(input_model_output)\n",
        "  last_layer=Dense(10,activation='softmax')(added_layer)\n",
        "  print('Creating new model by adding a penultimate Dense layer')\n",
        "  modified_model = Model(input_model.inputs,last_layer,name='Modified '+src_model_name)\n",
        "  print('Copying weights from ',src_model_name,'to',modified_model.name)\n",
        "  if copy_weights:\n",
        "    #if 1<0:\n",
        "    #  modified_model.set_weights(src_model.get_weights())\n",
        "    #else:\n",
        "    for i in range(len(input_model.layers)):\n",
        "        print('\\rCopying weights of layer:',i+1,end='')\n",
        "        try:\n",
        "          modified_model.layers[i].set_weights(input_model.layers[i].get_weights())\n",
        "        except Exception as e:\n",
        "          print('\\nError copying weights at layer ',i+1)\n",
        "    #modified_model.layers[-1].set_weights(src_model.layers[-1].get_weights())\n",
        "  return modified_model"
      ],
      "execution_count": 0,
      "outputs": []
    },
    {
      "metadata": {
        "id": "otw9dChPScF3",
        "colab_type": "code",
        "colab": {
          "base_uri": "https://localhost:8080/",
          "height": 102
        },
        "outputId": "8d4bc173-0b8b-4145-8c89-09f8b167c26a"
      },
      "cell_type": "code",
      "source": [
        "model = DenseNet(depth=7,nb_dense_block=2)\n",
        "\n",
        "#new_model = modified_model(model,True)\n",
        "new_model = add_penultimaye_layer(model,{'type':Dense,'kernels':1024,'activation':'linear'},copy_weights=True)"
      ],
      "execution_count": 30,
      "outputs": [
        {
          "output_type": "stream",
          "text": [
            "Cloning the model densenet\n",
            "Popping the last layer\n",
            "Creating new model by adding a penultimate Dense layer\n",
            "Copying weights from  densenet to Modified densenet\n",
            "Copying weights of layer: 16"
          ],
          "name": "stdout"
        }
      ]
    },
    {
      "metadata": {
        "id": "-NHsG8BMOXf-",
        "colab_type": "code",
        "colab": {}
      },
      "cell_type": "code",
      "source": [
        "new_model.compile(loss='categorical_crossentropy',metrics=['accuracy'],optimizer=SGD(lr=0.1, decay=1e-6, momentum=0.9, nesterov=True))"
      ],
      "execution_count": 0,
      "outputs": []
    },
    {
      "metadata": {
        "id": "7cPR1nDdTDp_",
        "colab_type": "code",
        "colab": {
          "base_uri": "https://localhost:8080/",
          "height": 748
        },
        "outputId": "fdc82a10-05ac-44ac-efe9-309a0b05d310"
      },
      "cell_type": "code",
      "source": [
        "model.summary()"
      ],
      "execution_count": 32,
      "outputs": [
        {
          "output_type": "stream",
          "text": [
            "__________________________________________________________________________________________________\n",
            "Layer (type)                    Output Shape         Param #     Connected to                     \n",
            "==================================================================================================\n",
            "input_6 (InputLayer)            (None, 32, 32, 3)    0                                            \n",
            "__________________________________________________________________________________________________\n",
            "initial_conv2D (Conv2D)         (None, 32, 32, 24)   648         input_6[0][0]                    \n",
            "__________________________________________________________________________________________________\n",
            "dense_0_0_bn (BatchNormalizatio (None, 32, 32, 24)   96          initial_conv2D[0][0]             \n",
            "__________________________________________________________________________________________________\n",
            "activation_21 (Activation)      (None, 32, 32, 24)   0           dense_0_0_bn[0][0]               \n",
            "__________________________________________________________________________________________________\n",
            "dense_0_0_conv2D (Conv2D)       (None, 32, 32, 12)   2592        activation_21[0][0]              \n",
            "__________________________________________________________________________________________________\n",
            "concatenate_11 (Concatenate)    (None, 32, 32, 36)   0           initial_conv2D[0][0]             \n",
            "                                                                 dense_0_0_conv2D[0][0]           \n",
            "__________________________________________________________________________________________________\n",
            "tr_0_bn (BatchNormalization)    (None, 32, 32, 36)   144         concatenate_11[0][0]             \n",
            "__________________________________________________________________________________________________\n",
            "activation_22 (Activation)      (None, 32, 32, 36)   0           tr_0_bn[0][0]                    \n",
            "__________________________________________________________________________________________________\n",
            "tr_0_conv2D (Conv2D)            (None, 32, 32, 36)   1296        activation_22[0][0]              \n",
            "__________________________________________________________________________________________________\n",
            "average_pooling2d_6 (AveragePoo (None, 16, 16, 36)   0           tr_0_conv2D[0][0]                \n",
            "__________________________________________________________________________________________________\n",
            "dense_1_0_bn (BatchNormalizatio (None, 16, 16, 36)   144         average_pooling2d_6[0][0]        \n",
            "__________________________________________________________________________________________________\n",
            "activation_23 (Activation)      (None, 16, 16, 36)   0           dense_1_0_bn[0][0]               \n",
            "__________________________________________________________________________________________________\n",
            "dense_1_0_conv2D (Conv2D)       (None, 16, 16, 12)   3888        activation_23[0][0]              \n",
            "__________________________________________________________________________________________________\n",
            "concatenate_12 (Concatenate)    (None, 16, 16, 48)   0           average_pooling2d_6[0][0]        \n",
            "                                                                 dense_1_0_conv2D[0][0]           \n",
            "__________________________________________________________________________________________________\n",
            "final_bn (BatchNormalization)   (None, 16, 16, 48)   192         concatenate_12[0][0]             \n",
            "__________________________________________________________________________________________________\n",
            "activation_24 (Activation)      (None, 16, 16, 48)   0           final_bn[0][0]                   \n",
            "__________________________________________________________________________________________________\n",
            "dense_16 (Dense)                (None, 16, 16, 10)   490         activation_24[0][0]              \n",
            "==================================================================================================\n",
            "Total params: 9,490\n",
            "Trainable params: 9,202\n",
            "Non-trainable params: 288\n",
            "__________________________________________________________________________________________________\n"
          ],
          "name": "stdout"
        }
      ]
    },
    {
      "metadata": {
        "id": "fKNcAo1KTmH3",
        "colab_type": "code",
        "colab": {}
      },
      "cell_type": "code",
      "source": [
        ""
      ],
      "execution_count": 0,
      "outputs": []
    }
  ]
}