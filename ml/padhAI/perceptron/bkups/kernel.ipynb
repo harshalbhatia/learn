{
  "cells": [
    {
      "metadata": {
        "trusted": true,
        "_uuid": "3bf83ba8d4ec5654e2aa1c51a503131676c54fe0"
      },
      "cell_type": "code",
      "source": "import numpy as np\nimport pandas as pd\nimport matplotlib.pyplot as plt\nfrom sklearn.preprocessing import LabelEncoder,MinMaxScaler, StandardScaler\nfrom sklearn.model_selection import train_test_split, ParameterGrid\nfrom sklearn.metrics import accuracy_score, confusion_matrix, mean_squared_error, log_loss\nimport operator\nimport json\nfrom IPython import display\nimport os\nimport warnings\n\nnp.random.seed(0)\nwarnings.filterwarnings(\"ignore\")\nTHRESHOLD = 4\nimport matplotlib\n%matplotlib inline",
      "execution_count": 20,
      "outputs": []
    },
    {
      "metadata": {
        "_uuid": "7afbf969763bea67d440cc274b5e92cdecf7f5af"
      },
      "cell_type": "markdown",
      "source": "Task: To predict whether the user likes the mobile phone or not. <br>\nAssumption: If the average rating of mobile >= threshold, then the user likes it, otherwise not."
    },
    {
      "metadata": {
        "_uuid": "87a8fe0474d2dd8c8dd3d5cc76ea5c4486d4fcf6"
      },
      "cell_type": "markdown",
      "source": "<b>Missing values:</b><br>\n'Also Known As'(459),'Applications'(421),'Audio Features'(437),'**Bezel-less display**'(266),'Browser'(449),'Build Material'(338),'Co-Processor'(451),'Display Colour'(457),'Mobile High-Definition Link(MHL)'(472),'Music'(447)\n'Email','**Fingerprint Sensor Position**'(174),'Games'(446),'HDMI'(454),'Heart Rate Monitor'(467),'IRIS Scanner'(467),\n'**Optical Image Stabilisation**'(219),'Other Facilities'(444),'Phone Book'(444),'Physical Aperture'(87),'**Quick Charging**'(122),'Ring Tone'(444),'Ruggedness'(430),SAR Value(315),'SIM 3'(472),'SMS'(470)', 'Screen Protection'(229),'**Screen to Body Ratio** (claimed by the brand)'(428),'Sensor'(242),'Software Based Aperture'(473),\n'**Special Features**'(459),'Standby time'(334),'Stylus'(473),'TalkTime'(259), '**USB Type-C**'(374),'Video Player'(456),\n'Video Recording Features'(458),'**Waterproof**'(398),'**Wireless Charging**','**USB OTG Support**'(159), 'Video ,'Recording'(113),'Java'(471),'Browser'(448)\n\n<b>Very low variance:</b><br>\n'Architecture'(most entries are 64-bit),'Audio Jack','GPS','Loudspeaker','Network','Network Support','Other Sensors'(28),'SIM Size', 'VoLTE'\n\n\n<b>Multivalued:</b><br>\n'Colours','Custom UI','Model'(1),'Other Sensors','Launch Date'\n\n<b>Not important:</b><br>\n'Bluetooth', 'Settings'(75),'Wi-Fi','Wi-Fi Features'\n\n<b>Doubtful:</b><br>\n'Aspect Ratio','Autofocus','Brand','Camera Features','Fingerprint Sensor'(very few entries are missing),\n'Fingerprint Sensor Position', 'Graphics'(multivalued),'Image resolution'(multivalued),'SIM Size','Sim Slot(s)', 'User Available Storage', 'SIM 1', 'SIM 2','Shooting Modes', 'Touch Screen'(24), 'USB Connectivity'\n    \n<b>To check:</b><br>\n'Display Type','Expandable Memory','FM Radio'\n\n<b>High Correlation with other features</b><br>\n'SIM Slot(s)' high correlation with SIM1\n'Weight' has high high correlation with capacity , screen-to-body ratio\n'Height' - screen size is also there\n    \n<b>Given a mobile, we can't directly get these features</b><br>\n'Rating Count', 'Review Count'\n\n<b>Keeping:</b><br>\n'Capacity','Flash'(17),'Height'(22),'Internal Memory'(20, require cleaning),'Operating System'(25, require cleaning), 'Pixel Density'(1, clean it),'Processor'(22, clean it), 'RAM'(17, clean), 'Rating','Resolution'(cleaning), 'Screen Resolution','Screen Size', 'Thickness'(22), 'Type','User Replaceable','Weight'(cleaning),'Sim Size'(), 'Other Sensors'(28), 'Screen to Body Ratio (calculated)','Width',\n"
    },
    {
      "metadata": {
        "trusted": true,
        "_uuid": "05b640c3d3be0670eabfd79f6bc3dce3fff5bf9b"
      },
      "cell_type": "code",
      "source": "# read data from file\ntrain = pd.read_csv(\"../input/train.csv\") \ntest = pd.read_csv(\"../input/test.csv\")\n\n# check the number of features and data points in train\nprint(\"Number of data points in train: %d\" % train.shape[0])\nprint(\"Number of features in train: %d\" % train.shape[1])\n\n# check the number of features and data points in test\nprint(\"Number of data points in test: %d\" % test.shape[0])\nprint(\"Number of features in test: %d\" % test.shape[1])",
      "execution_count": 21,
      "outputs": [
        {
          "output_type": "stream",
          "text": "Number of data points in train: 355\nNumber of features in train: 99\nNumber of data points in test: 119\nNumber of features in test: 98\n",
          "name": "stdout"
        }
      ]
    },
    {
      "metadata": {
        "trusted": true,
        "_uuid": "4c0dbbcfaf60e0634ff294f330d881651308b5be"
      },
      "cell_type": "code",
      "source": "def data_clean(data):\n    \n    # Let's first remove all missing value features\n    columns_to_remove = ['Also Known As','Applications','Audio Features','Bezel-less display'\n                         'Browser','Build Material','Co-Processor','Browser'\n                         'Display Colour','Mobile High-Definition Link(MHL)',\n                         'Music', 'Email','Fingerprint Sensor Position',\n                         'Games','HDMI','Heart Rate Monitor','IRIS Scanner', \n                         'Optical Image Stabilisation','Other Facilities',\n                         'Phone Book','Physical Aperture','Quick Charging',\n                         'Ring Tone','Ruggedness','SAR Value','SIM 3','SMS',\n                         'Screen Protection','Screen to Body Ratio (claimed by the brand)',\n                         'Sensor','Software Based Aperture', 'Special Features',\n                         'Standby time','Stylus','TalkTime', 'USB Type-C',\n                         'Video Player', 'Video Recording Features','Waterproof',\n                         'Wireless Charging','USB OTG Support', 'Video Recording','Java']\n\n    columns_to_retain = list(set(data.columns)-set(columns_to_remove))\n    data = data[columns_to_retain]\n\n    #Features having very low variance \n    columns_to_remove = ['Architecture','Audio Jack','GPS','Loudspeaker','Network','Network Support','VoLTE']\n    columns_to_retain = list(set(data.columns)-set(columns_to_remove))\n    data = data[columns_to_retain]\n\n    # Multivalued:\n    columns_to_remove = ['Architecture','Launch Date','Audio Jack','GPS','Loudspeaker','Network','Network Support','VoLTE', 'Custom UI']\n    columns_to_retain = list(set(data.columns)-set(columns_to_remove))\n    data = data[columns_to_retain]\n\n    # Not much important\n    columns_to_remove = ['Bluetooth', 'Settings','Wi-Fi','Wi-Fi Features']\n    columns_to_retain = list(set(data.columns)-set(columns_to_remove))\n    data = data[columns_to_retain]\n    \n    return data",
      "execution_count": 22,
      "outputs": []
    },
    {
      "metadata": {
        "_uuid": "d3b5bb6946d956d3a7f720fbb2916e411d35b380"
      },
      "cell_type": "markdown",
      "source": "# Removing features"
    },
    {
      "metadata": {
        "trusted": true,
        "_uuid": "93aaf68b4c673dd0571669de508a31f5d8ebbe4b"
      },
      "cell_type": "code",
      "source": "train = data_clean(train)\ntest = data_clean(test)",
      "execution_count": 23,
      "outputs": []
    },
    {
      "metadata": {
        "_uuid": "220d952826be942dcc6f22439d2ed4b5025d5f1f"
      },
      "cell_type": "markdown",
      "source": "removing all those data points in which more than 15 features are missing "
    },
    {
      "metadata": {
        "trusted": true,
        "_uuid": "1b664a4305d37359156eeda00adceeac093f5b47"
      },
      "cell_type": "code",
      "source": "train = train[(train.isnull().sum(axis=1) <= 15)]\n# You shouldn't remove data points from test set\n#test = test[(test.isnull().sum(axis=1) <= 15)]",
      "execution_count": 24,
      "outputs": []
    },
    {
      "metadata": {
        "trusted": true,
        "_uuid": "28fe52b1b9c296e6801318d6998a8bbff60f0de2"
      },
      "cell_type": "code",
      "source": "# check the number of features and data points in train\nprint(\"Number of data points in train: %d\" % train.shape[0])\nprint(\"Number of features in train: %d\" % train.shape[1])\n\n# check the number of features and data points in test\nprint(\"Number of data points in test: %d\" % test.shape[0])\nprint(\"Number of features in test: %d\" % test.shape[1])",
      "execution_count": 25,
      "outputs": [
        {
          "output_type": "stream",
          "text": "Number of data points in train: 341\nNumber of features in train: 47\nNumber of data points in test: 119\nNumber of features in test: 46\n",
          "name": "stdout"
        }
      ]
    },
    {
      "metadata": {
        "_uuid": "60d7aef59a803ba04ea0559561f28a518b14f97e"
      },
      "cell_type": "markdown",
      "source": "# Filling Missing values"
    },
    {
      "metadata": {
        "trusted": true,
        "_uuid": "943424b302e4cf60656f3bd63ae0c3cf7a453849"
      },
      "cell_type": "code",
      "source": "def for_integer(test):\n    try:\n        test = test.strip()\n        return int(test.split(' ')[0])\n    except IOError:\n           pass\n    except ValueError:\n        pass\n    except:\n        pass\n\ndef for_string(test):\n    try:\n        test = test.strip()\n        return (test.split(' ')[0])\n    except IOError:\n        pass\n    except ValueError:\n        pass\n    except:\n        pass\n\ndef for_float(test):\n    try:\n        test = test.strip()\n        return float(test.split(' ')[0])\n    except IOError:\n        pass\n    except ValueError:\n        pass\n    except:\n        pass\ndef find_freq(test):\n    try:\n        test = test.strip()\n        test = test.split(' ')\n        if test[2][0] == '(':\n            return float(test[2][1:])\n        return float(test[2])\n    except IOError:\n        pass\n    except ValueError:\n        pass\n    except:\n        pass\n\n    \ndef for_Internal_Memory(test):\n    try:\n        test = test.strip()\n        test = test.split(' ')\n        if test[1] == 'GB':\n            return int(test[0])\n        if test[1] == 'MB':\n#             print(\"here\")\n            return (int(test[0]) * 0.001)\n    except IOError:\n           pass\n    except ValueError:\n        pass\n    except:\n        pass\n    \ndef find_freq(test):\n    try:\n        test = test.strip()\n        test = test.split(' ')\n        if test[2][0] == '(':\n            return float(test[2][1:])\n        return float(test[2])\n    except IOError:\n        pass\n    except ValueError:\n        pass\n    except:\n        pass\n",
      "execution_count": 26,
      "outputs": []
    },
    {
      "metadata": {
        "trusted": true,
        "_uuid": "84a2e20257125ae5ee56c228b6b5e29f0dc4206d"
      },
      "cell_type": "code",
      "source": "def data_clean_2(x):\n    data = x.copy()\n    \n    data['Capacity'] = data['Capacity'].apply(for_integer)\n\n    data['Height'] = data['Height'].apply(for_float)\n    data['Height'] = data['Height'].fillna(data['Height'].mean())\n\n    data['Internal Memory'] = data['Internal Memory'].apply(for_Internal_Memory)\n\n    data['Pixel Density'] = data['Pixel Density'].apply(for_integer)\n\n    data['Internal Memory'] = data['Internal Memory'].fillna(data['Internal Memory'].median())\n    data['Internal Memory'] = data['Internal Memory'].astype(int)\n\n    data['RAM'] = data['RAM'].apply(for_integer)\n    data['RAM'] = data['RAM'].fillna(data['RAM'].median())\n    data['RAM'] = data['RAM'].astype(int)\n\n    data['Resolution'] = data['Resolution'].apply(for_integer)\n    data['Resolution'] = data['Resolution'].fillna(data['Resolution'].median())\n    data['Resolution'] = data['Resolution'].astype(int)\n\n    data['Screen Size'] = data['Screen Size'].apply(for_float)\n\n    data['Thickness'] = data['Thickness'].apply(for_float)\n    data['Thickness'] = data['Thickness'].fillna(data['Thickness'].mean())\n    data['Thickness'] = data['Thickness'].round(2)\n\n    data['Type'] = data['Type'].fillna('Li-Polymer')\n\n    data['Screen to Body Ratio (calculated)'] = data['Screen to Body Ratio (calculated)'].apply(for_float)\n    data['Screen to Body Ratio (calculated)'] = data['Screen to Body Ratio (calculated)'].fillna(data['Screen to Body Ratio (calculated)'].mean())\n    data['Screen to Body Ratio (calculated)'] = data['Screen to Body Ratio (calculated)'].round(2)\n\n    data['Width'] = data['Width'].apply(for_float)\n    data['Width'] = data['Width'].fillna(data['Width'].mean())\n    data['Width'] = data['Width'].round(2)\n\n    data['Flash'][data['Flash'].isna() == True] = \"Other\"\n\n    data['User Replaceable'][data['User Replaceable'].isna() == True] = \"Other\"\n\n    data['Num_cores'] = data['Processor'].apply(for_string)\n    data['Num_cores'][data['Num_cores'].isna() == True] = \"Other\"\n\n\n    data['Processor_frequency'] = data['Processor'].apply(find_freq)\n    #because there is one entry with 208MHz values, to convert it to GHz\n    data['Processor_frequency'][data['Processor_frequency'] > 200] = 0.208\n    data['Processor_frequency'] = data['Processor_frequency'].fillna(data['Processor_frequency'].mean())\n    data['Processor_frequency'] = data['Processor_frequency'].round(2)\n\n    data['Camera Features'][data['Camera Features'].isna() == True] = \"Other\"\n\n    #simplifyig Operating System to os_name for simplicity\n    data['os_name'] = data['Operating System'].apply(for_string)\n    data['os_name'][data['os_name'].isna() == True] = \"Other\"\n\n    data['Sim1'] = data['SIM 1'].apply(for_string)\n\n    data['SIM Size'][data['SIM Size'].isna() == True] = \"Other\"\n\n    data['Image Resolution'][data['Image Resolution'].isna() == True] = \"Other\"\n\n    data['Fingerprint Sensor'][data['Fingerprint Sensor'].isna() == True] = \"Other\"\n\n    data['Expandable Memory'][data['Expandable Memory'].isna() == True] = \"No\"\n\n    data['Weight'] = data['Weight'].apply(for_integer)\n    data['Weight'] = data['Weight'].fillna(data['Weight'].mean())\n    data['Weight'] = data['Weight'].astype(int)\n\n    data['SIM 2'] = data['SIM 2'].apply(for_string)\n    data['SIM 2'][data['SIM 2'].isna() == True] = \"Other\"\n    \n    return data",
      "execution_count": 27,
      "outputs": []
    },
    {
      "metadata": {
        "trusted": true,
        "_uuid": "6606cc14620dfef00cadaca32f35aa5811dc9eb4"
      },
      "cell_type": "code",
      "source": "train = data_clean_2(train)\ntest = data_clean_2(test)\n\n# check the number of features and data points in train\nprint(\"Number of data points in train: %d\" % train.shape[0])\nprint(\"Number of features in train: %d\" % train.shape[1])\n\n# check the number of features and data points in test\nprint(\"Number of data points in test: %d\" % test.shape[0])\nprint(\"Number of features in test: %d\" % test.shape[1])",
      "execution_count": 28,
      "outputs": [
        {
          "output_type": "stream",
          "text": "Number of data points in train: 341\nNumber of features in train: 51\nNumber of data points in test: 119\nNumber of features in test: 50\n",
          "name": "stdout"
        }
      ]
    },
    {
      "metadata": {
        "_uuid": "7a22a088d0388771b7da1c85c673c645f7fe635b"
      },
      "cell_type": "markdown",
      "source": "Not very important feature"
    },
    {
      "metadata": {
        "trusted": true,
        "_uuid": "34329a77ac0bc23ddb915869a7af31cfb5e4ac06"
      },
      "cell_type": "code",
      "source": "def data_clean_3(x):\n    \n    data = x.copy()\n\n    columns_to_remove = ['User Available Storage','SIM Size','Chipset','Processor','Autofocus','Aspect Ratio','Touch Screen',\n                        'Bezel-less display','Operating System','SIM 1','USB Connectivity','Other Sensors','Graphics','FM Radio',\n                        'NFC','Shooting Modes','Browser','Display Colour' ]\n\n    columns_to_retain = list(set(data.columns)-set(columns_to_remove))\n    data = data[columns_to_retain]\n\n\n    columns_to_remove = [ 'Screen Resolution','User Replaceable','Camera Features',\n                        'Thickness', 'Display Type']\n\n    columns_to_retain = list(set(data.columns)-set(columns_to_remove))\n    data = data[columns_to_retain]\n\n\n    columns_to_remove = ['Fingerprint Sensor', 'Flash', 'Rating Count', 'Review Count','Image Resolution','Type','Expandable Memory',\\\n                        'Colours','Width','Model']\n    columns_to_retain = list(set(data.columns)-set(columns_to_remove))\n    data = data[columns_to_retain]\n\n    return data",
      "execution_count": 29,
      "outputs": []
    },
    {
      "metadata": {
        "trusted": true,
        "_uuid": "69656278c3887c2e7d34375f27a0a2c8b6945c01"
      },
      "cell_type": "code",
      "source": "train = data_clean_3(train)\ntest = data_clean_3(test)\n\n# check the number of features and data points in train\nprint(\"Number of data points in train: %d\" % train.shape[0])\nprint(\"Number of features in train: %d\" % train.shape[1])\n\n# check the number of features and data points in test\nprint(\"Number of data points in test: %d\" % test.shape[0])\nprint(\"Number of features in test: %d\" % test.shape[1])",
      "execution_count": 30,
      "outputs": [
        {
          "output_type": "stream",
          "text": "Number of data points in train: 341\nNumber of features in train: 18\nNumber of data points in test: 119\nNumber of features in test: 17\n",
          "name": "stdout"
        }
      ]
    },
    {
      "metadata": {
        "trusted": true,
        "_uuid": "428a0c34ff1fc15f7128bb31416eb6f6ff35597d"
      },
      "cell_type": "code",
      "source": "# one hot encoding\n\ntrain_ids = train['PhoneId']\ntest_ids = test['PhoneId']\n\ncols = list(test.columns)\ncols.remove('PhoneId')\ncols.insert(0, 'PhoneId')\n\ncombined = pd.concat([train.drop('Rating', axis=1)[cols], test[cols]])\nprint(combined.shape)\nprint(combined.columns)\n#combined = combined.drop(['Brand'],axis=1)\ncombined = pd.get_dummies(combined)\nprint(combined.shape)\nprint(combined.columns)\n\ntrain_new = combined[combined['PhoneId'].isin(train_ids)]\ntest_new = combined[combined['PhoneId'].isin(test_ids)]",
      "execution_count": 31,
      "outputs": [
        {
          "output_type": "stream",
          "text": "(460, 17)\nIndex(['PhoneId', 'SIM 2', 'Internal Memory', 'Capacity',\n       'Screen to Body Ratio (calculated)', 'Sim1', 'Screen Size', 'os_name',\n       'Num_cores', 'Height', 'Weight', 'SIM Slot(s)', 'Pixel Density', 'RAM',\n       'Processor_frequency', 'Brand', 'Resolution'],\n      dtype='object')\n(460, 87)\nIndex(['PhoneId', 'Internal Memory', 'Capacity',\n       'Screen to Body Ratio (calculated)', 'Screen Size', 'Height', 'Weight',\n       'Pixel Density', 'RAM', 'Processor_frequency', 'Resolution', 'SIM 2_2G',\n       'SIM 2_3G', 'SIM 2_4G', 'SIM 2_Other', 'Sim1_2G', 'Sim1_3G', 'Sim1_4G',\n       'os_name_Android', 'os_name_Blackberry', 'os_name_KAI', 'os_name_Nokia',\n       'os_name_Other', 'os_name_Tizen', 'os_name_iOS', 'Num_cores_312',\n       'Num_cores_Deca', 'Num_cores_Dual', 'Num_cores_Hexa', 'Num_cores_Octa',\n       'Num_cores_Other', 'Num_cores_Quad', 'Num_cores_Tru-Octa',\n       'SIM Slot(s)_Dual SIM, GSM+CDMA', 'SIM Slot(s)_Dual SIM, GSM+GSM',\n       'SIM Slot(s)_Dual SIM, GSM+GSM, Dual VoLTE',\n       'SIM Slot(s)_Single SIM, GSM', 'Brand_10.or', 'Brand_Apple',\n       'Brand_Asus', 'Brand_Billion', 'Brand_Blackberry', 'Brand_Comio',\n       'Brand_Coolpad', 'Brand_Do', 'Brand_Gionee', 'Brand_Google',\n       'Brand_HTC', 'Brand_Honor', 'Brand_Huawei', 'Brand_InFocus',\n       'Brand_Infinix', 'Brand_Intex', 'Brand_Itel', 'Brand_Jivi',\n       'Brand_Karbonn', 'Brand_LG', 'Brand_Lava', 'Brand_LeEco',\n       'Brand_Lenovo', 'Brand_Lephone', 'Brand_Lyf', 'Brand_Meizu',\n       'Brand_Micromax', 'Brand_Mobiistar', 'Brand_Moto', 'Brand_Motorola',\n       'Brand_Nokia', 'Brand_Nubia', 'Brand_OPPO', 'Brand_OnePlus',\n       'Brand_Oppo', 'Brand_Panasonic', 'Brand_Razer', 'Brand_Realme',\n       'Brand_Reliance', 'Brand_Samsung', 'Brand_Sony', 'Brand_Spice',\n       'Brand_Tecno', 'Brand_Ulefone', 'Brand_VOTO', 'Brand_Vivo',\n       'Brand_Xiaomi', 'Brand_Xiaomi Poco', 'Brand_Yu', 'Brand_iVooMi'],\n      dtype='object')\n",
          "name": "stdout"
        }
      ]
    },
    {
      "metadata": {
        "trusted": true,
        "_uuid": "ae481026f74149d4685e1c33e9432d9bdb9914ad"
      },
      "cell_type": "code",
      "source": "train_new = train_new.merge(train[['PhoneId', 'Rating']], on='PhoneId')",
      "execution_count": 32,
      "outputs": []
    },
    {
      "metadata": {
        "trusted": true,
        "_uuid": "44bd8da8a392f40494615f3ea7ddd4bdcaae41fa"
      },
      "cell_type": "code",
      "source": "# check the number of features and data points in train\nprint(\"Number of data points in train: %d\" % train_new.shape[0])\nprint(\"Number of features in train: %d\" % train_new.shape[1])\n\n# check the number of features and data points in test\nprint(\"Number of data points in test: %d\" % test_new.shape[0])\nprint(\"Number of features in test: %d\" % test_new.shape[1])",
      "execution_count": 33,
      "outputs": [
        {
          "output_type": "stream",
          "text": "Number of data points in train: 341\nNumber of features in train: 88\nNumber of data points in test: 119\nNumber of features in test: 87\n",
          "name": "stdout"
        }
      ]
    },
    {
      "metadata": {
        "trusted": true,
        "_uuid": "990a43ef181305023ad1a99498da76119fda4824"
      },
      "cell_type": "code",
      "source": "train_new.head()",
      "execution_count": 34,
      "outputs": [
        {
          "output_type": "execute_result",
          "execution_count": 34,
          "data": {
            "text/plain": "   PhoneId  Internal Memory  Capacity   ...    Brand_Yu  Brand_iVooMi  Rating\n0        0               64      4000   ...           0             0     4.5\n1        1               32      4230   ...           0             0     4.5\n2        2               32      3500   ...           0             0     4.4\n3        4               64      3300   ...           0             0     4.3\n4        5               64      3750   ...           0             0     4.4\n\n[5 rows x 88 columns]",
            "text/html": "<div>\n<style scoped>\n    .dataframe tbody tr th:only-of-type {\n        vertical-align: middle;\n    }\n\n    .dataframe tbody tr th {\n        vertical-align: top;\n    }\n\n    .dataframe thead th {\n        text-align: right;\n    }\n</style>\n<table border=\"1\" class=\"dataframe\">\n  <thead>\n    <tr style=\"text-align: right;\">\n      <th></th>\n      <th>PhoneId</th>\n      <th>Internal Memory</th>\n      <th>Capacity</th>\n      <th>Screen to Body Ratio (calculated)</th>\n      <th>Screen Size</th>\n      <th>Height</th>\n      <th>Weight</th>\n      <th>Pixel Density</th>\n      <th>RAM</th>\n      <th>Processor_frequency</th>\n      <th>Resolution</th>\n      <th>SIM 2_2G</th>\n      <th>SIM 2_3G</th>\n      <th>SIM 2_4G</th>\n      <th>SIM 2_Other</th>\n      <th>Sim1_2G</th>\n      <th>Sim1_3G</th>\n      <th>Sim1_4G</th>\n      <th>os_name_Android</th>\n      <th>os_name_Blackberry</th>\n      <th>os_name_KAI</th>\n      <th>os_name_Nokia</th>\n      <th>os_name_Other</th>\n      <th>os_name_Tizen</th>\n      <th>os_name_iOS</th>\n      <th>Num_cores_312</th>\n      <th>Num_cores_Deca</th>\n      <th>Num_cores_Dual</th>\n      <th>Num_cores_Hexa</th>\n      <th>Num_cores_Octa</th>\n      <th>Num_cores_Other</th>\n      <th>Num_cores_Quad</th>\n      <th>Num_cores_Tru-Octa</th>\n      <th>SIM Slot(s)_Dual SIM, GSM+CDMA</th>\n      <th>SIM Slot(s)_Dual SIM, GSM+GSM</th>\n      <th>SIM Slot(s)_Dual SIM, GSM+GSM, Dual VoLTE</th>\n      <th>SIM Slot(s)_Single SIM, GSM</th>\n      <th>Brand_10.or</th>\n      <th>Brand_Apple</th>\n      <th>Brand_Asus</th>\n      <th>...</th>\n      <th>Brand_Honor</th>\n      <th>Brand_Huawei</th>\n      <th>Brand_InFocus</th>\n      <th>Brand_Infinix</th>\n      <th>Brand_Intex</th>\n      <th>Brand_Itel</th>\n      <th>Brand_Jivi</th>\n      <th>Brand_Karbonn</th>\n      <th>Brand_LG</th>\n      <th>Brand_Lava</th>\n      <th>Brand_LeEco</th>\n      <th>Brand_Lenovo</th>\n      <th>Brand_Lephone</th>\n      <th>Brand_Lyf</th>\n      <th>Brand_Meizu</th>\n      <th>Brand_Micromax</th>\n      <th>Brand_Mobiistar</th>\n      <th>Brand_Moto</th>\n      <th>Brand_Motorola</th>\n      <th>Brand_Nokia</th>\n      <th>Brand_Nubia</th>\n      <th>Brand_OPPO</th>\n      <th>Brand_OnePlus</th>\n      <th>Brand_Oppo</th>\n      <th>Brand_Panasonic</th>\n      <th>Brand_Razer</th>\n      <th>Brand_Realme</th>\n      <th>Brand_Reliance</th>\n      <th>Brand_Samsung</th>\n      <th>Brand_Sony</th>\n      <th>Brand_Spice</th>\n      <th>Brand_Tecno</th>\n      <th>Brand_Ulefone</th>\n      <th>Brand_VOTO</th>\n      <th>Brand_Vivo</th>\n      <th>Brand_Xiaomi</th>\n      <th>Brand_Xiaomi Poco</th>\n      <th>Brand_Yu</th>\n      <th>Brand_iVooMi</th>\n      <th>Rating</th>\n    </tr>\n  </thead>\n  <tbody>\n    <tr>\n      <th>0</th>\n      <td>0</td>\n      <td>64</td>\n      <td>4000</td>\n      <td>80.68</td>\n      <td>6.26</td>\n      <td>157.9</td>\n      <td>182</td>\n      <td>403</td>\n      <td>4</td>\n      <td>1.8</td>\n      <td>20</td>\n      <td>0</td>\n      <td>0</td>\n      <td>1</td>\n      <td>0</td>\n      <td>0</td>\n      <td>0</td>\n      <td>1</td>\n      <td>1</td>\n      <td>0</td>\n      <td>0</td>\n      <td>0</td>\n      <td>0</td>\n      <td>0</td>\n      <td>0</td>\n      <td>0</td>\n      <td>0</td>\n      <td>0</td>\n      <td>0</td>\n      <td>1</td>\n      <td>0</td>\n      <td>0</td>\n      <td>0</td>\n      <td>0</td>\n      <td>0</td>\n      <td>1</td>\n      <td>0</td>\n      <td>0</td>\n      <td>0</td>\n      <td>0</td>\n      <td>...</td>\n      <td>0</td>\n      <td>0</td>\n      <td>0</td>\n      <td>0</td>\n      <td>0</td>\n      <td>0</td>\n      <td>0</td>\n      <td>0</td>\n      <td>0</td>\n      <td>0</td>\n      <td>0</td>\n      <td>0</td>\n      <td>0</td>\n      <td>0</td>\n      <td>0</td>\n      <td>0</td>\n      <td>0</td>\n      <td>0</td>\n      <td>0</td>\n      <td>0</td>\n      <td>0</td>\n      <td>0</td>\n      <td>0</td>\n      <td>0</td>\n      <td>0</td>\n      <td>0</td>\n      <td>0</td>\n      <td>0</td>\n      <td>0</td>\n      <td>0</td>\n      <td>0</td>\n      <td>0</td>\n      <td>0</td>\n      <td>0</td>\n      <td>0</td>\n      <td>1</td>\n      <td>0</td>\n      <td>0</td>\n      <td>0</td>\n      <td>4.5</td>\n    </tr>\n    <tr>\n      <th>1</th>\n      <td>1</td>\n      <td>32</td>\n      <td>4230</td>\n      <td>80.85</td>\n      <td>6.20</td>\n      <td>156.2</td>\n      <td>168</td>\n      <td>271</td>\n      <td>3</td>\n      <td>1.8</td>\n      <td>8</td>\n      <td>0</td>\n      <td>0</td>\n      <td>1</td>\n      <td>0</td>\n      <td>0</td>\n      <td>0</td>\n      <td>1</td>\n      <td>1</td>\n      <td>0</td>\n      <td>0</td>\n      <td>0</td>\n      <td>0</td>\n      <td>0</td>\n      <td>0</td>\n      <td>0</td>\n      <td>0</td>\n      <td>0</td>\n      <td>0</td>\n      <td>1</td>\n      <td>0</td>\n      <td>0</td>\n      <td>0</td>\n      <td>0</td>\n      <td>0</td>\n      <td>1</td>\n      <td>0</td>\n      <td>0</td>\n      <td>0</td>\n      <td>0</td>\n      <td>...</td>\n      <td>0</td>\n      <td>0</td>\n      <td>0</td>\n      <td>0</td>\n      <td>0</td>\n      <td>0</td>\n      <td>0</td>\n      <td>0</td>\n      <td>0</td>\n      <td>0</td>\n      <td>0</td>\n      <td>0</td>\n      <td>0</td>\n      <td>0</td>\n      <td>0</td>\n      <td>0</td>\n      <td>0</td>\n      <td>0</td>\n      <td>0</td>\n      <td>0</td>\n      <td>0</td>\n      <td>0</td>\n      <td>0</td>\n      <td>0</td>\n      <td>0</td>\n      <td>0</td>\n      <td>1</td>\n      <td>0</td>\n      <td>0</td>\n      <td>0</td>\n      <td>0</td>\n      <td>0</td>\n      <td>0</td>\n      <td>0</td>\n      <td>0</td>\n      <td>0</td>\n      <td>0</td>\n      <td>0</td>\n      <td>0</td>\n      <td>4.5</td>\n    </tr>\n    <tr>\n      <th>2</th>\n      <td>2</td>\n      <td>32</td>\n      <td>3500</td>\n      <td>83.68</td>\n      <td>6.30</td>\n      <td>157.0</td>\n      <td>168</td>\n      <td>409</td>\n      <td>3</td>\n      <td>2.1</td>\n      <td>25</td>\n      <td>0</td>\n      <td>0</td>\n      <td>1</td>\n      <td>0</td>\n      <td>0</td>\n      <td>0</td>\n      <td>1</td>\n      <td>1</td>\n      <td>0</td>\n      <td>0</td>\n      <td>0</td>\n      <td>0</td>\n      <td>0</td>\n      <td>0</td>\n      <td>0</td>\n      <td>0</td>\n      <td>0</td>\n      <td>0</td>\n      <td>1</td>\n      <td>0</td>\n      <td>0</td>\n      <td>0</td>\n      <td>0</td>\n      <td>0</td>\n      <td>1</td>\n      <td>0</td>\n      <td>0</td>\n      <td>0</td>\n      <td>0</td>\n      <td>...</td>\n      <td>0</td>\n      <td>0</td>\n      <td>0</td>\n      <td>0</td>\n      <td>0</td>\n      <td>0</td>\n      <td>0</td>\n      <td>0</td>\n      <td>0</td>\n      <td>0</td>\n      <td>0</td>\n      <td>0</td>\n      <td>0</td>\n      <td>0</td>\n      <td>0</td>\n      <td>0</td>\n      <td>0</td>\n      <td>0</td>\n      <td>0</td>\n      <td>0</td>\n      <td>0</td>\n      <td>0</td>\n      <td>0</td>\n      <td>0</td>\n      <td>0</td>\n      <td>0</td>\n      <td>1</td>\n      <td>0</td>\n      <td>0</td>\n      <td>0</td>\n      <td>0</td>\n      <td>0</td>\n      <td>0</td>\n      <td>0</td>\n      <td>0</td>\n      <td>0</td>\n      <td>0</td>\n      <td>0</td>\n      <td>0</td>\n      <td>4.4</td>\n    </tr>\n    <tr>\n      <th>3</th>\n      <td>4</td>\n      <td>64</td>\n      <td>3300</td>\n      <td>74.78</td>\n      <td>6.00</td>\n      <td>159.8</td>\n      <td>169</td>\n      <td>411</td>\n      <td>4</td>\n      <td>2.2</td>\n      <td>24</td>\n      <td>0</td>\n      <td>0</td>\n      <td>1</td>\n      <td>0</td>\n      <td>0</td>\n      <td>0</td>\n      <td>1</td>\n      <td>1</td>\n      <td>0</td>\n      <td>0</td>\n      <td>0</td>\n      <td>0</td>\n      <td>0</td>\n      <td>0</td>\n      <td>0</td>\n      <td>0</td>\n      <td>0</td>\n      <td>0</td>\n      <td>1</td>\n      <td>0</td>\n      <td>0</td>\n      <td>0</td>\n      <td>0</td>\n      <td>1</td>\n      <td>0</td>\n      <td>0</td>\n      <td>0</td>\n      <td>0</td>\n      <td>0</td>\n      <td>...</td>\n      <td>0</td>\n      <td>0</td>\n      <td>0</td>\n      <td>0</td>\n      <td>0</td>\n      <td>0</td>\n      <td>0</td>\n      <td>0</td>\n      <td>0</td>\n      <td>0</td>\n      <td>0</td>\n      <td>0</td>\n      <td>0</td>\n      <td>0</td>\n      <td>0</td>\n      <td>0</td>\n      <td>0</td>\n      <td>0</td>\n      <td>0</td>\n      <td>0</td>\n      <td>0</td>\n      <td>0</td>\n      <td>0</td>\n      <td>0</td>\n      <td>0</td>\n      <td>0</td>\n      <td>0</td>\n      <td>0</td>\n      <td>1</td>\n      <td>0</td>\n      <td>0</td>\n      <td>0</td>\n      <td>0</td>\n      <td>0</td>\n      <td>0</td>\n      <td>0</td>\n      <td>0</td>\n      <td>0</td>\n      <td>0</td>\n      <td>4.3</td>\n    </tr>\n    <tr>\n      <th>4</th>\n      <td>5</td>\n      <td>64</td>\n      <td>3750</td>\n      <td>84.23</td>\n      <td>6.50</td>\n      <td>160.4</td>\n      <td>175</td>\n      <td>396</td>\n      <td>4</td>\n      <td>2.2</td>\n      <td>16</td>\n      <td>0</td>\n      <td>0</td>\n      <td>1</td>\n      <td>0</td>\n      <td>0</td>\n      <td>0</td>\n      <td>1</td>\n      <td>1</td>\n      <td>0</td>\n      <td>0</td>\n      <td>0</td>\n      <td>0</td>\n      <td>0</td>\n      <td>0</td>\n      <td>0</td>\n      <td>0</td>\n      <td>0</td>\n      <td>0</td>\n      <td>1</td>\n      <td>0</td>\n      <td>0</td>\n      <td>0</td>\n      <td>0</td>\n      <td>0</td>\n      <td>1</td>\n      <td>0</td>\n      <td>0</td>\n      <td>0</td>\n      <td>0</td>\n      <td>...</td>\n      <td>1</td>\n      <td>0</td>\n      <td>0</td>\n      <td>0</td>\n      <td>0</td>\n      <td>0</td>\n      <td>0</td>\n      <td>0</td>\n      <td>0</td>\n      <td>0</td>\n      <td>0</td>\n      <td>0</td>\n      <td>0</td>\n      <td>0</td>\n      <td>0</td>\n      <td>0</td>\n      <td>0</td>\n      <td>0</td>\n      <td>0</td>\n      <td>0</td>\n      <td>0</td>\n      <td>0</td>\n      <td>0</td>\n      <td>0</td>\n      <td>0</td>\n      <td>0</td>\n      <td>0</td>\n      <td>0</td>\n      <td>0</td>\n      <td>0</td>\n      <td>0</td>\n      <td>0</td>\n      <td>0</td>\n      <td>0</td>\n      <td>0</td>\n      <td>0</td>\n      <td>0</td>\n      <td>0</td>\n      <td>0</td>\n      <td>4.4</td>\n    </tr>\n  </tbody>\n</table>\n</div>"
          },
          "metadata": {}
        }
      ]
    },
    {
      "metadata": {
        "trusted": true,
        "_uuid": "6871b1957e8ce987e8fedd3ac3b31e93bd13ad6b"
      },
      "cell_type": "code",
      "source": "test_new.head()",
      "execution_count": 181,
      "outputs": [
        {
          "output_type": "execute_result",
          "execution_count": 181,
          "data": {
            "text/plain": "   PhoneId  Internal Memory      ...       Brand_Yu  Brand_iVooMi\n0        3               16      ...              0             0\n1       11               64      ...              0             0\n2       13               64      ...              0             0\n3       16               64      ...              0             0\n4       19               64      ...              0             0\n\n[5 rows x 87 columns]",
            "text/html": "<div>\n<style scoped>\n    .dataframe tbody tr th:only-of-type {\n        vertical-align: middle;\n    }\n\n    .dataframe tbody tr th {\n        vertical-align: top;\n    }\n\n    .dataframe thead th {\n        text-align: right;\n    }\n</style>\n<table border=\"1\" class=\"dataframe\">\n  <thead>\n    <tr style=\"text-align: right;\">\n      <th></th>\n      <th>PhoneId</th>\n      <th>Internal Memory</th>\n      <th>Capacity</th>\n      <th>Screen to Body Ratio (calculated)</th>\n      <th>Screen Size</th>\n      <th>Height</th>\n      <th>Weight</th>\n      <th>Pixel Density</th>\n      <th>RAM</th>\n      <th>Processor_frequency</th>\n      <th>Resolution</th>\n      <th>SIM 2_2G</th>\n      <th>SIM 2_3G</th>\n      <th>SIM 2_4G</th>\n      <th>SIM 2_Other</th>\n      <th>Sim1_2G</th>\n      <th>Sim1_3G</th>\n      <th>Sim1_4G</th>\n      <th>os_name_Android</th>\n      <th>os_name_Blackberry</th>\n      <th>os_name_KAI</th>\n      <th>os_name_Nokia</th>\n      <th>os_name_Other</th>\n      <th>os_name_Tizen</th>\n      <th>os_name_iOS</th>\n      <th>Num_cores_312</th>\n      <th>Num_cores_Deca</th>\n      <th>Num_cores_Dual</th>\n      <th>Num_cores_Hexa</th>\n      <th>Num_cores_Octa</th>\n      <th>Num_cores_Other</th>\n      <th>Num_cores_Quad</th>\n      <th>Num_cores_Tru-Octa</th>\n      <th>SIM Slot(s)_Dual SIM, GSM+CDMA</th>\n      <th>SIM Slot(s)_Dual SIM, GSM+GSM</th>\n      <th>SIM Slot(s)_Dual SIM, GSM+GSM, Dual VoLTE</th>\n      <th>SIM Slot(s)_Single SIM, GSM</th>\n      <th>Brand_10.or</th>\n      <th>Brand_Apple</th>\n      <th>Brand_Asus</th>\n      <th>...</th>\n      <th>Brand_HTC</th>\n      <th>Brand_Honor</th>\n      <th>Brand_Huawei</th>\n      <th>Brand_InFocus</th>\n      <th>Brand_Infinix</th>\n      <th>Brand_Intex</th>\n      <th>Brand_Itel</th>\n      <th>Brand_Jivi</th>\n      <th>Brand_Karbonn</th>\n      <th>Brand_LG</th>\n      <th>Brand_Lava</th>\n      <th>Brand_LeEco</th>\n      <th>Brand_Lenovo</th>\n      <th>Brand_Lephone</th>\n      <th>Brand_Lyf</th>\n      <th>Brand_Meizu</th>\n      <th>Brand_Micromax</th>\n      <th>Brand_Mobiistar</th>\n      <th>Brand_Moto</th>\n      <th>Brand_Motorola</th>\n      <th>Brand_Nokia</th>\n      <th>Brand_Nubia</th>\n      <th>Brand_OPPO</th>\n      <th>Brand_OnePlus</th>\n      <th>Brand_Oppo</th>\n      <th>Brand_Panasonic</th>\n      <th>Brand_Razer</th>\n      <th>Brand_Realme</th>\n      <th>Brand_Reliance</th>\n      <th>Brand_Samsung</th>\n      <th>Brand_Sony</th>\n      <th>Brand_Spice</th>\n      <th>Brand_Tecno</th>\n      <th>Brand_Ulefone</th>\n      <th>Brand_VOTO</th>\n      <th>Brand_Vivo</th>\n      <th>Brand_Xiaomi</th>\n      <th>Brand_Xiaomi Poco</th>\n      <th>Brand_Yu</th>\n      <th>Brand_iVooMi</th>\n    </tr>\n  </thead>\n  <tbody>\n    <tr>\n      <th>0</th>\n      <td>3</td>\n      <td>16</td>\n      <td>4230</td>\n      <td>80.85</td>\n      <td>6.20</td>\n      <td>156.2</td>\n      <td>168</td>\n      <td>271</td>\n      <td>2</td>\n      <td>1.8</td>\n      <td>5</td>\n      <td>0</td>\n      <td>0</td>\n      <td>1</td>\n      <td>0</td>\n      <td>0</td>\n      <td>0</td>\n      <td>1</td>\n      <td>1</td>\n      <td>0</td>\n      <td>0</td>\n      <td>0</td>\n      <td>0</td>\n      <td>0</td>\n      <td>0</td>\n      <td>0</td>\n      <td>0</td>\n      <td>0</td>\n      <td>0</td>\n      <td>1</td>\n      <td>0</td>\n      <td>0</td>\n      <td>0</td>\n      <td>0</td>\n      <td>0</td>\n      <td>1</td>\n      <td>0</td>\n      <td>0</td>\n      <td>0</td>\n      <td>0</td>\n      <td>...</td>\n      <td>0</td>\n      <td>0</td>\n      <td>0</td>\n      <td>0</td>\n      <td>0</td>\n      <td>0</td>\n      <td>0</td>\n      <td>0</td>\n      <td>0</td>\n      <td>0</td>\n      <td>0</td>\n      <td>0</td>\n      <td>0</td>\n      <td>0</td>\n      <td>0</td>\n      <td>0</td>\n      <td>0</td>\n      <td>0</td>\n      <td>0</td>\n      <td>0</td>\n      <td>0</td>\n      <td>0</td>\n      <td>0</td>\n      <td>0</td>\n      <td>0</td>\n      <td>0</td>\n      <td>0</td>\n      <td>1</td>\n      <td>0</td>\n      <td>0</td>\n      <td>0</td>\n      <td>0</td>\n      <td>0</td>\n      <td>0</td>\n      <td>0</td>\n      <td>0</td>\n      <td>0</td>\n      <td>0</td>\n      <td>0</td>\n      <td>0</td>\n    </tr>\n    <tr>\n      <th>1</th>\n      <td>11</td>\n      <td>64</td>\n      <td>5000</td>\n      <td>81.60</td>\n      <td>6.20</td>\n      <td>156.0</td>\n      <td>205</td>\n      <td>402</td>\n      <td>4</td>\n      <td>1.8</td>\n      <td>12</td>\n      <td>0</td>\n      <td>0</td>\n      <td>1</td>\n      <td>0</td>\n      <td>0</td>\n      <td>0</td>\n      <td>1</td>\n      <td>1</td>\n      <td>0</td>\n      <td>0</td>\n      <td>0</td>\n      <td>0</td>\n      <td>0</td>\n      <td>0</td>\n      <td>0</td>\n      <td>0</td>\n      <td>0</td>\n      <td>0</td>\n      <td>1</td>\n      <td>0</td>\n      <td>0</td>\n      <td>0</td>\n      <td>0</td>\n      <td>0</td>\n      <td>1</td>\n      <td>0</td>\n      <td>0</td>\n      <td>0</td>\n      <td>0</td>\n      <td>...</td>\n      <td>0</td>\n      <td>0</td>\n      <td>0</td>\n      <td>0</td>\n      <td>0</td>\n      <td>0</td>\n      <td>0</td>\n      <td>0</td>\n      <td>0</td>\n      <td>0</td>\n      <td>0</td>\n      <td>0</td>\n      <td>0</td>\n      <td>0</td>\n      <td>0</td>\n      <td>0</td>\n      <td>0</td>\n      <td>0</td>\n      <td>0</td>\n      <td>1</td>\n      <td>0</td>\n      <td>0</td>\n      <td>0</td>\n      <td>0</td>\n      <td>0</td>\n      <td>0</td>\n      <td>0</td>\n      <td>0</td>\n      <td>0</td>\n      <td>0</td>\n      <td>0</td>\n      <td>0</td>\n      <td>0</td>\n      <td>0</td>\n      <td>0</td>\n      <td>0</td>\n      <td>0</td>\n      <td>0</td>\n      <td>0</td>\n      <td>0</td>\n    </tr>\n    <tr>\n      <th>2</th>\n      <td>13</td>\n      <td>64</td>\n      <td>3500</td>\n      <td>83.84</td>\n      <td>6.30</td>\n      <td>156.7</td>\n      <td>169</td>\n      <td>409</td>\n      <td>6</td>\n      <td>2.0</td>\n      <td>25</td>\n      <td>0</td>\n      <td>0</td>\n      <td>1</td>\n      <td>0</td>\n      <td>0</td>\n      <td>0</td>\n      <td>1</td>\n      <td>1</td>\n      <td>0</td>\n      <td>0</td>\n      <td>0</td>\n      <td>0</td>\n      <td>0</td>\n      <td>0</td>\n      <td>0</td>\n      <td>0</td>\n      <td>0</td>\n      <td>0</td>\n      <td>1</td>\n      <td>0</td>\n      <td>0</td>\n      <td>0</td>\n      <td>0</td>\n      <td>0</td>\n      <td>1</td>\n      <td>0</td>\n      <td>0</td>\n      <td>0</td>\n      <td>0</td>\n      <td>...</td>\n      <td>0</td>\n      <td>0</td>\n      <td>0</td>\n      <td>0</td>\n      <td>0</td>\n      <td>0</td>\n      <td>0</td>\n      <td>0</td>\n      <td>0</td>\n      <td>0</td>\n      <td>0</td>\n      <td>0</td>\n      <td>0</td>\n      <td>0</td>\n      <td>0</td>\n      <td>0</td>\n      <td>0</td>\n      <td>0</td>\n      <td>0</td>\n      <td>0</td>\n      <td>0</td>\n      <td>0</td>\n      <td>1</td>\n      <td>0</td>\n      <td>0</td>\n      <td>0</td>\n      <td>0</td>\n      <td>0</td>\n      <td>0</td>\n      <td>0</td>\n      <td>0</td>\n      <td>0</td>\n      <td>0</td>\n      <td>0</td>\n      <td>0</td>\n      <td>0</td>\n      <td>0</td>\n      <td>0</td>\n      <td>0</td>\n      <td>0</td>\n    </tr>\n    <tr>\n      <th>3</th>\n      <td>16</td>\n      <td>64</td>\n      <td>3500</td>\n      <td>83.84</td>\n      <td>6.30</td>\n      <td>156.7</td>\n      <td>169</td>\n      <td>409</td>\n      <td>4</td>\n      <td>2.0</td>\n      <td>16</td>\n      <td>0</td>\n      <td>0</td>\n      <td>1</td>\n      <td>0</td>\n      <td>0</td>\n      <td>0</td>\n      <td>1</td>\n      <td>1</td>\n      <td>0</td>\n      <td>0</td>\n      <td>0</td>\n      <td>0</td>\n      <td>0</td>\n      <td>0</td>\n      <td>0</td>\n      <td>0</td>\n      <td>0</td>\n      <td>0</td>\n      <td>1</td>\n      <td>0</td>\n      <td>0</td>\n      <td>0</td>\n      <td>0</td>\n      <td>0</td>\n      <td>1</td>\n      <td>0</td>\n      <td>0</td>\n      <td>0</td>\n      <td>0</td>\n      <td>...</td>\n      <td>0</td>\n      <td>0</td>\n      <td>0</td>\n      <td>0</td>\n      <td>0</td>\n      <td>0</td>\n      <td>0</td>\n      <td>0</td>\n      <td>0</td>\n      <td>0</td>\n      <td>0</td>\n      <td>0</td>\n      <td>0</td>\n      <td>0</td>\n      <td>0</td>\n      <td>0</td>\n      <td>0</td>\n      <td>0</td>\n      <td>0</td>\n      <td>0</td>\n      <td>0</td>\n      <td>0</td>\n      <td>1</td>\n      <td>0</td>\n      <td>0</td>\n      <td>0</td>\n      <td>0</td>\n      <td>0</td>\n      <td>0</td>\n      <td>0</td>\n      <td>0</td>\n      <td>0</td>\n      <td>0</td>\n      <td>0</td>\n      <td>0</td>\n      <td>0</td>\n      <td>0</td>\n      <td>0</td>\n      <td>0</td>\n      <td>0</td>\n    </tr>\n    <tr>\n      <th>4</th>\n      <td>19</td>\n      <td>64</td>\n      <td>4000</td>\n      <td>77.43</td>\n      <td>5.99</td>\n      <td>158.6</td>\n      <td>181</td>\n      <td>403</td>\n      <td>4</td>\n      <td>1.8</td>\n      <td>20</td>\n      <td>0</td>\n      <td>0</td>\n      <td>1</td>\n      <td>0</td>\n      <td>0</td>\n      <td>0</td>\n      <td>1</td>\n      <td>1</td>\n      <td>0</td>\n      <td>0</td>\n      <td>0</td>\n      <td>0</td>\n      <td>0</td>\n      <td>0</td>\n      <td>0</td>\n      <td>0</td>\n      <td>0</td>\n      <td>0</td>\n      <td>1</td>\n      <td>0</td>\n      <td>0</td>\n      <td>0</td>\n      <td>0</td>\n      <td>0</td>\n      <td>1</td>\n      <td>0</td>\n      <td>0</td>\n      <td>0</td>\n      <td>0</td>\n      <td>...</td>\n      <td>0</td>\n      <td>0</td>\n      <td>0</td>\n      <td>0</td>\n      <td>0</td>\n      <td>0</td>\n      <td>0</td>\n      <td>0</td>\n      <td>0</td>\n      <td>0</td>\n      <td>0</td>\n      <td>0</td>\n      <td>0</td>\n      <td>0</td>\n      <td>0</td>\n      <td>0</td>\n      <td>0</td>\n      <td>0</td>\n      <td>0</td>\n      <td>0</td>\n      <td>0</td>\n      <td>0</td>\n      <td>0</td>\n      <td>0</td>\n      <td>0</td>\n      <td>0</td>\n      <td>0</td>\n      <td>0</td>\n      <td>0</td>\n      <td>0</td>\n      <td>0</td>\n      <td>0</td>\n      <td>0</td>\n      <td>0</td>\n      <td>0</td>\n      <td>0</td>\n      <td>1</td>\n      <td>0</td>\n      <td>0</td>\n      <td>0</td>\n    </tr>\n  </tbody>\n</table>\n</div>"
          },
          "metadata": {}
        }
      ]
    },
    {
      "metadata": {
        "trusted": true,
        "_uuid": "c1a57b761256c3372239d9dc726964e70102f352"
      },
      "cell_type": "code",
      "source": "class Perceptron:\n    def __init__ (self):\n        self.w = None\n        self.b = None\n        self.device = None\n        self.random_inits = {'normal':np.random.normal,'uniform':np.random.uniform}\n        \n    def model(self, x):\n        dot_product = np.dot(self.w, x)\n        return 1 if (dot_product >= self.b) else 0\n    \n    def predict(self, X):\n        Y = []\n        for x in X:\n            result = self.model(x)\n            Y.append(result)\n        return np.array(Y)\n    \n    def fit(self, X, Y, epochs = 1, lr = 1,seeds=(1,1),init='normal',random_inits=True):\n        if X.shape[0] != Y.shape[0]:\n            print('X and Y have different shapes!',X.shape[0],'!=',Y.shape[0])\n            return\n        if random_inits:\n            np.random.seed(seeds[0])\n            self.w = self.random_inits[init](size=X.shape[1])\n            np.random.seed(seeds[1])\n            self.b = self.random_inits[init]()\n        else:\n            self.w = np.ones(X.shape[1])\n            self.b = 0\n        \n        accuracy = {}\n        max_accuracy = 0\n        wt_matrix = []\n        \n        for i in range(epochs):\n            for j in range(X.shape[0]):\n                x,y = X[j],Y[j]\n                y_pred = self.model(x)\n                if y == 1 and y_pred == 0:\n                    self.w = self.w + lr * x\n                    self.b = self.b - lr * 1\n                elif y == 0 and y_pred == 1:\n                    self.w = self.w - lr * x\n                    self.b = self.b + lr * 1\n                    \n            accuracy[i] = accuracy_score(self.predict(X), Y)\n            \n            if (accuracy[i] > max_accuracy):\n                max_accuracy = accuracy[i]\n                chkptw = self.w\n                chkptb = self.b\n        \n        self.w = chkptw\n        self.b = chkptb\n        \n        print(max_accuracy)\n    \n        plt.plot(accuracy.values())\n        plt.ylim([0, 1])\n        plt.show()\n    \n        return max_accuracy",
      "execution_count": 182,
      "outputs": []
    },
    {
      "metadata": {
        "trusted": true,
        "_uuid": "400e2093cd6a0c1974d0797676c5c0a79b26315f"
      },
      "cell_type": "code",
      "source": "import torch\nclass Perceptron_cuda:\n    def __init__ (self):\n        self.w = None\n        self.b = None\n        self.device = None\n        self.random_inits = {'normal':np.random.normal,'uniform':np.random.uniform}\n        \n    def model(self, x):\n        dot_function = torch.mm if self.device else np.dot\n        dot_product = dot_function(x,self.w).cpu().numpy()#.tolist()        \n        if self.device:\n            return [1 if (dot_product[i] >= self.b) else 0 for i in range(dot_product.shape[0])]\n        return 1 if (dot_product >= self.b) else 0\n    \n    def predict(self, X):\n        return np.array(self.model(X))\n    \n    def fit(self, X, Y, epochs = 1, lr = 1,seeds=(1,1),init='normal',random_inits=True,use_cuda=True):\n        if X.shape[0] != Y.shape[0]:\n            print('X and Y have different shapes!',X.shape[0],'!=',Y.shape[0])\n            return\n        if random_inits:\n            np.random.seed(seeds[0])\n            self.w = self.random_inits[init](size=X.shape[1])\n            np.random.seed(seeds[1])\n            self.b = self.random_inits[init]()\n        else:\n            self.w = np.ones(X.shape[1])\n            self.b = 0\n        \n        accuracy = {}\n        max_accuracy = 0\n        wt_matrix = []\n        \n        if torch.cuda.is_available() and use_cuda:\n            self.device = torch.device(\"cuda\")\n            self.w = torch.tensor(self.w,device=self.device).view(-1,1)\n            X = torch.tensor(X,device=self.device)\n            #Y = torch.tensor(Y,device=self.device)\n        for i in range(epochs):\n            y_preds = self.model(X)\n            for j in range(X.shape[0]):\n                x,y = X[j],Y[j]\n                x = x.view(-1,1)\n                y_pred = y_preds[j]\n                if y == 1 and y_pred == 0:\n                    self.w = self.w + lr * x\n                    self.b = self.b - lr * 1\n                elif y == 0 and y_pred == 1:\n                    self.w = self.w - lr * x\n                    self.b = self.b + lr * 1\n            accuracy[i] = accuracy_score(self.predict(X), Y)\n            \n            if (accuracy[i] > max_accuracy):\n                max_accuracy = accuracy[i]\n                chkptw = self.w\n                chkptb = self.b\n        \n        self.w = chkptw\n        self.b = chkptb\n        \n        print(max_accuracy)\n    \n        plt.plot(accuracy.values())\n        plt.ylim([0, 1])\n        plt.show()\n    \n        return max_accuracy",
      "execution_count": 326,
      "outputs": []
    },
    {
      "metadata": {
        "trusted": true,
        "_uuid": "12fdb97bf984b4d7a70b50840c3966659adecac8"
      },
      "cell_type": "code",
      "source": "perceptron = Perceptron()\npc = Perceptron_cuda()",
      "execution_count": 327,
      "outputs": []
    },
    {
      "metadata": {
        "trusted": true,
        "_uuid": "9fc009a58554350501528a549e77819c7a13eb1b"
      },
      "cell_type": "code",
      "source": "train_new.describe()",
      "execution_count": 328,
      "outputs": [
        {
          "output_type": "execute_result",
          "execution_count": 328,
          "data": {
            "text/plain": "          PhoneId  Internal Memory     ...      Brand_iVooMi      Rating\ncount  341.000000       341.000000     ...        341.000000  341.000000\nmean   232.970674        46.369501     ...          0.002933    4.072434\nstd    137.231746        46.435453     ...          0.054153    0.377066\nmin      0.000000         0.000000     ...          0.000000    2.500000\n25%    110.000000        16.000000     ...          0.000000    3.900000\n50%    229.000000        32.000000     ...          0.000000    4.100000\n75%    354.000000        64.000000     ...          0.000000    4.300000\nmax    472.000000       512.000000     ...          1.000000    5.000000\n\n[8 rows x 88 columns]",
            "text/html": "<div>\n<style scoped>\n    .dataframe tbody tr th:only-of-type {\n        vertical-align: middle;\n    }\n\n    .dataframe tbody tr th {\n        vertical-align: top;\n    }\n\n    .dataframe thead th {\n        text-align: right;\n    }\n</style>\n<table border=\"1\" class=\"dataframe\">\n  <thead>\n    <tr style=\"text-align: right;\">\n      <th></th>\n      <th>PhoneId</th>\n      <th>Internal Memory</th>\n      <th>Capacity</th>\n      <th>Screen to Body Ratio (calculated)</th>\n      <th>Screen Size</th>\n      <th>Height</th>\n      <th>Weight</th>\n      <th>Pixel Density</th>\n      <th>RAM</th>\n      <th>Processor_frequency</th>\n      <th>Resolution</th>\n      <th>SIM 2_2G</th>\n      <th>SIM 2_3G</th>\n      <th>SIM 2_4G</th>\n      <th>SIM 2_Other</th>\n      <th>Sim1_2G</th>\n      <th>Sim1_3G</th>\n      <th>Sim1_4G</th>\n      <th>os_name_Android</th>\n      <th>os_name_Blackberry</th>\n      <th>os_name_KAI</th>\n      <th>os_name_Nokia</th>\n      <th>os_name_Other</th>\n      <th>os_name_Tizen</th>\n      <th>os_name_iOS</th>\n      <th>Num_cores_312</th>\n      <th>Num_cores_Deca</th>\n      <th>Num_cores_Dual</th>\n      <th>Num_cores_Hexa</th>\n      <th>Num_cores_Octa</th>\n      <th>Num_cores_Other</th>\n      <th>Num_cores_Quad</th>\n      <th>Num_cores_Tru-Octa</th>\n      <th>SIM Slot(s)_Dual SIM, GSM+CDMA</th>\n      <th>SIM Slot(s)_Dual SIM, GSM+GSM</th>\n      <th>SIM Slot(s)_Dual SIM, GSM+GSM, Dual VoLTE</th>\n      <th>SIM Slot(s)_Single SIM, GSM</th>\n      <th>Brand_10.or</th>\n      <th>Brand_Apple</th>\n      <th>Brand_Asus</th>\n      <th>...</th>\n      <th>Brand_Honor</th>\n      <th>Brand_Huawei</th>\n      <th>Brand_InFocus</th>\n      <th>Brand_Infinix</th>\n      <th>Brand_Intex</th>\n      <th>Brand_Itel</th>\n      <th>Brand_Jivi</th>\n      <th>Brand_Karbonn</th>\n      <th>Brand_LG</th>\n      <th>Brand_Lava</th>\n      <th>Brand_LeEco</th>\n      <th>Brand_Lenovo</th>\n      <th>Brand_Lephone</th>\n      <th>Brand_Lyf</th>\n      <th>Brand_Meizu</th>\n      <th>Brand_Micromax</th>\n      <th>Brand_Mobiistar</th>\n      <th>Brand_Moto</th>\n      <th>Brand_Motorola</th>\n      <th>Brand_Nokia</th>\n      <th>Brand_Nubia</th>\n      <th>Brand_OPPO</th>\n      <th>Brand_OnePlus</th>\n      <th>Brand_Oppo</th>\n      <th>Brand_Panasonic</th>\n      <th>Brand_Razer</th>\n      <th>Brand_Realme</th>\n      <th>Brand_Reliance</th>\n      <th>Brand_Samsung</th>\n      <th>Brand_Sony</th>\n      <th>Brand_Spice</th>\n      <th>Brand_Tecno</th>\n      <th>Brand_Ulefone</th>\n      <th>Brand_VOTO</th>\n      <th>Brand_Vivo</th>\n      <th>Brand_Xiaomi</th>\n      <th>Brand_Xiaomi Poco</th>\n      <th>Brand_Yu</th>\n      <th>Brand_iVooMi</th>\n      <th>Rating</th>\n    </tr>\n  </thead>\n  <tbody>\n    <tr>\n      <th>count</th>\n      <td>341.000000</td>\n      <td>341.000000</td>\n      <td>341.000000</td>\n      <td>341.000000</td>\n      <td>341.000000</td>\n      <td>341.000000</td>\n      <td>341.000000</td>\n      <td>341.000000</td>\n      <td>341.000000</td>\n      <td>341.000000</td>\n      <td>341.000000</td>\n      <td>341.000000</td>\n      <td>341.000000</td>\n      <td>341.000000</td>\n      <td>341.000000</td>\n      <td>341.000000</td>\n      <td>341.000000</td>\n      <td>341.000000</td>\n      <td>341.000000</td>\n      <td>341.000000</td>\n      <td>341.000000</td>\n      <td>341.000000</td>\n      <td>341.000000</td>\n      <td>341.000000</td>\n      <td>341.000000</td>\n      <td>341.000000</td>\n      <td>341.000000</td>\n      <td>341.000000</td>\n      <td>341.000000</td>\n      <td>341.000000</td>\n      <td>341.000000</td>\n      <td>341.000000</td>\n      <td>341.000000</td>\n      <td>341.000000</td>\n      <td>341.000000</td>\n      <td>341.000000</td>\n      <td>341.000000</td>\n      <td>341.000000</td>\n      <td>341.000000</td>\n      <td>341.000000</td>\n      <td>...</td>\n      <td>341.000000</td>\n      <td>341.000000</td>\n      <td>341.000000</td>\n      <td>341.000000</td>\n      <td>341.000000</td>\n      <td>341.000000</td>\n      <td>341.000000</td>\n      <td>341.000000</td>\n      <td>341.000000</td>\n      <td>341.000000</td>\n      <td>341.000000</td>\n      <td>341.000000</td>\n      <td>341.000000</td>\n      <td>341.000000</td>\n      <td>341.000000</td>\n      <td>341.000000</td>\n      <td>341.000000</td>\n      <td>341.000000</td>\n      <td>341.000000</td>\n      <td>341.000000</td>\n      <td>341.000000</td>\n      <td>341.000000</td>\n      <td>341.000000</td>\n      <td>341.000000</td>\n      <td>341.000000</td>\n      <td>341.000000</td>\n      <td>341.000000</td>\n      <td>341.000000</td>\n      <td>341.000000</td>\n      <td>341.000000</td>\n      <td>341.0</td>\n      <td>341.000000</td>\n      <td>341.000000</td>\n      <td>341.000000</td>\n      <td>341.000000</td>\n      <td>341.000000</td>\n      <td>341.000000</td>\n      <td>341.000000</td>\n      <td>341.000000</td>\n      <td>341.000000</td>\n    </tr>\n    <tr>\n      <th>mean</th>\n      <td>232.970674</td>\n      <td>46.369501</td>\n      <td>3191.307918</td>\n      <td>72.353343</td>\n      <td>5.462317</td>\n      <td>149.946394</td>\n      <td>161.343109</td>\n      <td>344.211144</td>\n      <td>11.120235</td>\n      <td>1.792551</td>\n      <td>9.592375</td>\n      <td>0.211144</td>\n      <td>0.020528</td>\n      <td>0.683284</td>\n      <td>0.085044</td>\n      <td>0.020528</td>\n      <td>0.020528</td>\n      <td>0.958944</td>\n      <td>0.906158</td>\n      <td>0.005865</td>\n      <td>0.005865</td>\n      <td>0.002933</td>\n      <td>0.020528</td>\n      <td>0.002933</td>\n      <td>0.055718</td>\n      <td>0.002933</td>\n      <td>0.005865</td>\n      <td>0.029326</td>\n      <td>0.035191</td>\n      <td>0.580645</td>\n      <td>0.017595</td>\n      <td>0.325513</td>\n      <td>0.002933</td>\n      <td>0.002933</td>\n      <td>0.759531</td>\n      <td>0.152493</td>\n      <td>0.085044</td>\n      <td>0.005865</td>\n      <td>0.055718</td>\n      <td>0.023460</td>\n      <td>...</td>\n      <td>0.049853</td>\n      <td>0.017595</td>\n      <td>0.008798</td>\n      <td>0.008798</td>\n      <td>0.011730</td>\n      <td>0.011730</td>\n      <td>0.002933</td>\n      <td>0.005865</td>\n      <td>0.026393</td>\n      <td>0.017595</td>\n      <td>0.002933</td>\n      <td>0.043988</td>\n      <td>0.002933</td>\n      <td>0.002933</td>\n      <td>0.005865</td>\n      <td>0.043988</td>\n      <td>0.011730</td>\n      <td>0.043988</td>\n      <td>0.005865</td>\n      <td>0.061584</td>\n      <td>0.002933</td>\n      <td>0.041056</td>\n      <td>0.008798</td>\n      <td>0.017595</td>\n      <td>0.011730</td>\n      <td>0.002933</td>\n      <td>0.011730</td>\n      <td>0.002933</td>\n      <td>0.129032</td>\n      <td>0.026393</td>\n      <td>0.0</td>\n      <td>0.023460</td>\n      <td>0.002933</td>\n      <td>0.002933</td>\n      <td>0.076246</td>\n      <td>0.061584</td>\n      <td>0.008798</td>\n      <td>0.011730</td>\n      <td>0.002933</td>\n      <td>4.072434</td>\n    </tr>\n    <tr>\n      <th>std</th>\n      <td>137.231746</td>\n      <td>46.435453</td>\n      <td>932.533527</td>\n      <td>9.357839</td>\n      <td>0.742529</td>\n      <td>9.192305</td>\n      <td>22.305556</td>\n      <td>88.161129</td>\n      <td>61.320855</td>\n      <td>0.451598</td>\n      <td>5.953827</td>\n      <td>0.408720</td>\n      <td>0.142006</td>\n      <td>0.465879</td>\n      <td>0.279357</td>\n      <td>0.142006</td>\n      <td>0.142006</td>\n      <td>0.198711</td>\n      <td>0.292037</td>\n      <td>0.076471</td>\n      <td>0.076471</td>\n      <td>0.054153</td>\n      <td>0.142006</td>\n      <td>0.054153</td>\n      <td>0.229714</td>\n      <td>0.054153</td>\n      <td>0.076471</td>\n      <td>0.168965</td>\n      <td>0.184532</td>\n      <td>0.494179</td>\n      <td>0.131668</td>\n      <td>0.469255</td>\n      <td>0.054153</td>\n      <td>0.054153</td>\n      <td>0.427996</td>\n      <td>0.360026</td>\n      <td>0.279357</td>\n      <td>0.076471</td>\n      <td>0.229714</td>\n      <td>0.151583</td>\n      <td>...</td>\n      <td>0.217962</td>\n      <td>0.131668</td>\n      <td>0.093520</td>\n      <td>0.093520</td>\n      <td>0.107827</td>\n      <td>0.107827</td>\n      <td>0.054153</td>\n      <td>0.076471</td>\n      <td>0.160536</td>\n      <td>0.131668</td>\n      <td>0.054153</td>\n      <td>0.205370</td>\n      <td>0.054153</td>\n      <td>0.054153</td>\n      <td>0.076471</td>\n      <td>0.205370</td>\n      <td>0.107827</td>\n      <td>0.205370</td>\n      <td>0.076471</td>\n      <td>0.240751</td>\n      <td>0.054153</td>\n      <td>0.198711</td>\n      <td>0.093520</td>\n      <td>0.131668</td>\n      <td>0.107827</td>\n      <td>0.054153</td>\n      <td>0.107827</td>\n      <td>0.054153</td>\n      <td>0.335728</td>\n      <td>0.160536</td>\n      <td>0.0</td>\n      <td>0.151583</td>\n      <td>0.054153</td>\n      <td>0.054153</td>\n      <td>0.265782</td>\n      <td>0.240751</td>\n      <td>0.093520</td>\n      <td>0.107827</td>\n      <td>0.054153</td>\n      <td>0.377066</td>\n    </tr>\n    <tr>\n      <th>min</th>\n      <td>0.000000</td>\n      <td>0.000000</td>\n      <td>1020.000000</td>\n      <td>23.600000</td>\n      <td>2.400000</td>\n      <td>115.600000</td>\n      <td>58.000000</td>\n      <td>143.000000</td>\n      <td>1.000000</td>\n      <td>1.000000</td>\n      <td>2.000000</td>\n      <td>0.000000</td>\n      <td>0.000000</td>\n      <td>0.000000</td>\n      <td>0.000000</td>\n      <td>0.000000</td>\n      <td>0.000000</td>\n      <td>0.000000</td>\n      <td>0.000000</td>\n      <td>0.000000</td>\n      <td>0.000000</td>\n      <td>0.000000</td>\n      <td>0.000000</td>\n      <td>0.000000</td>\n      <td>0.000000</td>\n      <td>0.000000</td>\n      <td>0.000000</td>\n      <td>0.000000</td>\n      <td>0.000000</td>\n      <td>0.000000</td>\n      <td>0.000000</td>\n      <td>0.000000</td>\n      <td>0.000000</td>\n      <td>0.000000</td>\n      <td>0.000000</td>\n      <td>0.000000</td>\n      <td>0.000000</td>\n      <td>0.000000</td>\n      <td>0.000000</td>\n      <td>0.000000</td>\n      <td>...</td>\n      <td>0.000000</td>\n      <td>0.000000</td>\n      <td>0.000000</td>\n      <td>0.000000</td>\n      <td>0.000000</td>\n      <td>0.000000</td>\n      <td>0.000000</td>\n      <td>0.000000</td>\n      <td>0.000000</td>\n      <td>0.000000</td>\n      <td>0.000000</td>\n      <td>0.000000</td>\n      <td>0.000000</td>\n      <td>0.000000</td>\n      <td>0.000000</td>\n      <td>0.000000</td>\n      <td>0.000000</td>\n      <td>0.000000</td>\n      <td>0.000000</td>\n      <td>0.000000</td>\n      <td>0.000000</td>\n      <td>0.000000</td>\n      <td>0.000000</td>\n      <td>0.000000</td>\n      <td>0.000000</td>\n      <td>0.000000</td>\n      <td>0.000000</td>\n      <td>0.000000</td>\n      <td>0.000000</td>\n      <td>0.000000</td>\n      <td>0.0</td>\n      <td>0.000000</td>\n      <td>0.000000</td>\n      <td>0.000000</td>\n      <td>0.000000</td>\n      <td>0.000000</td>\n      <td>0.000000</td>\n      <td>0.000000</td>\n      <td>0.000000</td>\n      <td>2.500000</td>\n    </tr>\n    <tr>\n      <th>25%</th>\n      <td>110.000000</td>\n      <td>16.000000</td>\n      <td>2900.000000</td>\n      <td>68.800000</td>\n      <td>5.200000</td>\n      <td>146.200000</td>\n      <td>150.000000</td>\n      <td>282.000000</td>\n      <td>2.000000</td>\n      <td>1.400000</td>\n      <td>5.000000</td>\n      <td>0.000000</td>\n      <td>0.000000</td>\n      <td>0.000000</td>\n      <td>0.000000</td>\n      <td>0.000000</td>\n      <td>0.000000</td>\n      <td>1.000000</td>\n      <td>1.000000</td>\n      <td>0.000000</td>\n      <td>0.000000</td>\n      <td>0.000000</td>\n      <td>0.000000</td>\n      <td>0.000000</td>\n      <td>0.000000</td>\n      <td>0.000000</td>\n      <td>0.000000</td>\n      <td>0.000000</td>\n      <td>0.000000</td>\n      <td>0.000000</td>\n      <td>0.000000</td>\n      <td>0.000000</td>\n      <td>0.000000</td>\n      <td>0.000000</td>\n      <td>1.000000</td>\n      <td>0.000000</td>\n      <td>0.000000</td>\n      <td>0.000000</td>\n      <td>0.000000</td>\n      <td>0.000000</td>\n      <td>...</td>\n      <td>0.000000</td>\n      <td>0.000000</td>\n      <td>0.000000</td>\n      <td>0.000000</td>\n      <td>0.000000</td>\n      <td>0.000000</td>\n      <td>0.000000</td>\n      <td>0.000000</td>\n      <td>0.000000</td>\n      <td>0.000000</td>\n      <td>0.000000</td>\n      <td>0.000000</td>\n      <td>0.000000</td>\n      <td>0.000000</td>\n      <td>0.000000</td>\n      <td>0.000000</td>\n      <td>0.000000</td>\n      <td>0.000000</td>\n      <td>0.000000</td>\n      <td>0.000000</td>\n      <td>0.000000</td>\n      <td>0.000000</td>\n      <td>0.000000</td>\n      <td>0.000000</td>\n      <td>0.000000</td>\n      <td>0.000000</td>\n      <td>0.000000</td>\n      <td>0.000000</td>\n      <td>0.000000</td>\n      <td>0.000000</td>\n      <td>0.0</td>\n      <td>0.000000</td>\n      <td>0.000000</td>\n      <td>0.000000</td>\n      <td>0.000000</td>\n      <td>0.000000</td>\n      <td>0.000000</td>\n      <td>0.000000</td>\n      <td>0.000000</td>\n      <td>3.900000</td>\n    </tr>\n    <tr>\n      <th>50%</th>\n      <td>229.000000</td>\n      <td>32.000000</td>\n      <td>3055.000000</td>\n      <td>72.500000</td>\n      <td>5.500000</td>\n      <td>151.300000</td>\n      <td>161.000000</td>\n      <td>326.000000</td>\n      <td>3.000000</td>\n      <td>1.800000</td>\n      <td>8.000000</td>\n      <td>0.000000</td>\n      <td>0.000000</td>\n      <td>1.000000</td>\n      <td>0.000000</td>\n      <td>0.000000</td>\n      <td>0.000000</td>\n      <td>1.000000</td>\n      <td>1.000000</td>\n      <td>0.000000</td>\n      <td>0.000000</td>\n      <td>0.000000</td>\n      <td>0.000000</td>\n      <td>0.000000</td>\n      <td>0.000000</td>\n      <td>0.000000</td>\n      <td>0.000000</td>\n      <td>0.000000</td>\n      <td>0.000000</td>\n      <td>1.000000</td>\n      <td>0.000000</td>\n      <td>0.000000</td>\n      <td>0.000000</td>\n      <td>0.000000</td>\n      <td>1.000000</td>\n      <td>0.000000</td>\n      <td>0.000000</td>\n      <td>0.000000</td>\n      <td>0.000000</td>\n      <td>0.000000</td>\n      <td>...</td>\n      <td>0.000000</td>\n      <td>0.000000</td>\n      <td>0.000000</td>\n      <td>0.000000</td>\n      <td>0.000000</td>\n      <td>0.000000</td>\n      <td>0.000000</td>\n      <td>0.000000</td>\n      <td>0.000000</td>\n      <td>0.000000</td>\n      <td>0.000000</td>\n      <td>0.000000</td>\n      <td>0.000000</td>\n      <td>0.000000</td>\n      <td>0.000000</td>\n      <td>0.000000</td>\n      <td>0.000000</td>\n      <td>0.000000</td>\n      <td>0.000000</td>\n      <td>0.000000</td>\n      <td>0.000000</td>\n      <td>0.000000</td>\n      <td>0.000000</td>\n      <td>0.000000</td>\n      <td>0.000000</td>\n      <td>0.000000</td>\n      <td>0.000000</td>\n      <td>0.000000</td>\n      <td>0.000000</td>\n      <td>0.000000</td>\n      <td>0.0</td>\n      <td>0.000000</td>\n      <td>0.000000</td>\n      <td>0.000000</td>\n      <td>0.000000</td>\n      <td>0.000000</td>\n      <td>0.000000</td>\n      <td>0.000000</td>\n      <td>0.000000</td>\n      <td>4.100000</td>\n    </tr>\n    <tr>\n      <th>75%</th>\n      <td>354.000000</td>\n      <td>64.000000</td>\n      <td>3750.000000</td>\n      <td>77.480000</td>\n      <td>6.000000</td>\n      <td>156.200000</td>\n      <td>172.000000</td>\n      <td>403.000000</td>\n      <td>4.000000</td>\n      <td>2.200000</td>\n      <td>13.000000</td>\n      <td>0.000000</td>\n      <td>0.000000</td>\n      <td>1.000000</td>\n      <td>0.000000</td>\n      <td>0.000000</td>\n      <td>0.000000</td>\n      <td>1.000000</td>\n      <td>1.000000</td>\n      <td>0.000000</td>\n      <td>0.000000</td>\n      <td>0.000000</td>\n      <td>0.000000</td>\n      <td>0.000000</td>\n      <td>0.000000</td>\n      <td>0.000000</td>\n      <td>0.000000</td>\n      <td>0.000000</td>\n      <td>0.000000</td>\n      <td>1.000000</td>\n      <td>0.000000</td>\n      <td>1.000000</td>\n      <td>0.000000</td>\n      <td>0.000000</td>\n      <td>1.000000</td>\n      <td>0.000000</td>\n      <td>0.000000</td>\n      <td>0.000000</td>\n      <td>0.000000</td>\n      <td>0.000000</td>\n      <td>...</td>\n      <td>0.000000</td>\n      <td>0.000000</td>\n      <td>0.000000</td>\n      <td>0.000000</td>\n      <td>0.000000</td>\n      <td>0.000000</td>\n      <td>0.000000</td>\n      <td>0.000000</td>\n      <td>0.000000</td>\n      <td>0.000000</td>\n      <td>0.000000</td>\n      <td>0.000000</td>\n      <td>0.000000</td>\n      <td>0.000000</td>\n      <td>0.000000</td>\n      <td>0.000000</td>\n      <td>0.000000</td>\n      <td>0.000000</td>\n      <td>0.000000</td>\n      <td>0.000000</td>\n      <td>0.000000</td>\n      <td>0.000000</td>\n      <td>0.000000</td>\n      <td>0.000000</td>\n      <td>0.000000</td>\n      <td>0.000000</td>\n      <td>0.000000</td>\n      <td>0.000000</td>\n      <td>0.000000</td>\n      <td>0.000000</td>\n      <td>0.0</td>\n      <td>0.000000</td>\n      <td>0.000000</td>\n      <td>0.000000</td>\n      <td>0.000000</td>\n      <td>0.000000</td>\n      <td>0.000000</td>\n      <td>0.000000</td>\n      <td>0.000000</td>\n      <td>4.300000</td>\n    </tr>\n    <tr>\n      <th>max</th>\n      <td>472.000000</td>\n      <td>512.000000</td>\n      <td>13000.000000</td>\n      <td>87.660000</td>\n      <td>6.590000</td>\n      <td>174.100000</td>\n      <td>330.000000</td>\n      <td>576.000000</td>\n      <td>512.000000</td>\n      <td>2.800000</td>\n      <td>25.000000</td>\n      <td>1.000000</td>\n      <td>1.000000</td>\n      <td>1.000000</td>\n      <td>1.000000</td>\n      <td>1.000000</td>\n      <td>1.000000</td>\n      <td>1.000000</td>\n      <td>1.000000</td>\n      <td>1.000000</td>\n      <td>1.000000</td>\n      <td>1.000000</td>\n      <td>1.000000</td>\n      <td>1.000000</td>\n      <td>1.000000</td>\n      <td>1.000000</td>\n      <td>1.000000</td>\n      <td>1.000000</td>\n      <td>1.000000</td>\n      <td>1.000000</td>\n      <td>1.000000</td>\n      <td>1.000000</td>\n      <td>1.000000</td>\n      <td>1.000000</td>\n      <td>1.000000</td>\n      <td>1.000000</td>\n      <td>1.000000</td>\n      <td>1.000000</td>\n      <td>1.000000</td>\n      <td>1.000000</td>\n      <td>...</td>\n      <td>1.000000</td>\n      <td>1.000000</td>\n      <td>1.000000</td>\n      <td>1.000000</td>\n      <td>1.000000</td>\n      <td>1.000000</td>\n      <td>1.000000</td>\n      <td>1.000000</td>\n      <td>1.000000</td>\n      <td>1.000000</td>\n      <td>1.000000</td>\n      <td>1.000000</td>\n      <td>1.000000</td>\n      <td>1.000000</td>\n      <td>1.000000</td>\n      <td>1.000000</td>\n      <td>1.000000</td>\n      <td>1.000000</td>\n      <td>1.000000</td>\n      <td>1.000000</td>\n      <td>1.000000</td>\n      <td>1.000000</td>\n      <td>1.000000</td>\n      <td>1.000000</td>\n      <td>1.000000</td>\n      <td>1.000000</td>\n      <td>1.000000</td>\n      <td>1.000000</td>\n      <td>1.000000</td>\n      <td>1.000000</td>\n      <td>0.0</td>\n      <td>1.000000</td>\n      <td>1.000000</td>\n      <td>1.000000</td>\n      <td>1.000000</td>\n      <td>1.000000</td>\n      <td>1.000000</td>\n      <td>1.000000</td>\n      <td>1.000000</td>\n      <td>5.000000</td>\n    </tr>\n  </tbody>\n</table>\n</div>"
          },
          "metadata": {}
        }
      ]
    },
    {
      "metadata": {
        "trusted": true,
        "_uuid": "cc7778c6dcf3c9469224975f4a4a507981465c74"
      },
      "cell_type": "code",
      "source": "x_train = train_new.drop(['Rating','PhoneId'],axis=1)\ncols = x_train.columns\nscalers = [MinMaxScaler,StandardScaler]\nscaler =  scalers[1]()\nscaler.fit(x_train)\nx_train = scaler.transform(x_train)",
      "execution_count": 329,
      "outputs": []
    },
    {
      "metadata": {
        "trusted": true,
        "_uuid": "3b0be50037294c771a489b322266e2bf3492a360"
      },
      "cell_type": "code",
      "source": "y_train = np.array([ 1 if v>=THRESHOLD else 0 for v in train_new[['Rating']].values])",
      "execution_count": 330,
      "outputs": []
    },
    {
      "metadata": {
        "trusted": true,
        "_uuid": "437d48da5f448532e60836f7720d1e49f049cb54"
      },
      "cell_type": "code",
      "source": "# def train(ep_lr):\n#     ep,lr = ep_lr\n#     print(ep,lr)\n#     return perceptron.fit(x_train, y_train, ep,lr)\n\n# parameters = list(ParameterGrid({'epochs':[1000,5000,10000],'lr':[0.0001,0.001,0.01,0.1,1]}))\n# res = [train(tuple(k.values())) for k in parameters]",
      "execution_count": 331,
      "outputs": []
    },
    {
      "metadata": {
        "trusted": true,
        "_uuid": "2084e07624a6962f5c329a1abe0b175be97025d8"
      },
      "cell_type": "code",
      "source": "import time\nt1 = time.time()\nmax_accuracy = perceptron.fit(x_train, y_train, 20000, 0.1,seeds=(2,4))\nprint(time.time()-t1)\n#max_accuracy = perceptron.fit(x_train, y_train, 20000, 0.00001,seeds=(2,4))",
      "execution_count": 332,
      "outputs": [
        {
          "output_type": "stream",
          "text": "0.873900293255132\n",
          "name": "stdout"
        },
        {
          "output_type": "display_data",
          "data": {
            "text/plain": "<Figure size 432x288 with 1 Axes>",
            "image/png": "[encoded data removed]"
          },
          "metadata": {}
        },
        {
          "output_type": "stream",
          "text": "31.135883331298828\n",
          "name": "stdout"
        }
      ]
    },
    {
      "metadata": {
        "trusted": true,
        "_uuid": "d103294508963c5a787bdc7b67eeaea893f60707"
      },
      "cell_type": "code",
      "source": "import time\nt1 = time.time()\nmax_accuracy = pc.fit(x_train, y_train, 20000, 0.1,seeds=(2,4))\nprint(time.time()-t1)",
      "execution_count": null,
      "outputs": []
    },
    {
      "metadata": {
        "trusted": true,
        "_uuid": "8ec37a405ddbdacf70abf2216908a96ac4693a1e"
      },
      "cell_type": "code",
      "source": "plt.plot(perceptron.w)\nplt.show()\nweights = {}\nfor i in range(len(perceptron.w)):\n    weights[cols[i]]=perceptron.w[i]\n#sorted_by_value = {}\nfor c in list(sorted(weights, key=weights.get, reverse=True)):\n    #sorted_by_value[c] = weights[c]\n    print(c,weights[c])",
      "execution_count": null,
      "outputs": []
    },
    {
      "metadata": {
        "trusted": true,
        "_uuid": "2dbd603b37f030f94b7c25a8f27e740829572ec1"
      },
      "cell_type": "code",
      "source": "results = perceptron.predict(test_new.values)",
      "execution_count": null,
      "outputs": []
    },
    {
      "metadata": {
        "trusted": true,
        "_uuid": "fa54deacc4b93504f9498fc4aa051706aee66dfb"
      },
      "cell_type": "code",
      "source": "submission = pd.DataFrame({'PhoneId':test_new['PhoneId'], 'Class':results})\nsubmission = submission[['PhoneId', 'Class']]\nsubmission.head()",
      "execution_count": null,
      "outputs": []
    },
    {
      "metadata": {
        "trusted": true,
        "_uuid": "7584f1ef2e77b373a0b0823220445c386fefec2c"
      },
      "cell_type": "code",
      "source": "submission.to_csv(\"submission.csv\", index=False)",
      "execution_count": null,
      "outputs": []
    }
  ],
  "metadata": {
    "kernelspec": {
      "display_name": "Python 3",
      "language": "python",
      "name": "python3"
    },
    "language_info": {
      "name": "python",
      "version": "3.6.6",
      "mimetype": "text/x-python",
      "codemirror_mode": {
        "name": "ipython",
        "version": 3
      },
      "pygments_lexer": "ipython3",
      "nbconvert_exporter": "python",
      "file_extension": ".py"
    }
  },
  "nbformat": 4,
  "nbformat_minor": 1
}