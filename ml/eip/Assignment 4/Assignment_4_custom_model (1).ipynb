{
  "nbformat": 4,
  "nbformat_minor": 0,
  "metadata": {
    "colab": {
      "name": "Assignment-4-custom_model.ipynb",
      "version": "0.3.2",
      "provenance": [],
      "collapsed_sections": []
    },
    "kernelspec": {
      "name": "python3",
      "display_name": "Python 3"
    },
    "accelerator": "GPU"
  },
  "cells": [
    {
      "metadata": {
        "_uuid": "f67729355a01c19c62bfa2145d9594b1da821fc6",
        "id": "AbFZ1CPnyLEx",
        "colab_type": "code",
        "outputId": "1f710663-10b3-4415-f50b-8dfe288930db",
        "colab": {
          "base_uri": "https://localhost:8080/",
          "height": 34
        }
      },
      "cell_type": "code",
      "source": [
        "!pip install -q six numpy scipy matplotlib scikit-image opencv-python imageio\n",
        "!pip install -q keras imgaug\n",
        "!pip install tensorboardcolab\n",
        "!pip install -q git+https://www.github.com/keras-team/keras-contrib.git"
      ],
      "execution_count": 0,
      "outputs": [
        {
          "output_type": "stream",
          "text": [
            "Requirement already satisfied: tensorboardcolab in /usr/local/lib/python3.6/dist-packages (0.0.19)\n"
          ],
          "name": "stdout"
        }
      ]
    },
    {
      "metadata": {
        "_cell_guid": "b1076dfc-b9ad-4769-8c92-a6c4dae69d19",
        "_uuid": "8f2839f25d086af736a60e9eeb907d3b93b6e0e5",
        "id": "jwLq5vZ1yLE_",
        "colab_type": "code",
        "colab": {}
      },
      "cell_type": "code",
      "source": [
        "import keras\n",
        "from keras_contrib.callbacks import CyclicLR, DeadReluDetector, SnapshotCallbackBuilder, SnapshotModelCheckpoint\n",
        "import imgaug as ia\n",
        "from imgaug import augmenters as iaa\n",
        "from tensorboardcolab import TensorBoardColab, TensorBoardColabCallback\n",
        "from keras_contrib.applications import DenseNet"
      ],
      "execution_count": 0,
      "outputs": []
    },
    {
      "metadata": {
        "_uuid": "363049cf0704e0aebfa7ea4994c6c291fd66cbac",
        "id": "uEbrjMRqyLFU",
        "colab_type": "code",
        "colab": {}
      },
      "cell_type": "code",
      "source": [
        "import numpy as np\n",
        "from keras.datasets import cifar10\n",
        "from keras.models import Model, Sequential\n",
        "from keras.layers import Dense, Dropout, Flatten, Input, AveragePooling2D, merge, Activation\n",
        "from keras.layers import Conv2D, MaxPooling2D, BatchNormalization,SeparableConv2D\n",
        "from keras.layers import Concatenate\n",
        "from keras.optimizers import SGD\n",
        "from keras.models import load_model\n",
        "from keras.callbacks import ModelCheckpoint,LearningRateScheduler\n",
        "# from keras.callbacks import LearningRateScheduler,ModelCheckpoint,EarlyStopping,LambdaCallback\n",
        "import os,sys,math\n",
        "from matplotlib import pyplot as plt\n",
        "%matplotlib inline"
      ],
      "execution_count": 0,
      "outputs": []
    },
    {
      "metadata": {
        "_uuid": "22f446b53ec82f3244c33dd780ab24b896178cf9",
        "id": "HGIF2j6YyLFc",
        "colab_type": "code",
        "outputId": "c361ee1c-d06b-4635-a21e-2b50650633bc",
        "colab": {
          "base_uri": "https://localhost:8080/",
          "height": 122
        }
      },
      "cell_type": "code",
      "source": [
        "import google\n",
        "colab_dir='./'\n",
        "file_name='EIP_CIFAR_10'\n",
        "if hasattr(google,'colab'):\n",
        "    from google.colab import drive\n",
        "    drive.mount('/content/gdrive')\n",
        "    colab_dir='/content/gdrive/My Drive/Colab Notebooks/'\n",
        "model_file=colab_dir+file_name+'.h5'\n",
        "weights_dir=colab_dir+'weights/'"
      ],
      "execution_count": 0,
      "outputs": [
        {
          "output_type": "stream",
          "text": [
            "Go to this URL in a browser: https://accounts.google.com/o/oauth2/auth?client_id=947318989803-6bn6qk8qdgf4n4g3pfee6491hc0brc4i.apps.googleusercontent.com&redirect_uri=urn%3Aietf%3Awg%3Aoauth%3A2.0%3Aoob&scope=email%20https%3A%2F%2Fwww.googleapis.com%2Fauth%2Fdocs.test%20https%3A%2F%2Fwww.googleapis.com%2Fauth%2Fdrive%20https%3A%2F%2Fwww.googleapis.com%2Fauth%2Fdrive.photos.readonly%20https%3A%2F%2Fwww.googleapis.com%2Fauth%2Fpeopleapi.readonly&response_type=code\n",
            "\n",
            "Enter your authorization code:\n",
            "··········\n",
            "Mounted at /content/gdrive\n"
          ],
          "name": "stdout"
        }
      ]
    },
    {
      "metadata": {
        "_cell_guid": "79c7e3d0-c299-4dcb-8224-4455121ee9b0",
        "_uuid": "d629ff2d2480ee46fbb7e2d37f6b5fab8052498a",
        "id": "beylEPLZyLFm",
        "colab_type": "code",
        "colab": {}
      },
      "cell_type": "code",
      "source": [
        "# this part will prevent tensorflow to allocate all the avaliable GPU Memory\n",
        "# backend\n",
        "import tensorflow as tf\n",
        "from keras import backend as k\n",
        "\n",
        "# Don't pre-allocate memory; allocate as-needed\n",
        "config = tf.ConfigProto()\n",
        "config.gpu_options.allow_growth = True\n",
        "\n",
        "# Create a session with the above options specified.\n",
        "k.tensorflow_backend.set_session(tf.Session(config=config))"
      ],
      "execution_count": 0,
      "outputs": []
    },
    {
      "metadata": {
        "_uuid": "aa9bb45cb7f0171c15c4b065ade989e82042b15a",
        "id": "VKufdLiEyLFy",
        "colab_type": "code",
        "colab": {}
      },
      "cell_type": "code",
      "source": [
        "#Augmentation and resizing\n",
        "#augment and then concat samples with original\n",
        "def augment(dataset,flip=0.5,blur=1.0):\n",
        "    ia.seed(1)\n",
        "    seq = iaa.Sequential([iaa.Fliplr(0.5),iaa.Crop(percent=(0, 0.3))], random_order=True)    \n",
        "    return seq.augment_images(dataset)\n",
        "\n",
        "def augmenter(X,y,start=0,end=1,append=False):\n",
        "    ln=len(X)\n",
        "    print('Before augmentation:',X.shape,y.shape)\n",
        "    start=int(start*ln)\n",
        "    end=int(end*ln)\n",
        "    if append:\n",
        "      new_X=augment(X)[start:end]\n",
        "      new_y=y[start:end]\n",
        "      X=np.concatenate((X,new_X))\n",
        "      y=np.concatenate((y,new_y))\n",
        "    else:\n",
        "      X=augment(X)\n",
        "    print('After augmentation:',X.shape,y.shape)\n",
        "    return (X,y)\n",
        "\n",
        "#26x26 is almost half of 32x32. 22x22 maybe too small even though its exact half.\n",
        "def resize_imgs(imgs,shape=(26,26)):\n",
        "    seq = iaa.Sequential([iaa.Scale({\"height\": shape[0], \"width\": shape[1]})])\n",
        "    return seq.augment_images(imgs)"
      ],
      "execution_count": 0,
      "outputs": []
    },
    {
      "metadata": {
        "_uuid": "9d5f083dfa8904a9bd7433e385ad2a0b8a236b22",
        "id": "Zw3sldJUyLGg",
        "colab_type": "code",
        "colab": {}
      },
      "cell_type": "code",
      "source": [
        "modval=50\n",
        "max_lr=0.1\n",
        "\n",
        "def cosine_anneal_schedule(t,lr):\n",
        "  global modval,max_lr\n",
        "  modval=int(modval)\n",
        "  cos_inner = (np.pi * (t % modval))/ modval\n",
        "  cos_out = np.cos(cos_inner) + 1\n",
        "  return float(max_lr / 2 * cos_out)\n",
        "\n",
        "def load_prev_model(model_small=None):\n",
        "#     print(os.popen('du -sh '+colab_dir+'*').read())\n",
        "    last_best=os.popen('du -sh '+colab_dir+r'*|sed -r \"s/^[0-9\\.]+[MK]?\\s(.*)$/\\1/g;\"|tail -1').read().strip()\n",
        "    model_prev=None\n",
        "    try:\n",
        "        print('Attempting to load last best model from file - ',end='')\n",
        "        last_best_fn=last_best.split('/')[-1]\n",
        "        last_best_epoch=last_best_fn.split('.')[1].split('-')[0]\n",
        "        model_prev=load_model(last_best)\n",
        "        print('Sucess\\nLoaded '+last_best_fn, 'epoch :', last_best_epoch)\n",
        "    except Exception as e:\n",
        "        print('Failed!\\n',e)\n",
        "        try:\n",
        "            print('Attempting to load last saved model from file - ',end='')\n",
        "            model_prev = load_model(model_file)\n",
        "            print('Sucess\\nLoaded model from file',model_file)\n",
        "        except Exception as e:\n",
        "    #         print(str(e), 'at line ', sys.exc_info()[2].tb_lineno)\n",
        "            print('Failed!\\n',e)\n",
        "            try:\n",
        "                print('Attempting to load in memory, small model - ',end='')\n",
        "                if len(model_small.layers)>1:\n",
        "                    model_prev=model_small\n",
        "                print('Sucess')\n",
        "            except Exception as e:\n",
        "                print('Failed!\\n',e)\n",
        "    return model_prev\n",
        "  \n",
        "def copy_weights(model_to,model_from):\n",
        "    #model_to.set_weights(model_from.get_weights())\n",
        "    s,err=0,0\n",
        "    print('Trying to copy weights')\n",
        "    try:\n",
        "        if len(model_to.layers) >1 and len(model_from.layers) >1:\n",
        "            pass\n",
        "    except Exception as e:\n",
        "        print('Inavlid models',model_to,model_from)\n",
        "        return\n",
        "    for new_layer, layer in zip(model_to.layers[1:], model_from.layers[1:]):\n",
        "        s+=1\n",
        "        try:\n",
        "            new_layer.set_weights(layer.get_weights())\n",
        "        except Exception as e:\n",
        "            pass\n",
        "    print('Done: errors:',err)\n",
        "      \n",
        "#new model with larger i/p layer\n",
        "def larger_model(src_model,shape=(32,32,3)):\n",
        "    new_input=Input(shape)\n",
        "    src_model.layers.pop(0)\n",
        "    new_output=src_model(new_input)\n",
        "    new_model=Model(new_input,new_output)\n",
        "    return new_model\n",
        "\n",
        "# Load CIFAR10 Data\n",
        "def load_data(resize=False,append=False,shape=(26,26),train_augment=True,test_augment=False):\n",
        "    (x_train, y_train), (x_test, y_test) = cifar10.load_data()\n",
        "    \n",
        "    y_train = keras.utils.to_categorical(y_train, num_classes)\n",
        "    y_test = keras.utils.to_categorical(y_test, num_classes)\n",
        "    \n",
        "    if resize:\n",
        "        x_train=resize_imgs(x_train,shape)\n",
        "        x_test=resize_imgs(x_test,shape)\n",
        "    if train_augment:\n",
        "      (x_train, y_train) = augmenter(x_train, y_train,end=1,append=append)\n",
        "    if test_augment:\n",
        "        (x_test, y_test) = augmenter(x_test, y_test,end=1,append=append)\n",
        "    return (x_train, y_train,x_test, y_test)\n",
        "#create a dnn model\n",
        "def create_model(input_shape,num_layers,input_conv_filters=12,input=None):\n",
        "    print('Creating model with input shape',input_shape)\n",
        "    if input is None:\n",
        "        input = Input(input_shape)\n",
        "    First_Conv2D = Conv2D(input_conv_filters, (3,3), use_bias=False ,padding='same')(input)\n",
        "    hidden_dense_blocks = dense_units_chain(n_dense_blocks,First_Conv2D,num_filter,dropout_rate,num_layers)\n",
        "    Last_Block = add_denseblock(hidden_dense_blocks, num_filter, dropout_rate)\n",
        "    output = output_layer(Last_Block)\n",
        "    model = Model(inputs=[input], outputs=[output])\n",
        "    return model"
      ],
      "execution_count": 0,
      "outputs": []
    },
    {
      "metadata": {
        "id": "b5QrXF2BznZs",
        "colab_type": "code",
        "colab": {}
      },
      "cell_type": "code",
      "source": [
        "from keras.layers import GlobalAveragePooling2D\n",
        "sc=True\n",
        "# Dense Block\n",
        "def add_denseblock(input,num_layers, growth_rate = 12, dropout_rate = 0.2,bn_layers=48,middle_layers=24):\n",
        "    global compression\n",
        "    temp = input\n",
        "    for _ in range(num_layers):\n",
        "        ######################################################################################################################################\n",
        "        BatchNorm = BatchNormalization()(temp)\n",
        "        relu = Activation('relu')(BatchNorm)        \n",
        "        Conv2D_1_1_bottleneck = Conv2D(bn_layers, (1,1), use_bias=False ,padding='same',kernel_initializer='he_normal')(relu) #bottleneck  <===\n",
        "        ###################################################################################################################################### |\n",
        "        BatchNorm = BatchNormalization()(Conv2D_1_1_bottleneck) #extra layer                                                                 # |\n",
        "        relu = Activation('relu')(BatchNorm) #extra layer                                                                                    # |\n",
        "        Conv2D_1_1 = Conv2D(middle_layers, (1,1), use_bias=False ,padding='same',kernel_initializer='he_normal')(relu) #extra layer          # |\n",
        "        ###################################################################################################################################### |\n",
        "        BatchNorm = BatchNormalization()(Conv2D_1_1) #bottleneck   <================================================================\n",
        "        relu = Activation('relu')(BatchNorm)\n",
        "        if sc:\n",
        "          Conv2D_3_3 = SeparableConv2D(growth_rate, (3,1), use_bias=False ,padding='same',kernel_initializer='he_normal')(relu)\n",
        "          Conv2D_3_3 = SeparableConv2D(growth_rate, (1,3), use_bias=False ,padding='same',kernel_initializer='he_normal')(Conv2D_3_3)\n",
        "        else:\n",
        "          Conv2D_3_3 = Conv2D(growth_rate, (3,3), use_bias=False ,padding='same',kernel_initializer='he_normal')(relu)\n",
        "        ######################################################################################################################################|\n",
        "        \n",
        "        if dropout_rate>0:\n",
        "          Conv2D_3_3 = Dropout(dropout_rate)(Conv2D_3_3)\n",
        "        concat = Concatenate(axis=-1)([temp,Conv2D_3_3])\n",
        "        \n",
        "        temp = concat\n",
        "        \n",
        "    return temp\n",
        "\n",
        "def add_transition(input, num_filter = 12, dropout_rate = 0.2):\n",
        "    global compression\n",
        "    BatchNorm = BatchNormalization()(input)\n",
        "    relu = Activation('relu')(BatchNorm)\n",
        "    Conv2D_BottleNeck = Conv2D(int(num_filter*compression), (1,1), use_bias=False ,padding='same')(relu)\n",
        "    if dropout_rate>0:\n",
        "      Conv2D_BottleNeck = Dropout(dropout_rate)(Conv2D_BottleNeck)\n",
        "    avg = AveragePooling2D(pool_size=(2,2))(Conv2D_BottleNeck)\n",
        "    \n",
        "    return avg\n",
        "\n",
        "def output_layer(input):\n",
        "    global compression\n",
        "    BatchNorm = BatchNormalization()(input)\n",
        "    relu = Activation('relu')(BatchNorm)\n",
        "    GlobalAveragePooling = GlobalAveragePooling2D(data_format='channels_last')(relu)\n",
        "#     flat = Flatten()(GlobalAveragePooling)\n",
        "    output = Dense(num_classes, activation='softmax')(GlobalAveragePooling)\n",
        "    \n",
        "    return output"
      ],
      "execution_count": 0,
      "outputs": []
    },
    {
      "metadata": {
        "id": "SizS-NnKfkQf",
        "colab_type": "code",
        "colab": {}
      },
      "cell_type": "code",
      "source": [
        "num_filter = 0 # add it up as you go\n",
        "compression = 0.5\n",
        "dropout_rate =0.5#0.2#.5\n",
        "num_classes = 10\n",
        "\n",
        "modval=30\n",
        "max_lr=0.3\n",
        "\n",
        "layer_models=[[96,48,24],[96,48,36],[48,24,12],[48,20,7],[48,16,5],[40,20,10],[64,48,24]]\n",
        "layer_models_index=-1\n",
        "bn_layers,middle_layers,growth_rate=layer_models[layer_models_index]\n",
        "\n",
        "# num_layers=8 is kinda eq of standard Densenet-BC L=40 where 12*2 i.e 12*(BN_RELU_CONV*2), here its 8*3 i.e 8*(BN_RELU_CONV*3) \n",
        "num_layers=4#12#16#15\n",
        "batch_size=64\n",
        "initial_layers=24#12\n",
        "hist=[]\n",
        "keras_model=True\n",
        "model=None"
      ],
      "execution_count": 0,
      "outputs": []
    },
    {
      "metadata": {
        "id": "iWb3CVJPz6_Q",
        "colab_type": "code",
        "colab": {}
      },
      "cell_type": "code",
      "source": [
        "if keras_model:\n",
        "  model=DenseNet(input_shape=(32,32,3),depth=40,nb_dense_block=3,growth_rate=24,nb_filter=-1,bottleneck=True,reduction=0.5,dropout_rate=0.5,classes=10,pooling='avg')\n",
        "else:\n",
        "  input = Input(shape=(32, 32, 3,))\n",
        "  First_Conv2D = Conv2D(initial_layers, (3,3), use_bias=False ,padding='same')(input)\n",
        "  num_filter=initial_layers\n",
        "  \n",
        "  First_Block = add_denseblock(First_Conv2D,num_layers, growth_rate, dropout_rate,bn_layers,middle_layers)\n",
        "  num_filter+=growth_rate*num_layers\n",
        "  First_Transition = add_transition(First_Block, num_filter, dropout_rate)\n",
        "  num_filter=num_filter//2\n",
        "  Second_Block = add_denseblock(First_Transition, num_layers,growth_rate, dropout_rate,bn_layers,middle_layers)\n",
        "  num_filter+=growth_rate*num_layers\n",
        "  Second_Transition = add_transition(Second_Block, num_filter, dropout_rate)\n",
        "  num_filter=num_filter//2\n",
        "  \n",
        "  Third_Block = add_denseblock(Second_Transition,num_layers, growth_rate, dropout_rate,bn_layers,middle_layers)\n",
        "  num_filter+=growth_rate*num_layers\n",
        "  Third_Transition = add_transition(Third_Block, num_filter, dropout_rate)\n",
        "  \n",
        "  Last_Block = add_denseblock(Third_Transition, num_layers, growth_rate, dropout_rate,bn_layers,middle_layers)\n",
        "  output = output_layer(Last_Block)\n",
        "  model = Model(inputs=[input], outputs=[output])"
      ],
      "execution_count": 0,
      "outputs": []
    },
    {
      "metadata": {
        "id": "nnCBJrCs11vl",
        "colab_type": "code",
        "outputId": "77cad1ec-fdc6-4556-ac57-6d57c48ba311",
        "colab": {
          "base_uri": "https://localhost:8080/",
          "height": 5814
        }
      },
      "cell_type": "code",
      "source": [
        "model.compile(loss='categorical_crossentropy',metrics=['accuracy'],optimizer=SGD(lr=0.1, decay=1e-6, momentum=0.9, nesterov=True))\n",
        "model.summary()"
      ],
      "execution_count": 0,
      "outputs": [
        {
          "output_type": "stream",
          "text": [
            "__________________________________________________________________________________________________\n",
            "Layer (type)                    Output Shape         Param #     Connected to                     \n",
            "==================================================================================================\n",
            "input_1 (InputLayer)            (None, 32, 32, 3)    0                                            \n",
            "__________________________________________________________________________________________________\n",
            "initial_conv2D (Conv2D)         (None, 32, 32, 48)   1296        input_1[0][0]                    \n",
            "__________________________________________________________________________________________________\n",
            "dense_0_0_bn (BatchNormalizatio (None, 32, 32, 48)   192         initial_conv2D[0][0]             \n",
            "__________________________________________________________________________________________________\n",
            "activation_1 (Activation)       (None, 32, 32, 48)   0           dense_0_0_bn[0][0]               \n",
            "__________________________________________________________________________________________________\n",
            "dense_0_0_bottleneck_conv2D (Co (None, 32, 32, 96)   4608        activation_1[0][0]               \n",
            "__________________________________________________________________________________________________\n",
            "dense_0_0_bottleneck_bn (BatchN (None, 32, 32, 96)   384         dense_0_0_bottleneck_conv2D[0][0]\n",
            "__________________________________________________________________________________________________\n",
            "activation_2 (Activation)       (None, 32, 32, 96)   0           dense_0_0_bottleneck_bn[0][0]    \n",
            "__________________________________________________________________________________________________\n",
            "dense_0_0_conv2D (Conv2D)       (None, 32, 32, 24)   20736       activation_2[0][0]               \n",
            "__________________________________________________________________________________________________\n",
            "dropout_1 (Dropout)             (None, 32, 32, 24)   0           dense_0_0_conv2D[0][0]           \n",
            "__________________________________________________________________________________________________\n",
            "concatenate_1 (Concatenate)     (None, 32, 32, 72)   0           initial_conv2D[0][0]             \n",
            "                                                                 dropout_1[0][0]                  \n",
            "__________________________________________________________________________________________________\n",
            "dense_0_1_bn (BatchNormalizatio (None, 32, 32, 72)   288         concatenate_1[0][0]              \n",
            "__________________________________________________________________________________________________\n",
            "activation_3 (Activation)       (None, 32, 32, 72)   0           dense_0_1_bn[0][0]               \n",
            "__________________________________________________________________________________________________\n",
            "dense_0_1_bottleneck_conv2D (Co (None, 32, 32, 96)   6912        activation_3[0][0]               \n",
            "__________________________________________________________________________________________________\n",
            "dense_0_1_bottleneck_bn (BatchN (None, 32, 32, 96)   384         dense_0_1_bottleneck_conv2D[0][0]\n",
            "__________________________________________________________________________________________________\n",
            "activation_4 (Activation)       (None, 32, 32, 96)   0           dense_0_1_bottleneck_bn[0][0]    \n",
            "__________________________________________________________________________________________________\n",
            "dense_0_1_conv2D (Conv2D)       (None, 32, 32, 24)   20736       activation_4[0][0]               \n",
            "__________________________________________________________________________________________________\n",
            "dropout_2 (Dropout)             (None, 32, 32, 24)   0           dense_0_1_conv2D[0][0]           \n",
            "__________________________________________________________________________________________________\n",
            "concatenate_2 (Concatenate)     (None, 32, 32, 96)   0           concatenate_1[0][0]              \n",
            "                                                                 dropout_2[0][0]                  \n",
            "__________________________________________________________________________________________________\n",
            "dense_0_2_bn (BatchNormalizatio (None, 32, 32, 96)   384         concatenate_2[0][0]              \n",
            "__________________________________________________________________________________________________\n",
            "activation_5 (Activation)       (None, 32, 32, 96)   0           dense_0_2_bn[0][0]               \n",
            "__________________________________________________________________________________________________\n",
            "dense_0_2_bottleneck_conv2D (Co (None, 32, 32, 96)   9216        activation_5[0][0]               \n",
            "__________________________________________________________________________________________________\n",
            "dense_0_2_bottleneck_bn (BatchN (None, 32, 32, 96)   384         dense_0_2_bottleneck_conv2D[0][0]\n",
            "__________________________________________________________________________________________________\n",
            "activation_6 (Activation)       (None, 32, 32, 96)   0           dense_0_2_bottleneck_bn[0][0]    \n",
            "__________________________________________________________________________________________________\n",
            "dense_0_2_conv2D (Conv2D)       (None, 32, 32, 24)   20736       activation_6[0][0]               \n",
            "__________________________________________________________________________________________________\n",
            "dropout_3 (Dropout)             (None, 32, 32, 24)   0           dense_0_2_conv2D[0][0]           \n",
            "__________________________________________________________________________________________________\n",
            "concatenate_3 (Concatenate)     (None, 32, 32, 120)  0           concatenate_2[0][0]              \n",
            "                                                                 dropout_3[0][0]                  \n",
            "__________________________________________________________________________________________________\n",
            "dense_0_3_bn (BatchNormalizatio (None, 32, 32, 120)  480         concatenate_3[0][0]              \n",
            "__________________________________________________________________________________________________\n",
            "activation_7 (Activation)       (None, 32, 32, 120)  0           dense_0_3_bn[0][0]               \n",
            "__________________________________________________________________________________________________\n",
            "dense_0_3_bottleneck_conv2D (Co (None, 32, 32, 96)   11520       activation_7[0][0]               \n",
            "__________________________________________________________________________________________________\n",
            "dense_0_3_bottleneck_bn (BatchN (None, 32, 32, 96)   384         dense_0_3_bottleneck_conv2D[0][0]\n",
            "__________________________________________________________________________________________________\n",
            "activation_8 (Activation)       (None, 32, 32, 96)   0           dense_0_3_bottleneck_bn[0][0]    \n",
            "__________________________________________________________________________________________________\n",
            "dense_0_3_conv2D (Conv2D)       (None, 32, 32, 24)   20736       activation_8[0][0]               \n",
            "__________________________________________________________________________________________________\n",
            "dropout_4 (Dropout)             (None, 32, 32, 24)   0           dense_0_3_conv2D[0][0]           \n",
            "__________________________________________________________________________________________________\n",
            "concatenate_4 (Concatenate)     (None, 32, 32, 144)  0           concatenate_3[0][0]              \n",
            "                                                                 dropout_4[0][0]                  \n",
            "__________________________________________________________________________________________________\n",
            "dense_0_4_bn (BatchNormalizatio (None, 32, 32, 144)  576         concatenate_4[0][0]              \n",
            "__________________________________________________________________________________________________\n",
            "activation_9 (Activation)       (None, 32, 32, 144)  0           dense_0_4_bn[0][0]               \n",
            "__________________________________________________________________________________________________\n",
            "dense_0_4_bottleneck_conv2D (Co (None, 32, 32, 96)   13824       activation_9[0][0]               \n",
            "__________________________________________________________________________________________________\n",
            "dense_0_4_bottleneck_bn (BatchN (None, 32, 32, 96)   384         dense_0_4_bottleneck_conv2D[0][0]\n",
            "__________________________________________________________________________________________________\n",
            "activation_10 (Activation)      (None, 32, 32, 96)   0           dense_0_4_bottleneck_bn[0][0]    \n",
            "__________________________________________________________________________________________________\n",
            "dense_0_4_conv2D (Conv2D)       (None, 32, 32, 24)   20736       activation_10[0][0]              \n",
            "__________________________________________________________________________________________________\n",
            "dropout_5 (Dropout)             (None, 32, 32, 24)   0           dense_0_4_conv2D[0][0]           \n",
            "__________________________________________________________________________________________________\n",
            "concatenate_5 (Concatenate)     (None, 32, 32, 168)  0           concatenate_4[0][0]              \n",
            "                                                                 dropout_5[0][0]                  \n",
            "__________________________________________________________________________________________________\n",
            "dense_0_5_bn (BatchNormalizatio (None, 32, 32, 168)  672         concatenate_5[0][0]              \n",
            "__________________________________________________________________________________________________\n",
            "activation_11 (Activation)      (None, 32, 32, 168)  0           dense_0_5_bn[0][0]               \n",
            "__________________________________________________________________________________________________\n",
            "dense_0_5_bottleneck_conv2D (Co (None, 32, 32, 96)   16128       activation_11[0][0]              \n",
            "__________________________________________________________________________________________________\n",
            "dense_0_5_bottleneck_bn (BatchN (None, 32, 32, 96)   384         dense_0_5_bottleneck_conv2D[0][0]\n",
            "__________________________________________________________________________________________________\n",
            "activation_12 (Activation)      (None, 32, 32, 96)   0           dense_0_5_bottleneck_bn[0][0]    \n",
            "__________________________________________________________________________________________________\n",
            "dense_0_5_conv2D (Conv2D)       (None, 32, 32, 24)   20736       activation_12[0][0]              \n",
            "__________________________________________________________________________________________________\n",
            "dropout_6 (Dropout)             (None, 32, 32, 24)   0           dense_0_5_conv2D[0][0]           \n",
            "__________________________________________________________________________________________________\n",
            "concatenate_6 (Concatenate)     (None, 32, 32, 192)  0           concatenate_5[0][0]              \n",
            "                                                                 dropout_6[0][0]                  \n",
            "__________________________________________________________________________________________________\n",
            "tr_0_bn (BatchNormalization)    (None, 32, 32, 192)  768         concatenate_6[0][0]              \n",
            "__________________________________________________________________________________________________\n",
            "activation_13 (Activation)      (None, 32, 32, 192)  0           tr_0_bn[0][0]                    \n",
            "__________________________________________________________________________________________________\n",
            "tr_0_conv2D (Conv2D)            (None, 32, 32, 96)   18432       activation_13[0][0]              \n",
            "__________________________________________________________________________________________________\n",
            "average_pooling2d_1 (AveragePoo (None, 16, 16, 96)   0           tr_0_conv2D[0][0]                \n",
            "__________________________________________________________________________________________________\n",
            "dense_1_0_bn (BatchNormalizatio (None, 16, 16, 96)   384         average_pooling2d_1[0][0]        \n",
            "__________________________________________________________________________________________________\n",
            "activation_14 (Activation)      (None, 16, 16, 96)   0           dense_1_0_bn[0][0]               \n",
            "__________________________________________________________________________________________________\n",
            "dense_1_0_bottleneck_conv2D (Co (None, 16, 16, 96)   9216        activation_14[0][0]              \n",
            "__________________________________________________________________________________________________\n",
            "dense_1_0_bottleneck_bn (BatchN (None, 16, 16, 96)   384         dense_1_0_bottleneck_conv2D[0][0]\n",
            "__________________________________________________________________________________________________\n",
            "activation_15 (Activation)      (None, 16, 16, 96)   0           dense_1_0_bottleneck_bn[0][0]    \n",
            "__________________________________________________________________________________________________\n",
            "dense_1_0_conv2D (Conv2D)       (None, 16, 16, 24)   20736       activation_15[0][0]              \n",
            "__________________________________________________________________________________________________\n",
            "dropout_7 (Dropout)             (None, 16, 16, 24)   0           dense_1_0_conv2D[0][0]           \n",
            "__________________________________________________________________________________________________\n",
            "concatenate_7 (Concatenate)     (None, 16, 16, 120)  0           average_pooling2d_1[0][0]        \n",
            "                                                                 dropout_7[0][0]                  \n",
            "__________________________________________________________________________________________________\n",
            "dense_1_1_bn (BatchNormalizatio (None, 16, 16, 120)  480         concatenate_7[0][0]              \n",
            "__________________________________________________________________________________________________\n",
            "activation_16 (Activation)      (None, 16, 16, 120)  0           dense_1_1_bn[0][0]               \n",
            "__________________________________________________________________________________________________\n",
            "dense_1_1_bottleneck_conv2D (Co (None, 16, 16, 96)   11520       activation_16[0][0]              \n",
            "__________________________________________________________________________________________________\n",
            "dense_1_1_bottleneck_bn (BatchN (None, 16, 16, 96)   384         dense_1_1_bottleneck_conv2D[0][0]\n",
            "__________________________________________________________________________________________________\n",
            "activation_17 (Activation)      (None, 16, 16, 96)   0           dense_1_1_bottleneck_bn[0][0]    \n",
            "__________________________________________________________________________________________________\n",
            "dense_1_1_conv2D (Conv2D)       (None, 16, 16, 24)   20736       activation_17[0][0]              \n",
            "__________________________________________________________________________________________________\n",
            "dropout_8 (Dropout)             (None, 16, 16, 24)   0           dense_1_1_conv2D[0][0]           \n",
            "__________________________________________________________________________________________________\n",
            "concatenate_8 (Concatenate)     (None, 16, 16, 144)  0           concatenate_7[0][0]              \n",
            "                                                                 dropout_8[0][0]                  \n",
            "__________________________________________________________________________________________________\n",
            "dense_1_2_bn (BatchNormalizatio (None, 16, 16, 144)  576         concatenate_8[0][0]              \n",
            "__________________________________________________________________________________________________\n",
            "activation_18 (Activation)      (None, 16, 16, 144)  0           dense_1_2_bn[0][0]               \n",
            "__________________________________________________________________________________________________\n",
            "dense_1_2_bottleneck_conv2D (Co (None, 16, 16, 96)   13824       activation_18[0][0]              \n",
            "__________________________________________________________________________________________________\n",
            "dense_1_2_bottleneck_bn (BatchN (None, 16, 16, 96)   384         dense_1_2_bottleneck_conv2D[0][0]\n",
            "__________________________________________________________________________________________________\n",
            "activation_19 (Activation)      (None, 16, 16, 96)   0           dense_1_2_bottleneck_bn[0][0]    \n",
            "__________________________________________________________________________________________________\n",
            "dense_1_2_conv2D (Conv2D)       (None, 16, 16, 24)   20736       activation_19[0][0]              \n",
            "__________________________________________________________________________________________________\n",
            "dropout_9 (Dropout)             (None, 16, 16, 24)   0           dense_1_2_conv2D[0][0]           \n",
            "__________________________________________________________________________________________________\n",
            "concatenate_9 (Concatenate)     (None, 16, 16, 168)  0           concatenate_8[0][0]              \n",
            "                                                                 dropout_9[0][0]                  \n",
            "__________________________________________________________________________________________________\n",
            "dense_1_3_bn (BatchNormalizatio (None, 16, 16, 168)  672         concatenate_9[0][0]              \n",
            "__________________________________________________________________________________________________\n",
            "activation_20 (Activation)      (None, 16, 16, 168)  0           dense_1_3_bn[0][0]               \n",
            "__________________________________________________________________________________________________\n",
            "dense_1_3_bottleneck_conv2D (Co (None, 16, 16, 96)   16128       activation_20[0][0]              \n",
            "__________________________________________________________________________________________________\n",
            "dense_1_3_bottleneck_bn (BatchN (None, 16, 16, 96)   384         dense_1_3_bottleneck_conv2D[0][0]\n",
            "__________________________________________________________________________________________________\n",
            "activation_21 (Activation)      (None, 16, 16, 96)   0           dense_1_3_bottleneck_bn[0][0]    \n",
            "__________________________________________________________________________________________________\n",
            "dense_1_3_conv2D (Conv2D)       (None, 16, 16, 24)   20736       activation_21[0][0]              \n",
            "__________________________________________________________________________________________________\n",
            "dropout_10 (Dropout)            (None, 16, 16, 24)   0           dense_1_3_conv2D[0][0]           \n",
            "__________________________________________________________________________________________________\n",
            "concatenate_10 (Concatenate)    (None, 16, 16, 192)  0           concatenate_9[0][0]              \n",
            "                                                                 dropout_10[0][0]                 \n",
            "__________________________________________________________________________________________________\n",
            "dense_1_4_bn (BatchNormalizatio (None, 16, 16, 192)  768         concatenate_10[0][0]             \n",
            "__________________________________________________________________________________________________\n",
            "activation_22 (Activation)      (None, 16, 16, 192)  0           dense_1_4_bn[0][0]               \n",
            "__________________________________________________________________________________________________\n",
            "dense_1_4_bottleneck_conv2D (Co (None, 16, 16, 96)   18432       activation_22[0][0]              \n",
            "__________________________________________________________________________________________________\n",
            "dense_1_4_bottleneck_bn (BatchN (None, 16, 16, 96)   384         dense_1_4_bottleneck_conv2D[0][0]\n",
            "__________________________________________________________________________________________________\n",
            "activation_23 (Activation)      (None, 16, 16, 96)   0           dense_1_4_bottleneck_bn[0][0]    \n",
            "__________________________________________________________________________________________________\n",
            "dense_1_4_conv2D (Conv2D)       (None, 16, 16, 24)   20736       activation_23[0][0]              \n",
            "__________________________________________________________________________________________________\n",
            "dropout_11 (Dropout)            (None, 16, 16, 24)   0           dense_1_4_conv2D[0][0]           \n",
            "__________________________________________________________________________________________________\n",
            "concatenate_11 (Concatenate)    (None, 16, 16, 216)  0           concatenate_10[0][0]             \n",
            "                                                                 dropout_11[0][0]                 \n",
            "__________________________________________________________________________________________________\n",
            "dense_1_5_bn (BatchNormalizatio (None, 16, 16, 216)  864         concatenate_11[0][0]             \n",
            "__________________________________________________________________________________________________\n",
            "activation_24 (Activation)      (None, 16, 16, 216)  0           dense_1_5_bn[0][0]               \n",
            "__________________________________________________________________________________________________\n",
            "dense_1_5_bottleneck_conv2D (Co (None, 16, 16, 96)   20736       activation_24[0][0]              \n",
            "__________________________________________________________________________________________________\n",
            "dense_1_5_bottleneck_bn (BatchN (None, 16, 16, 96)   384         dense_1_5_bottleneck_conv2D[0][0]\n",
            "__________________________________________________________________________________________________\n",
            "activation_25 (Activation)      (None, 16, 16, 96)   0           dense_1_5_bottleneck_bn[0][0]    \n",
            "__________________________________________________________________________________________________\n",
            "dense_1_5_conv2D (Conv2D)       (None, 16, 16, 24)   20736       activation_25[0][0]              \n",
            "__________________________________________________________________________________________________\n",
            "dropout_12 (Dropout)            (None, 16, 16, 24)   0           dense_1_5_conv2D[0][0]           \n",
            "__________________________________________________________________________________________________\n",
            "concatenate_12 (Concatenate)    (None, 16, 16, 240)  0           concatenate_11[0][0]             \n",
            "                                                                 dropout_12[0][0]                 \n",
            "__________________________________________________________________________________________________\n",
            "tr_1_bn (BatchNormalization)    (None, 16, 16, 240)  960         concatenate_12[0][0]             \n",
            "__________________________________________________________________________________________________\n",
            "activation_26 (Activation)      (None, 16, 16, 240)  0           tr_1_bn[0][0]                    \n",
            "__________________________________________________________________________________________________\n",
            "tr_1_conv2D (Conv2D)            (None, 16, 16, 120)  28800       activation_26[0][0]              \n",
            "__________________________________________________________________________________________________\n",
            "average_pooling2d_2 (AveragePoo (None, 8, 8, 120)    0           tr_1_conv2D[0][0]                \n",
            "__________________________________________________________________________________________________\n",
            "dense_2_0_bn (BatchNormalizatio (None, 8, 8, 120)    480         average_pooling2d_2[0][0]        \n",
            "__________________________________________________________________________________________________\n",
            "activation_27 (Activation)      (None, 8, 8, 120)    0           dense_2_0_bn[0][0]               \n",
            "__________________________________________________________________________________________________\n",
            "dense_2_0_bottleneck_conv2D (Co (None, 8, 8, 96)     11520       activation_27[0][0]              \n",
            "__________________________________________________________________________________________________\n",
            "dense_2_0_bottleneck_bn (BatchN (None, 8, 8, 96)     384         dense_2_0_bottleneck_conv2D[0][0]\n",
            "__________________________________________________________________________________________________\n",
            "activation_28 (Activation)      (None, 8, 8, 96)     0           dense_2_0_bottleneck_bn[0][0]    \n",
            "__________________________________________________________________________________________________\n",
            "dense_2_0_conv2D (Conv2D)       (None, 8, 8, 24)     20736       activation_28[0][0]              \n",
            "__________________________________________________________________________________________________\n",
            "dropout_13 (Dropout)            (None, 8, 8, 24)     0           dense_2_0_conv2D[0][0]           \n",
            "__________________________________________________________________________________________________\n",
            "concatenate_13 (Concatenate)    (None, 8, 8, 144)    0           average_pooling2d_2[0][0]        \n",
            "                                                                 dropout_13[0][0]                 \n",
            "__________________________________________________________________________________________________\n",
            "dense_2_1_bn (BatchNormalizatio (None, 8, 8, 144)    576         concatenate_13[0][0]             \n",
            "__________________________________________________________________________________________________\n",
            "activation_29 (Activation)      (None, 8, 8, 144)    0           dense_2_1_bn[0][0]               \n",
            "__________________________________________________________________________________________________\n",
            "dense_2_1_bottleneck_conv2D (Co (None, 8, 8, 96)     13824       activation_29[0][0]              \n",
            "__________________________________________________________________________________________________\n",
            "dense_2_1_bottleneck_bn (BatchN (None, 8, 8, 96)     384         dense_2_1_bottleneck_conv2D[0][0]\n",
            "__________________________________________________________________________________________________\n",
            "activation_30 (Activation)      (None, 8, 8, 96)     0           dense_2_1_bottleneck_bn[0][0]    \n",
            "__________________________________________________________________________________________________\n",
            "dense_2_1_conv2D (Conv2D)       (None, 8, 8, 24)     20736       activation_30[0][0]              \n",
            "__________________________________________________________________________________________________\n",
            "dropout_14 (Dropout)            (None, 8, 8, 24)     0           dense_2_1_conv2D[0][0]           \n",
            "__________________________________________________________________________________________________\n",
            "concatenate_14 (Concatenate)    (None, 8, 8, 168)    0           concatenate_13[0][0]             \n",
            "                                                                 dropout_14[0][0]                 \n",
            "__________________________________________________________________________________________________\n",
            "dense_2_2_bn (BatchNormalizatio (None, 8, 8, 168)    672         concatenate_14[0][0]             \n",
            "__________________________________________________________________________________________________\n",
            "activation_31 (Activation)      (None, 8, 8, 168)    0           dense_2_2_bn[0][0]               \n",
            "__________________________________________________________________________________________________\n",
            "dense_2_2_bottleneck_conv2D (Co (None, 8, 8, 96)     16128       activation_31[0][0]              \n",
            "__________________________________________________________________________________________________\n",
            "dense_2_2_bottleneck_bn (BatchN (None, 8, 8, 96)     384         dense_2_2_bottleneck_conv2D[0][0]\n",
            "__________________________________________________________________________________________________\n",
            "activation_32 (Activation)      (None, 8, 8, 96)     0           dense_2_2_bottleneck_bn[0][0]    \n",
            "__________________________________________________________________________________________________\n",
            "dense_2_2_conv2D (Conv2D)       (None, 8, 8, 24)     20736       activation_32[0][0]              \n",
            "__________________________________________________________________________________________________\n",
            "dropout_15 (Dropout)            (None, 8, 8, 24)     0           dense_2_2_conv2D[0][0]           \n",
            "__________________________________________________________________________________________________\n",
            "concatenate_15 (Concatenate)    (None, 8, 8, 192)    0           concatenate_14[0][0]             \n",
            "                                                                 dropout_15[0][0]                 \n",
            "__________________________________________________________________________________________________\n",
            "dense_2_3_bn (BatchNormalizatio (None, 8, 8, 192)    768         concatenate_15[0][0]             \n",
            "__________________________________________________________________________________________________\n",
            "activation_33 (Activation)      (None, 8, 8, 192)    0           dense_2_3_bn[0][0]               \n",
            "__________________________________________________________________________________________________\n",
            "dense_2_3_bottleneck_conv2D (Co (None, 8, 8, 96)     18432       activation_33[0][0]              \n",
            "__________________________________________________________________________________________________\n",
            "dense_2_3_bottleneck_bn (BatchN (None, 8, 8, 96)     384         dense_2_3_bottleneck_conv2D[0][0]\n",
            "__________________________________________________________________________________________________\n",
            "activation_34 (Activation)      (None, 8, 8, 96)     0           dense_2_3_bottleneck_bn[0][0]    \n",
            "__________________________________________________________________________________________________\n",
            "dense_2_3_conv2D (Conv2D)       (None, 8, 8, 24)     20736       activation_34[0][0]              \n",
            "__________________________________________________________________________________________________\n",
            "dropout_16 (Dropout)            (None, 8, 8, 24)     0           dense_2_3_conv2D[0][0]           \n",
            "__________________________________________________________________________________________________\n",
            "concatenate_16 (Concatenate)    (None, 8, 8, 216)    0           concatenate_15[0][0]             \n",
            "                                                                 dropout_16[0][0]                 \n",
            "__________________________________________________________________________________________________\n",
            "dense_2_4_bn (BatchNormalizatio (None, 8, 8, 216)    864         concatenate_16[0][0]             \n",
            "__________________________________________________________________________________________________\n",
            "activation_35 (Activation)      (None, 8, 8, 216)    0           dense_2_4_bn[0][0]               \n",
            "__________________________________________________________________________________________________\n",
            "dense_2_4_bottleneck_conv2D (Co (None, 8, 8, 96)     20736       activation_35[0][0]              \n",
            "__________________________________________________________________________________________________\n",
            "dense_2_4_bottleneck_bn (BatchN (None, 8, 8, 96)     384         dense_2_4_bottleneck_conv2D[0][0]\n",
            "__________________________________________________________________________________________________\n",
            "activation_36 (Activation)      (None, 8, 8, 96)     0           dense_2_4_bottleneck_bn[0][0]    \n",
            "__________________________________________________________________________________________________\n",
            "dense_2_4_conv2D (Conv2D)       (None, 8, 8, 24)     20736       activation_36[0][0]              \n",
            "__________________________________________________________________________________________________\n",
            "dropout_17 (Dropout)            (None, 8, 8, 24)     0           dense_2_4_conv2D[0][0]           \n",
            "__________________________________________________________________________________________________\n",
            "concatenate_17 (Concatenate)    (None, 8, 8, 240)    0           concatenate_16[0][0]             \n",
            "                                                                 dropout_17[0][0]                 \n",
            "__________________________________________________________________________________________________\n",
            "dense_2_5_bn (BatchNormalizatio (None, 8, 8, 240)    960         concatenate_17[0][0]             \n",
            "__________________________________________________________________________________________________\n",
            "activation_37 (Activation)      (None, 8, 8, 240)    0           dense_2_5_bn[0][0]               \n",
            "__________________________________________________________________________________________________\n",
            "dense_2_5_bottleneck_conv2D (Co (None, 8, 8, 96)     23040       activation_37[0][0]              \n",
            "__________________________________________________________________________________________________\n",
            "dense_2_5_bottleneck_bn (BatchN (None, 8, 8, 96)     384         dense_2_5_bottleneck_conv2D[0][0]\n",
            "__________________________________________________________________________________________________\n",
            "activation_38 (Activation)      (None, 8, 8, 96)     0           dense_2_5_bottleneck_bn[0][0]    \n",
            "__________________________________________________________________________________________________\n",
            "dense_2_5_conv2D (Conv2D)       (None, 8, 8, 24)     20736       activation_38[0][0]              \n",
            "__________________________________________________________________________________________________\n",
            "dropout_18 (Dropout)            (None, 8, 8, 24)     0           dense_2_5_conv2D[0][0]           \n",
            "__________________________________________________________________________________________________\n",
            "concatenate_18 (Concatenate)    (None, 8, 8, 264)    0           concatenate_17[0][0]             \n",
            "                                                                 dropout_18[0][0]                 \n",
            "__________________________________________________________________________________________________\n",
            "final_bn (BatchNormalization)   (None, 8, 8, 264)    1056        concatenate_18[0][0]             \n",
            "__________________________________________________________________________________________________\n",
            "activation_39 (Activation)      (None, 8, 8, 264)    0           final_bn[0][0]                   \n",
            "__________________________________________________________________________________________________\n",
            "global_average_pooling2d_1 (Glo (None, 264)          0           activation_39[0][0]              \n",
            "__________________________________________________________________________________________________\n",
            "dense_1 (Dense)                 (None, 10)           2650        global_average_pooling2d_1[0][0] \n",
            "==================================================================================================\n",
            "Total params: 700,522\n",
            "Trainable params: 690,346\n",
            "Non-trainable params: 10,176\n",
            "__________________________________________________________________________________________________\n"
          ],
          "name": "stdout"
        }
      ]
    },
    {
      "metadata": {
        "id": "S0I-BnZt6mCg",
        "colab_type": "code",
        "outputId": "ca650328-6e18-4ee4-f08c-3f6e4b17599a",
        "colab": {
          "base_uri": "https://localhost:8080/",
          "height": 68
        }
      },
      "cell_type": "code",
      "source": [
        "tbc=TensorBoardColabCallback(TensorBoardColab())"
      ],
      "execution_count": 0,
      "outputs": [
        {
          "output_type": "stream",
          "text": [
            "Wait for 8 seconds...\n",
            "TensorBoard link:\n",
            "http://42d51080.ngrok.io\n"
          ],
          "name": "stdout"
        }
      ]
    },
    {
      "metadata": {
        "_uuid": "991f8e371577a1f2e8197827dab5aac2406ef1b1",
        "id": "kpe9EljYyLGq",
        "colab_type": "code",
        "outputId": "db8ad10f-2f5a-46a7-c799-c362612c0f64",
        "colab": {
          "base_uri": "https://localhost:8080/",
          "height": 34
        }
      },
      "cell_type": "code",
      "source": [
        "print('====================HYPER PARAMETERS====================')"
      ],
      "execution_count": 0,
      "outputs": [
        {
          "output_type": "stream",
          "text": [
            "====================HYPER PARAMETERS====================\n"
          ],
          "name": "stdout"
        }
      ]
    },
    {
      "metadata": {
        "_uuid": "7c17f4244c917e97e7cc1557ae60bce8dba7e47e",
        "id": "JVTAyE2OyLIW",
        "colab_type": "code",
        "outputId": "c58b011d-1e5d-4bd7-a6d9-5d1258c8c364",
        "colab": {
          "base_uri": "https://localhost:8080/",
          "height": 85
        }
      },
      "cell_type": "code",
      "source": [
        "#load data\n",
        "x_train, y_train, x_test, y_test = load_data(resize=False,append=False)#,train_augment=False"
      ],
      "execution_count": 0,
      "outputs": [
        {
          "output_type": "stream",
          "text": [
            "Downloading data from https://www.cs.toronto.edu/~kriz/cifar-10-python.tar.gz\n",
            "170500096/170498071 [==============================] - 35s 0us/step\n",
            "Before augmentation: (50000, 32, 32, 3) (50000, 10)\n",
            "After augmentation: (50000, 32, 32, 3) (50000, 10)\n"
          ],
          "name": "stdout"
        }
      ]
    },
    {
      "metadata": {
        "id": "A89juSamtr--",
        "colab_type": "code",
        "colab": {}
      },
      "cell_type": "code",
      "source": [
        "#callbacks\n",
        "batch_size=128\n",
        "model_checkpointer=ModelCheckpoint(weights_dir+'large_weights.{epoch:02d}-{val_acc:.2f}.h5', monitor='val_acc',verbose=1, save_best_only=True, save_weights_only=False, mode='max', period=2)\n",
        "clr = CyclicLR(base_lr=0.1, max_lr=0.3,step_size=4*(len(y_train)/batch_size))\n",
        "\n",
        "callbacks = [model_checkpointer,clr,tbc]#LearningRateScheduler(cosine_anneal_schedule)]\n",
        "hist=[]"
      ],
      "execution_count": 0,
      "outputs": []
    },
    {
      "metadata": {
        "_uuid": "53b7ed0b0e8acefefda51802f0bd74f0cace4c72",
        "id": "hx_zlXvhyLIy",
        "colab_type": "code",
        "outputId": "f020ca04-f889-40db-c92f-445fd2afc3f2",
        "colab": {
          "base_uri": "https://localhost:8080/",
          "height": 459
        }
      },
      "cell_type": "code",
      "source": [
        "h=model.fit(x_train, y_train, batch_size=batch_size, verbose=1,epochs=8, callbacks=callbacks, validation_data=(x_test,y_test))\n",
        "hist.append(h)\n",
        "model.save(model_file)\n",
        "print(\"Saved model to disk\")"
      ],
      "execution_count": 0,
      "outputs": [
        {
          "output_type": "stream",
          "text": [
            "Train on 50000 samples, validate on 10000 samples\n",
            "Epoch 1/8\n",
            "50000/50000 [==============================] - 183s 4ms/step - loss: 1.9615 - acc: 0.4104 - val_loss: 3.9565 - val_acc: 0.2616\n",
            "Epoch 2/8\n",
            "50000/50000 [==============================] - 174s 3ms/step - loss: 1.5634 - acc: 0.5509 - val_loss: 1.6232 - val_acc: 0.5406\n",
            "\n",
            "Epoch 00002: val_acc improved from -inf to 0.54060, saving model to /content/gdrive/My Drive/Colab Notebooks/weights/large_weights.02-0.54.h5\n",
            "Epoch 3/8\n",
            "50000/50000 [==============================] - 174s 3ms/step - loss: 1.3602 - acc: 0.6081 - val_loss: 1.9444 - val_acc: 0.4907\n",
            "Epoch 4/8\n",
            "50000/50000 [==============================] - 174s 3ms/step - loss: 1.2327 - acc: 0.6386 - val_loss: 2.0823 - val_acc: 0.4653\n",
            "\n",
            "Epoch 00004: val_acc did not improve from 0.54060\n",
            "Epoch 5/8\n",
            "50000/50000 [==============================] - 174s 3ms/step - loss: 1.1217 - acc: 0.6699 - val_loss: 2.0807 - val_acc: 0.4839\n",
            "Epoch 6/8\n",
            "50000/50000 [==============================] - 174s 3ms/step - loss: 1.0211 - acc: 0.6998 - val_loss: 1.7709 - val_acc: 0.5249\n",
            "\n",
            "Epoch 00006: val_acc did not improve from 0.54060\n",
            "Epoch 7/8\n",
            "50000/50000 [==============================] - 174s 3ms/step - loss: 0.9382 - acc: 0.7250 - val_loss: 1.0666 - val_acc: 0.6903\n",
            "Epoch 8/8\n",
            "50000/50000 [==============================] - 174s 3ms/step - loss: 0.8634 - acc: 0.7475 - val_loss: 1.4067 - val_acc: 0.6155\n",
            "\n",
            "Epoch 00008: val_acc improved from 0.54060 to 0.61550, saving model to /content/gdrive/My Drive/Colab Notebooks/weights/large_weights.08-0.62.h5\n",
            "Saved model to disk\n"
          ],
          "name": "stdout"
        }
      ]
    },
    {
      "metadata": {
        "id": "ojsf8gZxPf7q",
        "colab_type": "code",
        "colab": {}
      },
      "cell_type": "code",
      "source": [
        "# x_train, y_train, x_test, y_test = load_data(resize=False,append=False)\n",
        "# tbc=TensorBoardColabCallback(TensorBoardColab())"
      ],
      "execution_count": 0,
      "outputs": []
    },
    {
      "metadata": {
        "id": "mZyJzLddi41D",
        "colab_type": "code",
        "colab": {}
      },
      "cell_type": "code",
      "source": [
        "#callbacks\n",
        "batch_size=100\n",
        "model_checkpointer=ModelCheckpoint(weights_dir+'large_weights.{epoch:02d}-{val_acc:.2f}.h5', monitor='val_acc',verbose=1, save_best_only=True, save_weights_only=False, mode='max', period=2)\n",
        "clr = CyclicLR(base_lr=0.1, max_lr=0.3,step_size=4*(len(y_train)/batch_size))\n",
        "\n",
        "callbacks = [clr, model_checkpointer]\n",
        "hist=[]"
      ],
      "execution_count": 0,
      "outputs": []
    },
    {
      "metadata": {
        "id": "9KKLFHiei5L7",
        "colab_type": "code",
        "colab": {}
      },
      "cell_type": "code",
      "source": [
        "h=model.fit(x_train, y_train, batch_size=batch_size, verbose=1,initial_epoch=8,epochs=16, callbacks=callbacks, validation_data=(x_test,y_test))\n",
        "hist.append(h)\n",
        "model.save(model_file)\n",
        "print(\"Saved model to disk\")"
      ],
      "execution_count": 0,
      "outputs": []
    },
    {
      "metadata": {
        "id": "dHe0wB1T75fo",
        "colab_type": "code",
        "colab": {}
      },
      "cell_type": "code",
      "source": [
        "batch_size=128\n",
        "model_checkpointer=ModelCheckpoint(weights_dir+'large_weights.{epoch:02d}-{val_acc:.2f}.h5', monitor='val_acc',verbose=1, save_best_only=True, save_weights_only=False, mode='max', period=2)\n",
        "clr = CyclicLR(base_lr=0.01, max_lr=0.3,step_size=8*(len(y_train)/batch_size))\n",
        "\n",
        "callbacks = [model_checkpointer,clr]"
      ],
      "execution_count": 0,
      "outputs": []
    },
    {
      "metadata": {
        "id": "_wZvE3aA8Dju",
        "colab_type": "code",
        "colab": {}
      },
      "cell_type": "code",
      "source": [
        "h=model.fit(x_train, y_train, batch_size=batch_size, verbose=1,initial_epoch=16,epochs=16+8+8, callbacks=callbacks, validation_data=(x_test, y_test))#validation_split=0.1)\n",
        "hist.append(h)\n",
        "model.save(model_file)\n",
        "print(\"Saved model to disk\")"
      ],
      "execution_count": 0,
      "outputs": []
    },
    {
      "metadata": {
        "id": "VmHRXe3GB4_G",
        "colab_type": "code",
        "colab": {}
      },
      "cell_type": "code",
      "source": [
        "batch_size=128\n",
        "model_checkpointer=ModelCheckpoint(weights_dir+'large_weights.{epoch:02d}-{val_acc:.2f}.h5', monitor='val_acc',verbose=1, save_best_only=True, save_weights_only=False, mode='max', period=2)\n",
        "clr = CyclicLR(base_lr=0.1, max_lr=0.3,step_size=4*(len(y_train)/batch_size))\n",
        "\n",
        "callbacks = [model_checkpointer,clr,tbc]"
      ],
      "execution_count": 0,
      "outputs": []
    },
    {
      "metadata": {
        "id": "jatQ_vHbB6ve",
        "colab_type": "code",
        "colab": {}
      },
      "cell_type": "code",
      "source": [
        "h=model.fit(x_train, y_train, batch_size=batch_size, verbose=1,initial_epoch=24,epochs=48, callbacks=callbacks, validation_data=(x_test, y_test))#validation_split=0.1)\n",
        "hist.append(h)\n",
        "model.save(model_file)\n",
        "print(\"Saved model to disk\")"
      ],
      "execution_count": 0,
      "outputs": []
    },
    {
      "metadata": {
        "id": "-7CtN1Q2rCLk",
        "colab_type": "code",
        "colab": {}
      },
      "cell_type": "code",
      "source": [
        "batch_size=128\n",
        "model_checkpointer=ModelCheckpoint(weights_dir+'large_weights.{epoch:02d}-{val_acc:.2f}.h5', monitor='val_acc',verbose=1, save_best_only=True, save_weights_only=False, mode='max', period=2)\n",
        "clr = CyclicLR(base_lr=0.001, max_lr=0.1,step_size=4*(len(y_train)/batch_size))\n",
        "\n",
        "callbacks = [ model_checkpointer,clr,tbc]"
      ],
      "execution_count": 0,
      "outputs": []
    },
    {
      "metadata": {
        "id": "RdKIit76rCPN",
        "colab_type": "code",
        "colab": {}
      },
      "cell_type": "code",
      "source": [
        "h=model.fit(x_train, y_train, batch_size=batch_size, verbose=1,initial_epoch=20,epochs=20+10, callbacks=callbacks, validation_data=(x_test, y_test))#validation_split=0.1)\n",
        "hist.append(h)\n",
        "model.save(model_file)\n",
        "print(\"Saved model to disk\")"
      ],
      "execution_count": 0,
      "outputs": []
    },
    {
      "metadata": {
        "_uuid": "7be8a1352f65787da27dc9eeb8b9073890561062",
        "id": "YmAAYyWYyLJ0",
        "colab_type": "code",
        "colab": {}
      },
      "cell_type": "code",
      "source": [
        "# Test the model\n",
        "score = model.evaluate(x_test, y_test, verbose=1)\n",
        "print('Test loss:', score[0])\n",
        "print('Test accuracy:', score[1])"
      ],
      "execution_count": 0,
      "outputs": []
    },
    {
      "metadata": {
        "_uuid": "6151d97fb488aed1553bb9ae29fcb9e3e0bf1f08",
        "id": "kEa47QYDyLJ9",
        "colab_type": "code",
        "colab": {}
      },
      "cell_type": "code",
      "source": [
        "print('====================END OF LARGER MODEL====================')"
      ],
      "execution_count": 0,
      "outputs": []
    },
    {
      "metadata": {
        "id": "4BQiFHzvyLKb",
        "colab_type": "code",
        "colab": {}
      },
      "cell_type": "code",
      "source": [
        ""
      ],
      "execution_count": 0,
      "outputs": []
    }
  ]
}