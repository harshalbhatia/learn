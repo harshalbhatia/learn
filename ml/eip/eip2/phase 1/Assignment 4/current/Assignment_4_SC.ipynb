{
  "nbformat": 4,
  "nbformat_minor": 0,
  "metadata": {
    "colab": {
      "name": "Assignment-4-SC.ipynb",
      "version": "0.3.2",
      "provenance": [],
      "collapsed_sections": []
    },
    "kernelspec": {
      "display_name": "Python 3",
      "language": "python",
      "name": "python3"
    }
  },
  "cells": [
    {
      "metadata": {
        "_uuid": "f67729355a01c19c62bfa2145d9594b1da821fc6",
        "id": "SPTLX1gP7mBS",
        "colab_type": "code",
        "colab": {}
      },
      "cell_type": "code",
      "source": [
        "!pip install -q six numpy scipy matplotlib scikit-image opencv-python imageio\n",
        "!pip install -q keras imgaug\n",
        "!pip install -q git+https://www.github.com/keras-team/keras-contrib.git"
      ],
      "execution_count": 0,
      "outputs": []
    },
    {
      "metadata": {
        "_cell_guid": "b1076dfc-b9ad-4769-8c92-a6c4dae69d19",
        "_uuid": "8f2839f25d086af736a60e9eeb907d3b93b6e0e5",
        "id": "ucD3QhTw7mBX",
        "colab_type": "code",
        "colab": {}
      },
      "cell_type": "code",
      "source": [
        "import keras\n",
        "from keras_contrib.callbacks import CyclicLR, DeadReluDetector, SnapshotCallbackBuilder, SnapshotModelCheckpoint\n",
        "import imgaug as ia\n",
        "from imgaug import augmenters as iaa"
      ],
      "execution_count": 0,
      "outputs": []
    },
    {
      "metadata": {
        "_uuid": "363049cf0704e0aebfa7ea4994c6c291fd66cbac",
        "id": "IeuTHq2n7mBa",
        "colab_type": "code",
        "colab": {}
      },
      "cell_type": "code",
      "source": [
        "import numpy as np\n",
        "from keras.datasets import cifar10\n",
        "from keras.models import Model, Sequential\n",
        "from keras.layers import Dense, Dropout, Flatten, Input, AveragePooling2D, merge, Activation\n",
        "from keras.layers import Conv2D, MaxPooling2D, BatchNormalization\n",
        "from keras.layers import Concatenate\n",
        "from keras.optimizers import SGD\n",
        "from keras.models import load_model\n",
        "from keras.callbacks import ModelCheckpoint\n",
        "# from keras.callbacks import LearningRateScheduler,ModelCheckpoint,EarlyStopping,LambdaCallback\n",
        "import os,sys,math"
      ],
      "execution_count": 0,
      "outputs": []
    },
    {
      "metadata": {
        "_uuid": "22f446b53ec82f3244c33dd780ab24b896178cf9",
        "id": "040k_t2j7mBd",
        "colab_type": "code",
        "colab": {
          "base_uri": "https://localhost:8080/",
          "height": 122
        },
        "outputId": "75feea58-1805-4704-8a22-e95c6e9283d5"
      },
      "cell_type": "code",
      "source": [
        "import google\n",
        "colab_dir='./'\n",
        "file_name='EIP_CIFAR_10'\n",
        "if hasattr(google,'colab'):\n",
        "    from google.colab import drive\n",
        "    drive.mount('/content/gdrive')\n",
        "    colab_dir='/content/gdrive/My Drive/Colab Notebooks/'\n",
        "model_file=colab_dir+file_name+'.h5'\n",
        "weights_dir=colab_dir+'weights/'"
      ],
      "execution_count": 6,
      "outputs": [
        {
          "output_type": "stream",
          "text": [
            "Go to this URL in a browser: https://accounts.google.com/o/oauth2/auth?client_id=947318989803-6bn6qk8qdgf4n4g3pfee6491hc0brc4i.apps.googleusercontent.com&redirect_uri=urn%3Aietf%3Awg%3Aoauth%3A2.0%3Aoob&scope=email%20https%3A%2F%2Fwww.googleapis.com%2Fauth%2Fdocs.test%20https%3A%2F%2Fwww.googleapis.com%2Fauth%2Fdrive%20https%3A%2F%2Fwww.googleapis.com%2Fauth%2Fdrive.photos.readonly%20https%3A%2F%2Fwww.googleapis.com%2Fauth%2Fpeopleapi.readonly&response_type=code\n",
            "\n",
            "Enter your authorization code:\n",
            "··········\n",
            "Mounted at /content/gdrive\n"
          ],
          "name": "stdout"
        }
      ]
    },
    {
      "metadata": {
        "_cell_guid": "79c7e3d0-c299-4dcb-8224-4455121ee9b0",
        "_uuid": "d629ff2d2480ee46fbb7e2d37f6b5fab8052498a",
        "id": "4E7SahmR7mBh",
        "colab_type": "code",
        "colab": {}
      },
      "cell_type": "code",
      "source": [
        "# this part will prevent tensorflow to allocate all the avaliable GPU Memory\n",
        "# backend\n",
        "import tensorflow as tf\n",
        "from keras import backend as k\n",
        "\n",
        "# Don't pre-allocate memory; allocate as-needed\n",
        "config = tf.ConfigProto()\n",
        "config.gpu_options.allow_growth = True\n",
        "\n",
        "# Create a session with the above options specified.\n",
        "k.tensorflow_backend.set_session(tf.Session(config=config))"
      ],
      "execution_count": 0,
      "outputs": []
    },
    {
      "metadata": {
        "_uuid": "aa9bb45cb7f0171c15c4b065ade989e82042b15a",
        "id": "xoZ7Z4wV7mBk",
        "colab_type": "code",
        "colab": {}
      },
      "cell_type": "code",
      "source": [
        "#Augmentation and resizing\n",
        "#augment and then concat samples with original\n",
        "def augment(dataset,flip=0.5,blur=1.0):\n",
        "    ia.seed(1)\n",
        "#     seq = iaa.Sequential([iaa.Fliplr(flip),iaa.GaussianBlur(sigma=(0, blur)),iaa.Sometimes(iaa.Crop(percent=(0, 0.1))),\n",
        "#                          iaa.Sometimes(iaa.Affine(scale={\"x\": (0.8, 1.2), \"y\": (0.8, 1.2)},\n",
        "#                                              translate_percent={\"x\": (-0.2, 0.2), \"y\": (-0.2, 0.2)},\n",
        "#                                              rotate=(-45, 45),shear=(-16, 16),order=[0, 1],cval=(0, 255),mode=ia.ALL))])\n",
        "    seq = iaa.Sequential([\n",
        "    iaa.Fliplr(0.5),\n",
        "    iaa.Crop(percent=(0, 0.1)),\n",
        "    iaa.Sometimes(0.5,\n",
        "        iaa.GaussianBlur(sigma=(0, 0.5))\n",
        "    ),\n",
        "    iaa.ContrastNormalization((0.75, 1.5)),\n",
        "    iaa.AdditiveGaussianNoise(loc=0, scale=(0.0, 0.05*255), per_channel=0.5),\n",
        "    iaa.Multiply((0.8, 1.2), per_channel=0.2),\n",
        "    iaa.Affine(\n",
        "        scale={\"x\": (0.8, 1.2), \"y\": (0.8, 1.2)},\n",
        "        translate_percent={\"x\": (-0.2, 0.2), \"y\": (-0.2, 0.2)},\n",
        "        rotate=(-25, 25),\n",
        "        shear=(-8, 8))], random_order=True)    \n",
        "    return seq.augment_images(dataset)\n",
        "\n",
        "def augmenter(X,y,start=0,end=1):\n",
        "    na=True\n",
        "    ln=len(X)\n",
        "    print('Before augmentation:',X.shape,y.shape)\n",
        "    start=int(start*ln)\n",
        "    end=int(end*ln)\n",
        "    if na:\n",
        "      X=augment(X)\n",
        "    else:\n",
        "      new_X=augment(X)[start:end]\n",
        "      new_y=y[start:end]\n",
        "      X=np.concatenate((X,new_X))\n",
        "      y=np.concatenate((y,new_y))\n",
        "    print('After augmentation:',X.shape,y.shape)\n",
        "    return (X,y)\n",
        "\n",
        "#26x26 is almost half of 32x32. 22x22 maybe too small even though its exact half.\n",
        "def resize_imgs(imgs,shape=(26,26)):\n",
        "    seq = iaa.Sequential([iaa.Scale({\"height\": shape[0], \"width\": shape[1]})])\n",
        "    return seq.augment_images(imgs)"
      ],
      "execution_count": 0,
      "outputs": []
    },
    {
      "metadata": {
        "_uuid": "b55206328faf39cfbc450beddc20dc5a90aa5218",
        "id": "6VdC554A7mBo",
        "colab_type": "code",
        "colab": {}
      },
      "cell_type": "code",
      "source": [
        "# Dense Block\n",
        "def add_denseblock(input, num_filter = 12, dropout_rate = 0.2,num_layers=12):\n",
        "    global compression\n",
        "    temp = input\n",
        "    for _ in range(num_layers):\n",
        "        BatchNorm = BatchNormalization()(temp)\n",
        "        relu = Activation('relu')(BatchNorm)\n",
        "        Conv2D_3_3 = Conv2D(int(num_filter*compression), (3,3),kernel_initializer='he_normal', use_bias=False ,padding='same')(relu)\n",
        "        if dropout_rate>0:\n",
        "            Conv2D_3_3 = Dropout(dropout_rate)(Conv2D_3_3)\n",
        "        concat = Concatenate(axis=-1)([temp,Conv2D_3_3])        \n",
        "        temp = concat        \n",
        "    return temp\n",
        "\n",
        "def add_transition(input, num_filter = 12, dropout_rate = 0.2):\n",
        "    global compression\n",
        "    BatchNorm = BatchNormalization()(input)\n",
        "    relu = Activation('relu')(BatchNorm)\n",
        "    Conv2D_BottleNeck = Conv2D(int(num_filter*compression), (1,1),kernel_initializer='he_normal', use_bias=False ,padding='same')(relu)\n",
        "    if dropout_rate>0:\n",
        "        Conv2D_BottleNeck = Dropout(dropout_rate)(Conv2D_BottleNeck)\n",
        "    avg = AveragePooling2D(pool_size=(2,2))(Conv2D_BottleNeck)    \n",
        "    return avg\n",
        "\n",
        "def output_layer(input):\n",
        "    global compression\n",
        "    BatchNorm = BatchNormalization()(input)\n",
        "    relu = Activation('relu')(BatchNorm)\n",
        "    AvgPooling = AveragePooling2D(pool_size=(2,2))(relu)\n",
        "    flat = Flatten()(AvgPooling)\n",
        "    output = Dense(num_classes, activation='softmax')(flat)    \n",
        "    return output\n",
        "  \n",
        "def dense_unit(input_layer,num_filter, dropout_rate,num_layers):\n",
        "    dense_block=add_denseblock(input_layer, num_filter, dropout_rate,num_layers)\n",
        "    transition_block=add_transition(dense_block, num_filter, dropout_rate)\n",
        "    return transition_block\n",
        "  \n",
        "def dense_units_chain(n,input_layer,num_filter, dropout_rate,num_layers):\n",
        "    dense_unit_=input_layer\n",
        "    for i in range(n):\n",
        "        dense_unit_=dense_unit(dense_unit_,num_filter, dropout_rate,num_layers)\n",
        "    return dense_unit_"
      ],
      "execution_count": 0,
      "outputs": []
    },
    {
      "metadata": {
        "_uuid": "9d5f083dfa8904a9bd7433e385ad2a0b8a236b22",
        "id": "GvQWaXC77mB4",
        "colab_type": "code",
        "colab": {}
      },
      "cell_type": "code",
      "source": [
        "def load_prev_model(model_small=None):\n",
        "#     print(os.popen('du -sh '+colab_dir+'*').read())\n",
        "    last_best=os.popen('du -sh '+colab_dir+r'*|sed -r \"s/^[0-9\\.]+[MK]?\\s(.*)$/\\1/g;\"|tail -1').read().strip()\n",
        "    model_prev=None\n",
        "    try:\n",
        "        print('Attempting to load last best model from file - ',end='')\n",
        "        last_best_fn=last_best.split('/')[-1]\n",
        "        last_best_epoch=last_best_fn.split('.')[1].split('-')[0]\n",
        "        model_prev=load_model(last_best)\n",
        "        print('Sucess\\nLoaded '+last_best_fn, 'epoch :', last_best_epoch)\n",
        "    except Exception as e:\n",
        "        print('Failed!\\n',e)\n",
        "        try:\n",
        "            print('Attempting to load last saved model from file - ',end='')\n",
        "            model_prev = load_model(model_file)\n",
        "            print('Sucess\\nLoaded model from file',model_file)\n",
        "        except Exception as e:\n",
        "    #         print(str(e), 'at line ', sys.exc_info()[2].tb_lineno)\n",
        "            print('Failed!\\n',e)\n",
        "            try:\n",
        "                print('Attempting to load in memory, small model - ',end='')\n",
        "                if len(model_small.layers)>1:\n",
        "                    model_prev=model_small\n",
        "                print('Sucess')\n",
        "            except Exception as e:\n",
        "                print('Failed!\\n',e)\n",
        "    return model_prev\n",
        "  \n",
        "def copy_weights(model_to,model_from):\n",
        "    #model_to.set_weights(model_from.get_weights())\n",
        "    s,err=0,0\n",
        "    print('Trying to copy weights')\n",
        "    try:\n",
        "        if len(model_to.layers) >1 and len(model_from.layers) >1:\n",
        "            pass\n",
        "    except Exception as e:\n",
        "        print('Inavlid models',model_to,model_from)\n",
        "        return\n",
        "    for new_layer, layer in zip(model_to.layers[1:], model_from.layers[1:]):\n",
        "        s+=1\n",
        "        try:\n",
        "            new_layer.set_weights(layer.get_weights())\n",
        "        except Exception as e:\n",
        "            pass\n",
        "    print('Done: errors:',err)\n",
        "      \n",
        "#new model with larger i/p layer\n",
        "def larger_model(src_model,shape=(32,32,3)):\n",
        "    new_input=Input(shape)\n",
        "    src_model.layers.pop(0)\n",
        "    new_output=src_model(new_input)\n",
        "    new_model=Model(new_input,new_output)\n",
        "    return new_model\n",
        "\n",
        "# Load CIFAR10 Data\n",
        "def load_data(resize=False,shape=(26,26),test_augment=False):\n",
        "    (x_train, y_train), (x_test, y_test) = cifar10.load_data()\n",
        "    \n",
        "    y_train = keras.utils.to_categorical(y_train, num_classes)\n",
        "    y_test = keras.utils.to_categorical(y_test, num_classes)\n",
        "    \n",
        "    if resize:\n",
        "        x_train=resize_imgs(x_train,shape)\n",
        "        x_test=resize_imgs(x_test,shape)\n",
        "    \n",
        "    (x_train, y_train) = augmenter(x_train, y_train,end=1)\n",
        "    if test_augment:\n",
        "        (x_test, y_test) = augmenter(x_test, y_test,end=1)\n",
        "    return (x_train, y_train,x_test, y_test)\n",
        "#create a dnn model\n",
        "def create_model(input_shape,num_layers,input=None):\n",
        "    print('Creating model with input shape',input_shape)\n",
        "    if input is None:\n",
        "        input = Input(input_shape)\n",
        "    First_Conv2D = Conv2D(num_filter, (3,3), use_bias=False ,padding='same')(input)\n",
        "    hidden_dense_blocks = dense_units_chain(n_dense_blocks,First_Conv2D,num_filter,dropout_rate,num_layers)\n",
        "    Last_Block = add_denseblock(hidden_dense_blocks, num_filter, dropout_rate)\n",
        "    output = output_layer(Last_Block)\n",
        "    model = Model(inputs=[input], outputs=[output])\n",
        "    return model"
      ],
      "execution_count": 0,
      "outputs": []
    },
    {
      "metadata": {
        "_uuid": "991f8e371577a1f2e8197827dab5aac2406ef1b1",
        "id": "VWyqy3i17mB6",
        "colab_type": "code",
        "colab": {
          "base_uri": "https://localhost:8080/",
          "height": 34
        },
        "outputId": "2ee27f59-79bc-4951-8a43-39bf187e538f"
      },
      "cell_type": "code",
      "source": [
        "print('====================HYPER PARAMETERS====================')"
      ],
      "execution_count": 11,
      "outputs": [
        {
          "output_type": "stream",
          "text": [
            "====================HYPER PARAMETERS====================\n"
          ],
          "name": "stdout"
        }
      ]
    },
    {
      "metadata": {
        "_uuid": "02c643e295c0bc677da79c821a40e5b15cc3fdaf",
        "id": "1B-A0xcK7mB9",
        "colab_type": "code",
        "colab": {}
      },
      "cell_type": "code",
      "source": [
        "# Hyperparameters\n",
        "batch_size = 128\n",
        "num_classes = 10\n",
        "max_epochs = 250\n",
        "\n",
        "# model_epochs=[[0,10],[0,160],[160,60]]\n",
        "model_epochs=[[0,1],[0,1],[1,2]]\n",
        "\n",
        "num_layers = 32\n",
        "\n",
        "layers_large=layers_small=num_layers\n",
        "num_filter = 12\n",
        "compression = 0.6\n",
        "dropout_rate = 0.2\n",
        "n_dense_blocks = 3\n",
        "smaller_input=(26,26,3)\n",
        "hist=[]\n",
        "i=-1"
      ],
      "execution_count": 0,
      "outputs": []
    },
    {
      "metadata": {
        "_uuid": "275d54ceb5bde42b199b74a7b7fa0b0677874feb",
        "id": "Q8l3GD3t7mCC",
        "colab_type": "code",
        "colab": {
          "base_uri": "https://localhost:8080/",
          "height": 34
        },
        "outputId": "237e9f55-27fb-4208-bdc0-b4e88b8a1711"
      },
      "cell_type": "code",
      "source": [
        "print('====================BEGIN OF SMALLER MODEL====================')"
      ],
      "execution_count": 13,
      "outputs": [
        {
          "output_type": "stream",
          "text": [
            "====================BEGIN OF SMALLER MODEL====================\n"
          ],
          "name": "stdout"
        }
      ]
    },
    {
      "metadata": {
        "_uuid": "4fec52f1aaca7cc57b2152e1b128ed082a482e1b",
        "id": "O02cvTTI7mCE",
        "colab_type": "code",
        "colab": {
          "base_uri": "https://localhost:8080/",
          "height": 51
        },
        "outputId": "e4198453-18ae-43ff-deb4-613d79c3d63f"
      },
      "cell_type": "code",
      "source": [
        "#load data\n",
        "x_train, y_train, x_test, y_test = load_data(resize=True,shape=smaller_input[:-1])\n",
        "\n",
        "#callbacks\n",
        "model_checkpointer=ModelCheckpoint(weights_dir+'small_weights.{epoch:02d}-{val_acc:.2f}.h5', monitor='val_acc',\n",
        "                verbose=1, save_best_only=True, save_weights_only=False, mode='max', period=2)\n",
        "# early_stopper = EarlyStopping(monitor='val_loss', min_delta=0, patience=0, verbose=0, mode='auto', baseline=None, restore_best_weights=True)\n",
        "clr = CyclicLR(base_lr=0.1, max_lr=0.2,step_size=8*(len(y_train)/batch_size))\n",
        "\n",
        "M = 6\n",
        "nb_epoch = T = 1#200\n",
        "alpha_zero = 0.1\n",
        "model_prefix = 'ensemble_'\n",
        "snapshot = SnapshotCallbackBuilder(T, M, alpha_zero) \n",
        "\n",
        "\n",
        "# callbacks = snapshot.get_callbacks(model_prefix=model_prefix)\n",
        "callbacks_lst = [clr, model_checkpointer]"
      ],
      "execution_count": 21,
      "outputs": [
        {
          "output_type": "stream",
          "text": [
            "Before augmentation: (50000, 26, 26, 3) (50000, 10)\n",
            "After augmentation: (50000, 26, 26, 3) (50000, 10)\n"
          ],
          "name": "stdout"
        }
      ]
    },
    {
      "metadata": {
        "_uuid": "a1c8f577fd7d55a94eea1620db6e4a4d0356ec81",
        "id": "SsQYOlPl7mCM",
        "colab_type": "code",
        "colab": {}
      },
      "cell_type": "code",
      "source": [
        "#create model\n",
        "model_small = create_model((x_train.shape[1:]),num_layers=layers_small)\n",
        "model_small.compile(loss='categorical_crossentropy',metrics=['accuracy'],\n",
        "              optimizer=SGD(lr=0.1, decay=1e-4, momentum=0.9, nesterov=True))\n",
        "model_small.summary()"
      ],
      "execution_count": 0,
      "outputs": []
    },
    {
      "metadata": {
        "_uuid": "a4aa8818828844c3c353d304c2dd84b2b3e68024",
        "scrolled": true,
        "id": "A53q2PJF7mCU",
        "colab_type": "code",
        "colab": {}
      },
      "cell_type": "code",
      "source": [
        "#train model\n",
        "i+=1\n",
        "h=model_small.fit(x_train, y_train, batch_size=batch_size,verbose=1,initial_epoch=model_epochs[i][0],epochs=model_epochs[i][1], callbacks=callbacks,validation_data=(x_test, y_test))\n",
        "hist.append(h)\n",
        "model_small.save(model_file)\n",
        "print('Saved model_small to disk')"
      ],
      "execution_count": 0,
      "outputs": []
    },
    {
      "metadata": {
        "_uuid": "86607351bf8f2b7358482e908fe190924650691a",
        "id": "li0nvGXK7mCW",
        "colab_type": "code",
        "colab": {}
      },
      "cell_type": "code",
      "source": [
        "print('====================END OF SMALLER MODEL====================')"
      ],
      "execution_count": 0,
      "outputs": []
    },
    {
      "metadata": {
        "_uuid": "80cc5c901ceb489ffb260bff35d50ee9af6b1826",
        "id": "zO8YDS6N7mCj",
        "colab_type": "code",
        "colab": {}
      },
      "cell_type": "code",
      "source": [
        "print('====================BEGIN OF LARGER MODEL====================')"
      ],
      "execution_count": 0,
      "outputs": []
    },
    {
      "metadata": {
        "_uuid": "7c17f4244c917e97e7cc1557ae60bce8dba7e47e",
        "id": "ottVP5vX7mCl",
        "colab_type": "code",
        "colab": {}
      },
      "cell_type": "code",
      "source": [
        "#load data\n",
        "x_train, y_train, x_test, y_test = load_data(resize=False)\n",
        "\n",
        "# callbacks\n",
        "# model_checkpointer=ModelCheckpoint(weights_dir+'large_weights.{epoch:02d}-{val_acc:.2f}.h5', monitor='val_acc',\n",
        "#                 verbose=1, save_best_only=True, save_weights_only=False, mode='max', period=2)\n",
        "# early_stopper = EarlyStopping(monitor='val_loss', min_delta=0, patience=0, verbose=0, mode='auto', baseline=None, restore_best_weights=True)\n",
        "clr = CyclicLR(base_lr=0.1, max_lr=4,step_size=8*(len(y_train)/batch_size),mode='triangular2',gamma=0.99994)\n",
        "\n",
        "M = 6\n",
        "nb_epoch = T = 1 #200\n",
        "alpha_zero = 0.1\n",
        "model_prefix = 'ensemble_'\n",
        "snapshot = SnapshotCallbackBuilder(T, M, alpha_zero) \n",
        "\n",
        "\n",
        "# callbacks = snapshot.get_callbacks(model_prefix=model_prefix)\n",
        "callbacks_lst = [clr, model_checkpointer]"
      ],
      "execution_count": 0,
      "outputs": []
    },
    {
      "metadata": {
        "_uuid": "5f3adc0c3037f0d323cda32709d8abd57602b3c3",
        "id": "_ZU26g7A7mCp",
        "colab_type": "code",
        "colab": {}
      },
      "cell_type": "code",
      "source": [
        "#create model\n",
        "# model_prev=load_prev_model(model_small)\n",
        "\n",
        "model_large = create_model(x_train.shape[1:],num_layers=layers_large)\n",
        "# model_large = larger_model(model_prev)\n",
        "\n",
        "model_large.compile(loss='categorical_crossentropy',metrics=['accuracy'],\n",
        "                    optimizer=SGD(lr=0.1, decay=1e-6, momentum=0.9, nesterov=True))\n",
        "model_large.summary()"
      ],
      "execution_count": 0,
      "outputs": []
    },
    {
      "metadata": {
        "_uuid": "53b7ed0b0e8acefefda51802f0bd74f0cace4c72",
        "id": "96nb6x5m7mCs",
        "colab_type": "code",
        "colab": {}
      },
      "cell_type": "code",
      "source": [
        "#train model\n",
        "i+=1\n",
        "h=model_large.fit(x_train, y_train, batch_size=batch_size,verbose=1,initial_epoch=model_epochs[i][0],epochs=model_epochs[i][1], callbacks=callbacks,validation_data=(x_test, y_test))\n",
        "hist.append(h)\n",
        "model_large.save(model_file)\n",
        "print(\"Saved model to disk\")"
      ],
      "execution_count": 0,
      "outputs": []
    },
    {
      "metadata": {
        "id": "t-lZfnOK7mCt",
        "colab_type": "code",
        "colab": {}
      },
      "cell_type": "code",
      "source": [
        ""
      ],
      "execution_count": 0,
      "outputs": []
    },
    {
      "metadata": {
        "id": "ucD_Uea_7mCw",
        "colab_type": "code",
        "colab": {}
      },
      "cell_type": "code",
      "source": [
        ""
      ],
      "execution_count": 0,
      "outputs": []
    },
    {
      "metadata": {
        "_uuid": "7be8a1352f65787da27dc9eeb8b9073890561062",
        "id": "YOg0FBIo7mCy",
        "colab_type": "code",
        "colab": {}
      },
      "cell_type": "code",
      "source": [
        "# Test the model\n",
        "score = model_large.evaluate(x_test, y_test, verbose=1)\n",
        "print('Test loss:', score[0])\n",
        "print('Test accuracy:', score[1])"
      ],
      "execution_count": 0,
      "outputs": []
    },
    {
      "metadata": {
        "_uuid": "6151d97fb488aed1553bb9ae29fcb9e3e0bf1f08",
        "id": "w5Cv_zh77mC1",
        "colab_type": "code",
        "colab": {}
      },
      "cell_type": "code",
      "source": [
        "print('====================END OF LARGER MODEL====================')"
      ],
      "execution_count": 0,
      "outputs": []
    },
    {
      "metadata": {
        "id": "QEXPdYQm7mC3",
        "colab_type": "code",
        "colab": {}
      },
      "cell_type": "code",
      "source": [
        "score = model_large.evaluate(x_test, y_test, verbose=1)\n",
        "s=open('res.txt','w')\n",
        "s.write(score[0],score[1])\n",
        "s.close()"
      ],
      "execution_count": 0,
      "outputs": []
    },
    {
      "metadata": {
        "id": "gxg9yt2E7mC5",
        "colab_type": "code",
        "colab": {}
      },
      "cell_type": "code",
      "source": [
        "s=open('res.txt','a')\n",
        "s.write(str(hl))\n",
        "s.close()"
      ],
      "execution_count": 0,
      "outputs": []
    },
    {
      "metadata": {
        "id": "86AsVVIv7mC8",
        "colab_type": "code",
        "colab": {}
      },
      "cell_type": "code",
      "source": [
        ""
      ],
      "execution_count": 0,
      "outputs": []
    },
    {
      "metadata": {
        "id": "h-P6sIm47mC_",
        "colab_type": "code",
        "colab": {}
      },
      "cell_type": "code",
      "source": [
        ""
      ],
      "execution_count": 0,
      "outputs": []
    }
  ]
}