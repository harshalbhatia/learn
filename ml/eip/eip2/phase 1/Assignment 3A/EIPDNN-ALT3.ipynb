{
  "cells": [
    {
      "metadata": {
        "trusted": true,
        "_uuid": "e161c93a19f7c79655b861165af9d7f7595b781b"
      },
      "cell_type": "code",
      "source": "!pip install -q git+https://www.github.com/keras-team/keras-contrib.git",
      "execution_count": 3,
      "outputs": [
        {
          "output_type": "stream",
          "text": "\u001b[31mmxnet 1.3.0.post0 has requirement numpy<1.15.0,>=1.8.2, but you'll have numpy 1.15.2 which is incompatible.\u001b[0m\n\u001b[31mkmeans-smote 0.1.0 has requirement imbalanced-learn<0.4,>=0.3.1, but you'll have imbalanced-learn 0.5.0.dev0 which is incompatible.\u001b[0m\n\u001b[31mkmeans-smote 0.1.0 has requirement numpy<1.15,>=1.13, but you'll have numpy 1.15.2 which is incompatible.\u001b[0m\n\u001b[31mfastai 0.7.0 has requirement torch<0.4, but you'll have torch 0.4.1.post2 which is incompatible.\u001b[0m\n\u001b[31manaconda-client 1.7.2 has requirement python-dateutil>=2.6.1, but you'll have python-dateutil 2.6.0 which is incompatible.\u001b[0m\n\u001b[31mimbalanced-learn 0.5.0.dev0 has requirement scikit-learn>=0.20, but you'll have scikit-learn 0.19.1 which is incompatible.\u001b[0m\n\u001b[33mYou are using pip version 10.0.1, however version 18.1 is available.\nYou should consider upgrading via the 'pip install --upgrade pip' command.\u001b[0m\n",
          "name": "stdout"
        }
      ]
    },
    {
      "metadata": {
        "trusted": true,
        "_uuid": "25864e1812a7d6a7aa2563fdc4d740e0a036fcd3"
      },
      "cell_type": "code",
      "source": "from keras_contrib.callbacks.cyclical_learning_rate import CyclicLR",
      "execution_count": 4,
      "outputs": [
        {
          "output_type": "stream",
          "text": "Using TensorFlow backend.\n",
          "name": "stderr"
        }
      ]
    },
    {
      "metadata": {
        "_uuid": "8f2839f25d086af736a60e9eeb907d3b93b6e0e5",
        "_cell_guid": "b1076dfc-b9ad-4769-8c92-a6c4dae69d19",
        "trusted": true
      },
      "cell_type": "code",
      "source": "import keras\nimport numpy as np\nfrom functools import reduce\nfrom keras.models import Sequential\nfrom keras.layers import Dense, Dropout, Activation, Flatten, Add\nfrom keras.layers import Convolution2D, MaxPooling2D,SeparableConvolution2D\nfrom keras.utils import np_utils\nfrom keras import backend\nfrom keras.preprocessing import image\nfrom keras.preprocessing.image import ImageDataGenerator\nfrom keras.layers import BatchNormalization\nfrom keras.layers import Dropout\nfrom keras.datasets import mnist\n",
      "execution_count": 5,
      "outputs": []
    },
    {
      "metadata": {
        "trusted": true,
        "_uuid": "e04949f7fe25a18771d4c423bc21a1c1c6d3348a"
      },
      "cell_type": "code",
      "source": "def plot_hist(history):\n    line1,=plt.plot(history.history['val_acc'],label='val_acc')\n    line2,=plt.plot(history.history['acc'],label='train_acc')\n    plt.legend(handles=[line1, line2])\ndef plot_history(history):\n    nhist={}\n    for k,v in history.items():\n        nhist[k]=merge_nl(history[k])\n    history=nhist\n    line1,=plt.plot(history['train'],label='train_acc')\n    line2,=plt.plot(history['val'],label='val_acc')    \n    plt.legend(handles=[line1, line2])\ndef mf(o,s):\n    if o is None:\n        o=[]\n    o+=s\n    return o\ndef merge_nl(l):\n    return reduce(mf,l,[])\n\ndef model_train():\n    global hist,epochs,batch_size,X_train,Y_train,X_test,Y_test,augment\n    clr= clr = CyclicLR(base_lr=0.001, max_lr=0.006,step_size=2000)\n    if augment:\n        h=model.fit_generator(datagen.flow(X_train, Y_train, batch_size=32),steps_per_epoch=len(x_train) / 32,verbose=1, epochs=epochs,validation_data=(X_test,Y_test))\n    else:\n        h=model.fit(X_train, Y_train, batch_size=batch_size, epochs=epochs, verbose=1,validation_data=(X_test,Y_test))\n    \n    hist['train'].append(h.history['acc'])\n    hist['val'].append(h.history['val_acc'])",
      "execution_count": 6,
      "outputs": []
    },
    {
      "metadata": {
        "trusted": true,
        "_uuid": "40351555aee512a82504e420c3c11fbc037e089b"
      },
      "cell_type": "code",
      "source": "(X_train, y_train), (X_test, y_test) = mnist.load_data()",
      "execution_count": 7,
      "outputs": [
        {
          "output_type": "stream",
          "text": "Downloading data from https://s3.amazonaws.com/img-datasets/mnist.npz\n11493376/11490434 [==============================] - 0s 0us/step\n",
          "name": "stdout"
        }
      ]
    },
    {
      "metadata": {
        "_cell_guid": "79c7e3d0-c299-4dcb-8224-4455121ee9b0",
        "_uuid": "d629ff2d2480ee46fbb7e2d37f6b5fab8052498a",
        "trusted": true
      },
      "cell_type": "code",
      "source": "# print (X_train.shape)\nfrom matplotlib import pyplot as plt\n%matplotlib inline\n# plt.imshow(X_train[0])\n\nX_train = X_train.reshape(X_train.shape[0], 28, 28,1)\nX_test = X_test.reshape(X_test.shape[0], 28, 28,1)\nx_train = X_train.astype('float32')\nX_test = X_test.astype('float32')\n\n\ndivider=255\nX_train=X_train/divider\nX_test=X_test/divider\ny_train[:10]\n# Convert 1-dimensional class arrays to 10-dimensional class matrices\nY_train = np_utils.to_categorical(y_train, 10)\nY_test = np_utils.to_categorical(y_test, 10)\n\n# datagen = ImageDataGenerator(\n#     featurewise_center=True,\n#     featurewise_std_normalization=True,\n#     rotation_range=20,\n#     width_shift_range=0.2,\n#     height_shift_range=0.2,\n#     horizontal_flip=True)\n\n# datagen.fit(X_train)",
      "execution_count": 8,
      "outputs": []
    },
    {
      "metadata": {
        "trusted": true,
        "_uuid": "8beb2353881c94319a8809ba2cc2e1707777b5b1"
      },
      "cell_type": "code",
      "source": "print(\"==============================HYPER PARAMETERS BEGIN===================================\")",
      "execution_count": 9,
      "outputs": [
        {
          "output_type": "stream",
          "text": "==============================HYPER PARAMETERS BEGIN===================================\n",
          "name": "stdout"
        }
      ]
    },
    {
      "metadata": {
        "trusted": true,
        "_uuid": "b648e60adb383394523ee628d29c66bbd2690720"
      },
      "cell_type": "code",
      "source": "dropout= 0.1\naugment=False\n\nhist={'train':[],'val':[]} #store history\n\nmaxpool=False\nmaxpools=2\n\nsep_conv=True\nsep_conv_last=True\n\nkernels=[]\nconvolutions=[]\nmodel_num=2\n\nmodel_dict={\n    0:{'kernels':[5,10,20,30,40,25,25,20,20],               'convolutions':[3,3,3,3,3,1,3,1,3],'last_conv_size':14},\n    1:{'kernels':[5,10,20,30,40,33,33,25,25,20,20],         'convolutions':[3,3,3,3,3,1,3,1,3,1,3],'last_conv_size':12},\n    2:{'kernels':[5, 5,10,10,20,20,30,30,40,40,25,25,20,20],'convolutions':[1,3,1,3,1,3,1,3,1,3,1,3,1,3],'last_conv_size':14},\n    \n    \n}\n# kernels=[5,5,10,10,20,20,30,30, 40, 40,25,25,20,20]\n# convolutions=[1,3,1,3,1,3,1,3, 1,3, 1, 3, 1, 3]\n# kernels=[5,10,20,30,40,33,33,25,25,20,20]\n# convolutions=[3,3,3,3, 1,3, 1, 3, 1, 3]\n# kernels=[5,10,20,30,  40,25,25,20,20]\n# convolutions=[3,3,3,3, 3, 1, 3, 1, 3]\n\nmaxpool_indices={}\n# last_conv_size=14\nlast_conv_kernels=10",
      "execution_count": 10,
      "outputs": []
    },
    {
      "metadata": {
        "trusted": true,
        "_uuid": "5d522efb0828bb0f5cbcf9de430d43ac4c17307b"
      },
      "cell_type": "code",
      "source": "print(\"==============================HYPER PARAMETERS END===================================\")",
      "execution_count": 11,
      "outputs": [
        {
          "output_type": "stream",
          "text": "==============================HYPER PARAMETERS END===================================\n",
          "name": "stdout"
        }
      ]
    },
    {
      "metadata": {
        "trusted": true,
        "_uuid": "bc8b2291fbc48468193ab787261b499a57079cc2"
      },
      "cell_type": "code",
      "source": "from keras.layers import Activation\n\nkernels,convolutions,last_conv_size=model_dict[model_num].values()\nif maxpool:\n    maxpool_indices={4:True,6:True}\n    last_conv_size=int(last_conv_size/(2**maxpools))\n#len(kernels)%(maxpools+1)==0\nmodel = Sequential()\nmodel.add(BatchNormalization(input_shape=(28,28,1)))\nfor i in range(len(kernels)):\n    model.add(BatchNormalization())\n    if sep_conv:\n        model.add(SeparableConvolution2D(kernels[i],(convolutions[i],1)))\n        model.add(SeparableConvolution2D(kernels[i],(1,convolutions[i])))\n        model.add(Activation('relu'))\n    else:\n        model.add(Convolution2D(kernels[i], convolutions[i],activation='relu'))\n        \n    if maxpool and maxpool_indices.get(i):\n        model.add(MaxPooling2D(pool_size=(2,2)))\n    if dropout>0:\n        model.add(Dropout(dropout))\n    \n        \nmodel.add(BatchNormalization())\nif sep_conv_last:\n    model.add(SeparableConvolution2D(last_conv_kernels,(last_conv_size,1)))\n    model.add(SeparableConvolution2D(last_conv_kernels,(1,last_conv_size)))\n    model.add(Activation('relu'))\nelse:\n    model.add(Convolution2D(last_conv_kernels, last_conv_size,activation='relu'))\n    \nmodel.add(Flatten())\nmodel.add(Activation('softmax'))\n\nmodel.compile(loss='categorical_crossentropy',\n             optimizer='adam',\n             metrics=['accuracy'])\nmodel.summary()",
      "execution_count": 12,
      "outputs": [
        {
          "output_type": "stream",
          "text": "_________________________________________________________________\nLayer (type)                 Output Shape              Param #   \n=================================================================\nbatch_normalization_1 (Batch (None, 28, 28, 1)         4         \n_________________________________________________________________\nbatch_normalization_2 (Batch (None, 28, 28, 1)         4         \n_________________________________________________________________\nseparable_conv2d_1 (Separabl (None, 28, 28, 5)         11        \n_________________________________________________________________\nseparable_conv2d_2 (Separabl (None, 28, 28, 5)         35        \n_________________________________________________________________\nactivation_1 (Activation)    (None, 28, 28, 5)         0         \n_________________________________________________________________\ndropout_1 (Dropout)          (None, 28, 28, 5)         0         \n_________________________________________________________________\nbatch_normalization_3 (Batch (None, 28, 28, 5)         20        \n_________________________________________________________________\nseparable_conv2d_3 (Separabl (None, 26, 28, 5)         45        \n_________________________________________________________________\nseparable_conv2d_4 (Separabl (None, 26, 26, 5)         45        \n_________________________________________________________________\nactivation_2 (Activation)    (None, 26, 26, 5)         0         \n_________________________________________________________________\ndropout_2 (Dropout)          (None, 26, 26, 5)         0         \n_________________________________________________________________\nbatch_normalization_4 (Batch (None, 26, 26, 5)         20        \n_________________________________________________________________\nseparable_conv2d_5 (Separabl (None, 26, 26, 10)        65        \n_________________________________________________________________\nseparable_conv2d_6 (Separabl (None, 26, 26, 10)        120       \n_________________________________________________________________\nactivation_3 (Activation)    (None, 26, 26, 10)        0         \n_________________________________________________________________\ndropout_3 (Dropout)          (None, 26, 26, 10)        0         \n_________________________________________________________________\nbatch_normalization_5 (Batch (None, 26, 26, 10)        40        \n_________________________________________________________________\nseparable_conv2d_7 (Separabl (None, 24, 26, 10)        140       \n_________________________________________________________________\nseparable_conv2d_8 (Separabl (None, 24, 24, 10)        140       \n_________________________________________________________________\nactivation_4 (Activation)    (None, 24, 24, 10)        0         \n_________________________________________________________________\ndropout_4 (Dropout)          (None, 24, 24, 10)        0         \n_________________________________________________________________\nbatch_normalization_6 (Batch (None, 24, 24, 10)        40        \n_________________________________________________________________\nseparable_conv2d_9 (Separabl (None, 24, 24, 20)        230       \n_________________________________________________________________\nseparable_conv2d_10 (Separab (None, 24, 24, 20)        440       \n_________________________________________________________________\nactivation_5 (Activation)    (None, 24, 24, 20)        0         \n_________________________________________________________________\ndropout_5 (Dropout)          (None, 24, 24, 20)        0         \n_________________________________________________________________\nbatch_normalization_7 (Batch (None, 24, 24, 20)        80        \n_________________________________________________________________\nseparable_conv2d_11 (Separab (None, 22, 24, 20)        480       \n_________________________________________________________________\nseparable_conv2d_12 (Separab (None, 22, 22, 20)        480       \n_________________________________________________________________\nactivation_6 (Activation)    (None, 22, 22, 20)        0         \n_________________________________________________________________\ndropout_6 (Dropout)          (None, 22, 22, 20)        0         \n_________________________________________________________________\nbatch_normalization_8 (Batch (None, 22, 22, 20)        80        \n_________________________________________________________________\nseparable_conv2d_13 (Separab (None, 22, 22, 30)        650       \n_________________________________________________________________\nseparable_conv2d_14 (Separab (None, 22, 22, 30)        960       \n_________________________________________________________________\nactivation_7 (Activation)    (None, 22, 22, 30)        0         \n_________________________________________________________________\ndropout_7 (Dropout)          (None, 22, 22, 30)        0         \n_________________________________________________________________\nbatch_normalization_9 (Batch (None, 22, 22, 30)        120       \n_________________________________________________________________\nseparable_conv2d_15 (Separab (None, 20, 22, 30)        1020      \n_________________________________________________________________\nseparable_conv2d_16 (Separab (None, 20, 20, 30)        1020      \n_________________________________________________________________\nactivation_8 (Activation)    (None, 20, 20, 30)        0         \n_________________________________________________________________\ndropout_8 (Dropout)          (None, 20, 20, 30)        0         \n_________________________________________________________________\nbatch_normalization_10 (Batc (None, 20, 20, 30)        120       \n_________________________________________________________________\nseparable_conv2d_17 (Separab (None, 20, 20, 40)        1270      \n_________________________________________________________________\nseparable_conv2d_18 (Separab (None, 20, 20, 40)        1680      \n_________________________________________________________________\nactivation_9 (Activation)    (None, 20, 20, 40)        0         \n_________________________________________________________________\ndropout_9 (Dropout)          (None, 20, 20, 40)        0         \n_________________________________________________________________\nbatch_normalization_11 (Batc (None, 20, 20, 40)        160       \n_________________________________________________________________\nseparable_conv2d_19 (Separab (None, 18, 20, 40)        1760      \n_________________________________________________________________\nseparable_conv2d_20 (Separab (None, 18, 18, 40)        1760      \n_________________________________________________________________\nactivation_10 (Activation)   (None, 18, 18, 40)        0         \n_________________________________________________________________\ndropout_10 (Dropout)         (None, 18, 18, 40)        0         \n_________________________________________________________________\nbatch_normalization_12 (Batc (None, 18, 18, 40)        160       \n_________________________________________________________________\nseparable_conv2d_21 (Separab (None, 18, 18, 25)        1065      \n_________________________________________________________________\nseparable_conv2d_22 (Separab (None, 18, 18, 25)        675       \n_________________________________________________________________\nactivation_11 (Activation)   (None, 18, 18, 25)        0         \n_________________________________________________________________\ndropout_11 (Dropout)         (None, 18, 18, 25)        0         \n_________________________________________________________________\nbatch_normalization_13 (Batc (None, 18, 18, 25)        100       \n_________________________________________________________________\nseparable_conv2d_23 (Separab (None, 16, 18, 25)        725       \n_________________________________________________________________\nseparable_conv2d_24 (Separab (None, 16, 16, 25)        725       \n_________________________________________________________________\nactivation_12 (Activation)   (None, 16, 16, 25)        0         \n_________________________________________________________________\ndropout_12 (Dropout)         (None, 16, 16, 25)        0         \n_________________________________________________________________\nbatch_normalization_14 (Batc (None, 16, 16, 25)        100       \n_________________________________________________________________\nseparable_conv2d_25 (Separab (None, 16, 16, 20)        545       \n_________________________________________________________________\nseparable_conv2d_26 (Separab (None, 16, 16, 20)        440       \n_________________________________________________________________\nactivation_13 (Activation)   (None, 16, 16, 20)        0         \n_________________________________________________________________\ndropout_13 (Dropout)         (None, 16, 16, 20)        0         \n_________________________________________________________________\nbatch_normalization_15 (Batc (None, 16, 16, 20)        80        \n_________________________________________________________________\nseparable_conv2d_27 (Separab (None, 14, 16, 20)        480       \n_________________________________________________________________\nseparable_conv2d_28 (Separab (None, 14, 14, 20)        480       \n_________________________________________________________________\nactivation_14 (Activation)   (None, 14, 14, 20)        0         \n_________________________________________________________________\ndropout_14 (Dropout)         (None, 14, 14, 20)        0         \n_________________________________________________________________\nbatch_normalization_16 (Batc (None, 14, 14, 20)        80        \n_________________________________________________________________\nseparable_conv2d_29 (Separab (None, 1, 14, 10)         490       \n_________________________________________________________________\nseparable_conv2d_30 (Separab (None, 1, 1, 10)          250       \n_________________________________________________________________\nactivation_15 (Activation)   (None, 1, 1, 10)          0         \n_________________________________________________________________\nflatten_1 (Flatten)          (None, 10)                0         \n_________________________________________________________________\nactivation_16 (Activation)   (None, 10)                0         \n=================================================================\nTotal params: 19,434\nTrainable params: 18,830\nNon-trainable params: 604\n_________________________________________________________________\n",
          "name": "stdout"
        }
      ]
    },
    {
      "metadata": {
        "trusted": true,
        "_uuid": "d4cb2698f9c3d9a44f84d33d1dbba44e803da279",
        "scrolled": true
      },
      "cell_type": "code",
      "source": "augment=False\nbatch_size,epochs=(32,5) #10 epochs\nmodel_train()",
      "execution_count": 13,
      "outputs": [
        {
          "output_type": "stream",
          "text": "Train on 60000 samples, validate on 10000 samples\nEpoch 1/5\n60000/60000 [==============================] - 162s 3ms/step - loss: 0.4633 - acc: 0.8496 - val_loss: 0.1562 - val_acc: 0.9529\nEpoch 2/5\n60000/60000 [==============================] - 156s 3ms/step - loss: 0.1319 - acc: 0.9584 - val_loss: 0.0675 - val_acc: 0.9785\nEpoch 3/5\n60000/60000 [==============================] - 149s 2ms/step - loss: 0.1029 - acc: 0.9685 - val_loss: 0.0760 - val_acc: 0.9746\nEpoch 4/5\n60000/60000 [==============================] - 177s 3ms/step - loss: 0.0881 - acc: 0.9730 - val_loss: 0.0479 - val_acc: 0.9842\nEpoch 5/5\n60000/60000 [==============================] - 147s 2ms/step - loss: 0.0804 - acc: 0.9752 - val_loss: 0.0544 - val_acc: 0.9830\n",
          "name": "stdout"
        }
      ]
    },
    {
      "metadata": {
        "trusted": true,
        "scrolled": true,
        "_uuid": "d94a1e1e646c9899b2f3b9b351d94a5a5d741e18"
      },
      "cell_type": "code",
      "source": "batch_size,epochs=(64,5) #10 epochs\nmodel_train()",
      "execution_count": 14,
      "outputs": [
        {
          "output_type": "stream",
          "text": "Train on 60000 samples, validate on 10000 samples\nEpoch 1/5\n60000/60000 [==============================] - 113s 2ms/step - loss: 0.0632 - acc: 0.9799 - val_loss: 0.0444 - val_acc: 0.9859\nEpoch 2/5\n60000/60000 [==============================] - 102s 2ms/step - loss: 0.0621 - acc: 0.9811 - val_loss: 0.0396 - val_acc: 0.9873\nEpoch 3/5\n60000/60000 [==============================] - 96s 2ms/step - loss: 0.0586 - acc: 0.9818 - val_loss: 0.0426 - val_acc: 0.9862\nEpoch 4/5\n60000/60000 [==============================] - 105s 2ms/step - loss: 0.0584 - acc: 0.9815 - val_loss: 0.0438 - val_acc: 0.9866\nEpoch 5/5\n60000/60000 [==============================] - 105s 2ms/step - loss: 0.0568 - acc: 0.9821 - val_loss: 0.0449 - val_acc: 0.9858\n",
          "name": "stdout"
        }
      ]
    },
    {
      "metadata": {
        "trusted": true,
        "_uuid": "784234529b04befda35811bde095ae223b687821"
      },
      "cell_type": "code",
      "source": "batch_size,epochs=(128,5) #10 epochs\nmodel_train()",
      "execution_count": 15,
      "outputs": [
        {
          "output_type": "stream",
          "text": "Train on 60000 samples, validate on 10000 samples\nEpoch 1/5\n60000/60000 [==============================] - 76s 1ms/step - loss: 0.0470 - acc: 0.9845 - val_loss: 0.0371 - val_acc: 0.9881\nEpoch 2/5\n60000/60000 [==============================] - 75s 1ms/step - loss: 0.0461 - acc: 0.9849 - val_loss: 0.0316 - val_acc: 0.9905\nEpoch 3/5\n60000/60000 [==============================] - 79s 1ms/step - loss: 0.0456 - acc: 0.9853 - val_loss: 0.0308 - val_acc: 0.9897\nEpoch 4/5\n60000/60000 [==============================] - 81s 1ms/step - loss: 0.0450 - acc: 0.9853 - val_loss: 0.0358 - val_acc: 0.9884\nEpoch 5/5\n60000/60000 [==============================] - 79s 1ms/step - loss: 0.0441 - acc: 0.9862 - val_loss: 0.0347 - val_acc: 0.9897\n",
          "name": "stdout"
        }
      ]
    },
    {
      "metadata": {
        "trusted": true,
        "_uuid": "70007770753e2787c5dc8c5b4123a6cc46c5806c"
      },
      "cell_type": "code",
      "source": "batch_size,epochs=(256,5) #10 epochs\nmodel_train()",
      "execution_count": 16,
      "outputs": [
        {
          "output_type": "stream",
          "text": "Train on 60000 samples, validate on 10000 samples\nEpoch 1/5\n60000/60000 [==============================] - 66s 1ms/step - loss: 0.0397 - acc: 0.9871 - val_loss: 0.0306 - val_acc: 0.9899\nEpoch 2/5\n60000/60000 [==============================] - 66s 1ms/step - loss: 0.0391 - acc: 0.9873 - val_loss: 0.0271 - val_acc: 0.9909\nEpoch 3/5\n60000/60000 [==============================] - 68s 1ms/step - loss: 0.0389 - acc: 0.9874 - val_loss: 0.0262 - val_acc: 0.9921\nEpoch 4/5\n60000/60000 [==============================] - 70s 1ms/step - loss: 0.0377 - acc: 0.9882 - val_loss: 0.0289 - val_acc: 0.9909\nEpoch 5/5\n60000/60000 [==============================] - 67s 1ms/step - loss: 0.0393 - acc: 0.9874 - val_loss: 0.0265 - val_acc: 0.9913\n",
          "name": "stdout"
        }
      ]
    },
    {
      "metadata": {
        "trusted": true,
        "_uuid": "80319fb44e0971bcc7228bcf94cafef93eb6ca8d"
      },
      "cell_type": "code",
      "source": "batch_size,epochs=(512,5) #10 epochs\nmodel_train()",
      "execution_count": 20,
      "outputs": [
        {
          "output_type": "stream",
          "text": "Train on 60000 samples, validate on 10000 samples\nEpoch 1/1\n60000/60000 [==============================] - 61s 1ms/step - loss: 0.0335 - acc: 0.9891 - val_loss: 0.0238 - val_acc: 0.9919\n",
          "name": "stdout"
        }
      ]
    },
    {
      "metadata": {
        "trusted": true,
        "_uuid": "57e574d3e7c85417d0694296c2412cd01b57f978"
      },
      "cell_type": "code",
      "source": "plot_history(hist)\nscore = model.evaluate(X_test, Y_test, verbose=0)\nprint(score) # 9887, 9861, 9791",
      "execution_count": 18,
      "outputs": [
        {
          "output_type": "stream",
          "text": "[0.03466653528533061, 0.9898]\n",
          "name": "stdout"
        },
        {
          "output_type": "display_data",
          "data": {
            "text/plain": "<Figure size 432x288 with 1 Axes>",
            "image/png": "[encoded data removed]"
          },
          "metadata": {
            "needs_background": "light"
          }
        }
      ]
    },
    {
      "metadata": {
        "trusted": true,
        "_uuid": "1ba7c8103e26ab9a5e44db977f6e40cc0e53b1b2"
      },
      "cell_type": "code",
      "source": "import numpy as np\nfrom matplotlib import pyplot as plt\nfrom keras import backend as K\n%matplotlib inline\n# util function to convert a tensor into a valid image\ndef deprocess_image(x):\n    # normalize tensor: center on 0., ensure std is 0.1\n    x -= x.mean()\n    x /= (x.std() + 1e-5)\n    x *= 0.1\n\n    # clip to [0, 1]\n    x += 0.5\n    x = np.clip(x, 0, 1)\n\n    # convert to RGB array\n    x *= 255\n    #x = x.transpose((1, 2, 0))\n    x = np.clip(x, 0, 255).astype('uint8')\n    return x\n\ndef vis_img_in_filter(img = np.array(X_train[2]).reshape((1, 28, 28, 1)).astype(np.float64), \n                      layer_name = 'conv2d_14'):\n    layer_dict = dict([(layer.name, layer) for layer in model.layers])\n    layer_output = layer_dict[layer_name].output\n    img_ascs = list()\n    for filter_index in range(layer_output.shape[3]):\n        # build a loss function that maximizes the activation\n        # of the nth filter of the layer considered\n        loss = K.mean(layer_output[:, :, :, filter_index])\n\n        # compute the gradient of the input picture wrt this loss\n        grads = K.gradients(loss, model.input)[0]\n\n        # normalization trick: we normalize the gradient\n        grads /= (K.sqrt(K.mean(K.square(grads))) + 1e-5)\n\n        # this function returns the loss and grads given the input picture\n        iterate = K.function([model.input], [loss, grads])\n\n        # step size for gradient ascent\n        step = 5.\n\n        img_asc = np.array(img)\n        # run gradient ascent for 20 steps\n        for i in range(20):\n            loss_value, grads_value = iterate([img_asc])\n            img_asc += grads_value * step\n\n        img_asc = img_asc[0]\n        img_ascs.append(deprocess_image(img_asc).reshape((28, 28)))\n        \n    if layer_output.shape[3] >= 35:\n        plot_x, plot_y = 6, 6\n    elif layer_output.shape[3] >= 23:\n        plot_x, plot_y = 4, 6\n    elif layer_output.shape[3] >= 11:\n        plot_x, plot_y = 2, 6\n    else:\n        plot_x, plot_y = 1, 2\n    fig, ax = plt.subplots(plot_x, plot_y, figsize = (12, 12))\n    ax[0, 0].imshow(img.reshape((28, 28)), cmap = 'gray')\n    ax[0, 0].set_title('Input image')\n    fig.suptitle('Input image and %s filters' % (layer_name,))\n    fig.tight_layout(pad = 0.3, rect = [0, 0, 0.9, 0.9])\n    for (x, y) in [(i, j) for i in range(plot_x) for j in range(plot_y)]:\n        if x == 0 and y == 0:\n            continue\n        ax[x, y].imshow(img_ascs[x * plot_y + y - 1], cmap = 'gray')\n        ax[x, y].set_title('filter %d' % (x * plot_y + y - 1))\n",
      "execution_count": 19,
      "outputs": []
    },
    {
      "metadata": {
        "trusted": true,
        "_uuid": "578a615cc0b298afd83d79c86d6c1f7aeffabc93"
      },
      "cell_type": "code",
      "source": "# layers = [layer.name for layer in model.layers]\n# print(layers)",
      "execution_count": null,
      "outputs": []
    },
    {
      "metadata": {
        "trusted": true,
        "_uuid": "b439892287722e554756db35899ec144b1b7f97c"
      },
      "cell_type": "code",
      "source": "# vis_img_in_filter(layer_name='conv2d_11')",
      "execution_count": null,
      "outputs": []
    },
    {
      "metadata": {
        "trusted": true,
        "_uuid": "6f2aa7be296b57f5048208d11e38e9d414a101e6"
      },
      "cell_type": "code",
      "source": "# vis_img_in_filter(layer_name='conv2d_15')",
      "execution_count": null,
      "outputs": []
    },
    {
      "metadata": {
        "trusted": true,
        "_uuid": "550ae2afa0d13f9a5a55d6277ff6233f28e5b8d1"
      },
      "cell_type": "code",
      "source": "",
      "execution_count": null,
      "outputs": []
    }
  ],
  "metadata": {
    "kernelspec": {
      "display_name": "Python 3",
      "language": "python",
      "name": "python3"
    },
    "language_info": {
      "name": "python",
      "version": "3.6.6",
      "mimetype": "text/x-python",
      "codemirror_mode": {
        "name": "ipython",
        "version": 3
      },
      "pygments_lexer": "ipython3",
      "nbconvert_exporter": "python",
      "file_extension": ".py"
    }
  },
  "nbformat": 4,
  "nbformat_minor": 1
}